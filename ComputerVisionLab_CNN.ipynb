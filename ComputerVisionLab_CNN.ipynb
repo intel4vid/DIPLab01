{
 "cells": [
  {
   "cell_type": "markdown",
   "metadata": {},
   "source": [
    "# Computer Vision Lab\n",
    "\n",
    "## Introduction\n",
    "\n",
    "This hands on lab will introduce you with the concept of convolutional neural networks used for image classification. Our goal will be to build a ConvNet with the high level of accuracy. With convolutional networks, the focus is on learning the filter weights instead of learning individually fully connected pair-wise (between inputs and outputs) weights.\n",
    "\n",
    "The first dataset is the MNIST dataset which is comprised of images of handwritten numbers from 0 to 9. This dataset will be used as a training, validation and test dataset. It is shown below. The next dataset we'll be working with is the Fashion-MNIST, dataset of 60,000 28x28 grayscale images of 10 fashion categories, along with a test set of 10,000 images. The last dataset is the CIFAR10 dataset. This is a dataset of 50,000 32x32 color training images and 10,000 test images, labeled over 10 categories.\n",
    "\n",
    "MNIST\n",
    "<br>\n",
    "<img src=\"http://petr-marek.com/wp-content/uploads/2017/07/mnist.png\" width=\"480\">\n",
    "<br>\n",
    "\n",
    "Fashion MNIST\n",
    "<br>\n",
    "<img src=\"images/fashion.jpg\" width=\"480\" >\n",
    "<br>\n",
    "\n",
    "CIFAR10\n",
    "<br>\n",
    "<img src=\"images/CIFAR.png\" width=\"480\">\n",
    "<br>\n",
    "<br>\n",
    "\n",
    "Keras API with Tensorflow as a backend will be used to build the CNN network. Before building and training a network you will be dealing with dataset analysis, visualisation and preprocessing. After preparing the data a process of designing, building and evaluating the network will be performed. We will experiment with different models by changing their parameters."
   ]
  },
  {
   "cell_type": "code",
   "execution_count": 2,
   "metadata": {},
   "outputs": [],
   "source": [
    "import os\n",
    "import time\n",
    "import numpy as np\n",
    "import pandas as pd\n",
    "import matplotlib.pyplot as plt\n",
    "import seaborn as sns\n",
    "\n",
    "\n",
    "#from sklearn.model_selection import train_test_split\n",
    "#from sklearn.metrics import confusion_matrix\n",
    "\n",
    "import tensorflow as tf\n",
    "from tensorflow import keras\n",
    "from tensorflow.keras import layers\n",
    "from keras.utils import to_categorical\n",
    "from keras.models import Sequential\n",
    "from keras.layers import Dense, Dropout, Flatten, Conv2D\n",
    "from keras.optimizers import RMSprop\n",
    "from keras.layers import BatchNormalization\n",
    "from keras.datasets import mnist, fashion_mnist, cifar10"
   ]
  },
  {
   "cell_type": "markdown",
   "metadata": {},
   "source": [
    "## Data download\n",
    "\n",
    "The MNIST database contains standard handwritten digits that have been widely used for training and testing of machine learning algorithms. It has a training set of 60,000 images and a test set of 10,000 images with each image being 28 x 28 pixels. This set is easy to use visualize and train on any computer. The MNIST dataset is usually provided and downloadable as part of the Keras library.\n"
   ]
  },
  {
   "cell_type": "markdown",
   "metadata": {},
   "source": [
    "## MNIST data"
   ]
  },
  {
   "cell_type": "code",
   "execution_count": 3,
   "metadata": {},
   "outputs": [],
   "source": [
    "#download MNIST data and split into train and test sets\n",
    "# mnist.load_data()\n",
    "(X_train, y_train), (X_test, y_test) = mnist.load_data()"
   ]
  },
  {
   "cell_type": "markdown",
   "metadata": {},
   "source": [
    "## Fashion_MNIST data"
   ]
  },
  {
   "cell_type": "code",
   "execution_count": 250,
   "metadata": {},
   "outputs": [],
   "source": [
    "# fashion_mnist.load_data()\n",
    "(X_train, y_train), (X_test, y_test) = fashion_mnist.load_data()"
   ]
  },
  {
   "cell_type": "markdown",
   "metadata": {},
   "source": [
    "## cifar10 data"
   ]
  },
  {
   "cell_type": "code",
   "execution_count": 348,
   "metadata": {},
   "outputs": [],
   "source": [
    "# cifar10.load_data()\n",
    "(X_train, y_train), (X_test, y_test) = cifar10.load_data()"
   ]
  },
  {
   "cell_type": "code",
   "execution_count": 350,
   "metadata": {},
   "outputs": [],
   "source": [
    "y_train =  [y for x in y_train for y in x]\n",
    "y_test = [y for x in y_test for y in x]"
   ]
  },
  {
   "cell_type": "markdown",
   "metadata": {},
   "source": [
    "# Dataset reduction"
   ]
  },
  {
   "cell_type": "code",
   "execution_count": 145,
   "metadata": {},
   "outputs": [],
   "source": [
    "X_train = X_train[:10000]\n",
    "y_train = y_train[:10000]\n",
    "X_test = X_test[:1000]\n",
    "y_test = y_test[:1000]"
   ]
  },
  {
   "cell_type": "markdown",
   "metadata": {},
   "source": [
    "## Explore the train and test data"
   ]
  },
  {
   "cell_type": "code",
   "execution_count": 4,
   "metadata": {
    "scrolled": true
   },
   "outputs": [
    {
     "name": "stdout",
     "output_type": "stream",
     "text": [
      "The shape of training set is: (60000, 28, 28)\n",
      "The shape of test set is: (10000, 28, 28)\n",
      "\n",
      "The size of training set is: 45937.5 kB\n",
      "The size of test set is: 7656.25 kB\n",
      "\n",
      "The training set is: 3 - dimensional array\n",
      "The test set is: 3 - dimensional array\n",
      "\n",
      "The training set type is: uint8\n",
      "The test set type is: uint8\n",
      "\n"
     ]
    }
   ],
   "source": [
    "#check the shape, size and dtype of loaded dataset\n",
    "print(f'The shape of training set is: {X_train.shape}')\n",
    "print(f'The shape of test set is: {X_test.shape}\\n')\n",
    "\n",
    "print(f'The size of training set is: {X_train.size/1024} kB')\n",
    "print(f'The size of test set is: {X_test.size/1024} kB\\n')\n",
    "\n",
    "\n",
    "print(f'The training set is: {X_train.ndim} - dimensional array')\n",
    "print(f'The test set is: {X_test.ndim} - dimensional array\\n')\n",
    "\n",
    "print(f'The training set type is: {X_train.dtype}')\n",
    "print(f'The test set type is: {X_test.dtype}\\n')"
   ]
  },
  {
   "cell_type": "code",
   "execution_count": 10,
   "metadata": {},
   "outputs": [
    {
     "name": "stdout",
     "output_type": "stream",
     "text": [
      "[[  0   0   0   0   0   0   0   0   0   0   0   0   0   0   0   0   0   0\n",
      "    0   0   0   0   0   0   0   0   0   0]\n",
      " [  0   0   0   0   0   0   0   0   0   0   0   0   0   0   0   0   0   0\n",
      "    0   0   0   0   0   0   0   0   0   0]\n",
      " [  0   0   0   0   0   0   0   0   0   0   0   0   0   0   0   0   0   0\n",
      "    0   0   0   0   0   0   0   0   0   0]\n",
      " [  0   0   0   0   0   0   0   0   0   0   0   0   0   0   0   0   0   0\n",
      "    0   0   0   0   0   0   0   0   0   0]\n",
      " [  0   0   0   0   0   0   0   0   0   0   0   0   0   0   0   0   0   0\n",
      "    0   0   0   0   0   0   0   0   0   0]\n",
      " [  0   0   0   0   0   0   0   0 230 255 103   0   0   0   0   0   0   0\n",
      "    0   0   0   0   0   0   0   0   0   0]\n",
      " [  0   0   0   0   0   0   0 103 253 253 168   0   0   0   0   0   0  79\n",
      "  103   0   0   0   0   0   0   0   0   0]\n",
      " [  0   0   0   0   0   0   0 105 253 253 168   0   0   0   0   0  44 249\n",
      "  252 216   0   0   0   0   0   0   0   0]\n",
      " [  0   0   0   0   0   0   0 158 253 253 168   0   0   0   0   0  46 253\n",
      "  253 238  43   0   0   0   0   0   0   0]\n",
      " [  0   0   0   0   0   0   0 235 253 253 102   0   0   0   0   0  46 253\n",
      "  253 253 104   0   0   0   0   0   0   0]\n",
      " [  0   0   0   0   0   0  98 251 253 253 168   0   0   0   0   0  46 253\n",
      "  253 253 217   0   0   0   0   0   0   0]\n",
      " [  0   0   0   0   0   0 112 253 253 253  58   0   0   0   0   0  46 253\n",
      "  253 253 190   0   0   0   0   0   0   0]\n",
      " [  0   0   0   0   0   0  20 238 253 253  38   0  63  79 176 209 217 253\n",
      "  253 253 104   0   0   0   0   0   0   0]\n",
      " [  0   0   0   0   0   0   0 235 253 253 210 202 243 253 253 253 253 253\n",
      "  253 246  75   0   0   0   0   0   0   0]\n",
      " [  0   0   0   0   0   0   0 235 253 253 253 253 253 253 253 253 253 253\n",
      "  253 227   0   0   0   0   0   0   0   0]\n",
      " [  0   0   0   0   0   0   0 205 253 253 253 253 253 253 253 211 205 253\n",
      "  253 227   0   0   0   0   0   0   0   0]\n",
      " [  0   0   0   0   0   0   0 105 253 253 253 237 201 101  71  20  46 253\n",
      "  253 246  75   0   0   0   0   0   0   0]\n",
      " [  0   0   0   0   0   0   0  32  78  78  78  54   0   0   0   0  46 253\n",
      "  253 253 104   0   0   0   0   0   0   0]\n",
      " [  0   0   0   0   0   0   0   0   0   0   0   0   0   0   0   0  46 253\n",
      "  253 253 104   0   0   0   0   0   0   0]\n",
      " [  0   0   0   0   0   0   0   0   0   0   0   0   0   0   0   0  46 253\n",
      "  253 253 121   0   0   0   0   0   0   0]\n",
      " [  0   0   0   0   0   0   0   0   0   0   0   0   0   0   0   0  18 201\n",
      "  253 253 234   0   0   0   0   0   0   0]\n",
      " [  0   0   0   0   0   0   0   0   0   0   0   0   0   0   0   0   0 170\n",
      "  253 253 234   0   0   0   0   0   0   0]\n",
      " [  0   0   0   0   0   0   0   0   0   0   0   0   0   0   0   0   0 163\n",
      "  253 253 234   0   0   0   0   0   0   0]\n",
      " [  0   0   0   0   0   0   0   0   0   0   0   0   0   0   0   0   0  39\n",
      "  251 253 234   0   0   0   0   0   0   0]\n",
      " [  0   0   0   0   0   0   0   0   0   0   0   0   0   0   0   0   0   0\n",
      "  163 253 166   0   0   0   0   0   0   0]\n",
      " [  0   0   0   0   0   0   0   0   0   0   0   0   0   0   0   0   0   0\n",
      "    0   0   0   0   0   0   0   0   0   0]\n",
      " [  0   0   0   0   0   0   0   0   0   0   0   0   0   0   0   0   0   0\n",
      "    0   0   0   0   0   0   0   0   0   0]\n",
      " [  0   0   0   0   0   0   0   0   0   0   0   0   0   0   0   0   0   0\n",
      "    0   0   0   0   0   0   0   0   0   0]]\n",
      "60000\n"
     ]
    },
    {
     "data": {
      "image/png": "[encoded data removed]",
      "text/plain": [
       "<Figure size 432x288 with 1 Axes>"
      ]
     },
     "metadata": {
      "needs_background": "light"
     },
     "output_type": "display_data"
    }
   ],
   "source": [
    "#chek the dataset image\n",
    "import random\n",
    "randomSample=random.choice(X_train)\n",
    "print(randomSample)\n",
    "plt.imshow(randomSample, cmap=\"gray\")\n",
    "plt.plot()\n",
    "print(X_train.shape[0])\n"
   ]
  },
  {
   "cell_type": "markdown",
   "metadata": {},
   "source": [
    "## Visualize training data from MNIST dataset"
   ]
  },
  {
   "cell_type": "code",
   "execution_count": 11,
   "metadata": {
    "scrolled": true
   },
   "outputs": [
    {
     "name": "stdout",
     "output_type": "stream",
     "text": [
      "Sample number is 376\n",
      "\n",
      "Image number 376 in MNIST dataset has the following (28, 28)\n",
      "\n",
      "Shape of the image is (28, 28) and image is <class 'numpy.ndarray'> array\n",
      "\n"
     ]
    }
   ],
   "source": [
    "# Plot a random image from the training set \n",
    "# np.random.randint returns random integers between 0 and 59999.\n",
    "sampleNo = np.random.randint(0,10000)\n",
    "print(f'Sample number is {sampleNo}\\n')\n",
    "sampleImg=X_train[sampleNo]\n",
    "print(f'Image number {sampleNo} in MNIST dataset has the following {sampleImg.shape}\\n')\n",
    "#print(sampleImg,'\\n')\n",
    "print(f'Shape of the image is {sampleImg.shape} and image is {type(sampleImg)} array\\n')"
   ]
  },
  {
   "cell_type": "markdown",
   "metadata": {},
   "source": [
    "It can be helpful to plot and visualise the data before proceeding with further data handling and model design. This can help us avoid issues later during the model training. "
   ]
  },
  {
   "cell_type": "code",
   "execution_count": 13,
   "metadata": {},
   "outputs": [
    {
     "name": "stdout",
     "output_type": "stream",
     "text": [
      "0 AxesSubplot(0.125,0.125;0.110714x0.755)\n",
      "1 AxesSubplot(0.257857,0.125;0.110714x0.755)\n",
      "2 AxesSubplot(0.390714,0.125;0.110714x0.755)\n",
      "3 AxesSubplot(0.523571,0.125;0.110714x0.755)\n",
      "4 AxesSubplot(0.656429,0.125;0.110714x0.755)\n",
      "5 AxesSubplot(0.789286,0.125;0.110714x0.755)\n"
     ]
    },
    {
     "data": {
      "image/png": "[encoded data removed]",
      "text/plain": [
       "<Figure size 1080x720 with 6 Axes>"
      ]
     },
     "metadata": {
      "needs_background": "light"
     },
     "output_type": "display_data"
    }
   ],
   "source": [
    "fig,axes=plt.subplots(nrows=1,ncols=6, figsize=(15,10))\n",
    "for i,ax in enumerate(axes):\n",
    "    print(i, ax)\n",
    "    ax.imshow(X_train[i], cmap=\"gray\")\n",
    "    ax.axis()    \n",
    "plt.show()"
   ]
  },
  {
   "cell_type": "markdown",
   "metadata": {},
   "source": [
    "The shape of images in MNIST dataset is 28 x 28 x 1 pixels which means that the convolutional neural network will be able to run over each image in our dataset pretty fast."
   ]
  },
  {
   "cell_type": "markdown",
   "metadata": {},
   "source": [
    "## Visualize labels from training data set"
   ]
  },
  {
   "cell_type": "markdown",
   "metadata": {},
   "source": [
    "For visualisation of labels data we'll perform transformation to Pandas data frame."
   ]
  },
  {
   "cell_type": "code",
   "execution_count": 15,
   "metadata": {},
   "outputs": [
    {
     "data": {
      "text/plain": [
       "array([5, 0, 4, ..., 5, 6, 8], dtype=uint8)"
      ]
     },
     "execution_count": 15,
     "metadata": {},
     "output_type": "execute_result"
    }
   ],
   "source": [
    "y_train"
   ]
  },
  {
   "cell_type": "code",
   "execution_count": 16,
   "metadata": {},
   "outputs": [],
   "source": [
    "y_trains=pd.Series(y_train)"
   ]
  },
  {
   "cell_type": "code",
   "execution_count": 17,
   "metadata": {},
   "outputs": [
    {
     "name": "stdout",
     "output_type": "stream",
     "text": [
      "1    6742\n",
      "7    6265\n",
      "3    6131\n",
      "2    5958\n",
      "9    5949\n",
      "0    5923\n",
      "6    5918\n",
      "8    5851\n",
      "4    5842\n",
      "5    5421\n",
      "dtype: int64\n"
     ]
    }
   ],
   "source": [
    "# show the frequency distribution of label values \n",
    "print(y_trains.value_counts())"
   ]
  },
  {
   "cell_type": "code",
   "execution_count": 18,
   "metadata": {},
   "outputs": [
    {
     "name": "stdout",
     "output_type": "stream",
     "text": [
      "count    60000.000000\n",
      "mean         4.453933\n",
      "std          2.889270\n",
      "min          0.000000\n",
      "25%          2.000000\n",
      "50%          4.000000\n",
      "75%          7.000000\n",
      "max          9.000000\n",
      "dtype: float64\n"
     ]
    }
   ],
   "source": [
    "#show statistics \n",
    "print(y_trains.describe())"
   ]
  },
  {
   "cell_type": "markdown",
   "metadata": {},
   "source": [
    "## Plot the frequency distribution of training label values"
   ]
  },
  {
   "cell_type": "code",
   "execution_count": 19,
   "metadata": {
    "scrolled": true
   },
   "outputs": [
    {
     "data": {
      "image/png": "[encoded data removed]",
      "text/plain": [
       "<Figure size 432x288 with 1 Axes>"
      ]
     },
     "metadata": {
      "needs_background": "light"
     },
     "output_type": "display_data"
    }
   ],
   "source": [
    "g = sns.countplot(x=y_train)"
   ]
  },
  {
   "cell_type": "markdown",
   "metadata": {},
   "source": [
    "## Plot the frequency distribution of test label values"
   ]
  },
  {
   "cell_type": "code",
   "execution_count": 20,
   "metadata": {},
   "outputs": [
    {
     "data": {
      "image/png": "[encoded data removed]",
      "text/plain": [
       "<Figure size 432x288 with 1 Axes>"
      ]
     },
     "metadata": {
      "needs_background": "light"
     },
     "output_type": "display_data"
    }
   ],
   "source": [
    "y_tests=pd.Series(y_train)\n",
    "g = sns.countplot(x=y_tests)"
   ]
  },
  {
   "cell_type": "markdown",
   "metadata": {},
   "source": [
    "## Preprocessing of training and test data\n",
    "This step requires declaring a dimension for the depth of the input image. As shown previosly images in our data set have the following shape (60000, 28, 28). The first parameters reffers to number of images in dataset and other two parameters represent image width and image height. Hence, the depth parameter for images is missing. In this case depth is 1 because we are working with grayscale images. In case of color images the depth parameter would be 3. "
   ]
  },
  {
   "cell_type": "code",
   "execution_count": 23,
   "metadata": {},
   "outputs": [],
   "source": [
    "# Reshapes data\n",
    "x_train = X_train.reshape(X_train.shape[0], 28, 28, 1)\n",
    "x_test = X_test.reshape(X_test.shape[0], 28, 28, 1)"
   ]
  },
  {
   "cell_type": "code",
   "execution_count": 22,
   "metadata": {},
   "outputs": [
    {
     "ename": "ValueError",
     "evalue": "cannot reshape array of size 47040000 into shape (60000,32,32,3)",
     "output_type": "error",
     "traceback": [
      "\u001b[1;31m---------------------------------------------------------------------------\u001b[0m",
      "\u001b[1;31mValueError\u001b[0m                                Traceback (most recent call last)",
      "\u001b[1;32m<ipython-input-22-8665877d055e>\u001b[0m in \u001b[0;36m<module>\u001b[1;34m\u001b[0m\n\u001b[0;32m      1\u001b[0m \u001b[1;31m# Reshapes data in case of cifar 10 which has 32 by 32 by 3 channels - color images\u001b[0m\u001b[1;33m\u001b[0m\u001b[1;33m\u001b[0m\u001b[1;33m\u001b[0m\u001b[0m\n\u001b[1;32m----> 2\u001b[1;33m \u001b[0mx_train\u001b[0m \u001b[1;33m=\u001b[0m \u001b[0mX_train\u001b[0m\u001b[1;33m.\u001b[0m\u001b[0mreshape\u001b[0m\u001b[1;33m(\u001b[0m\u001b[0mX_train\u001b[0m\u001b[1;33m.\u001b[0m\u001b[0mshape\u001b[0m\u001b[1;33m[\u001b[0m\u001b[1;36m0\u001b[0m\u001b[1;33m]\u001b[0m\u001b[1;33m,\u001b[0m \u001b[1;36m32\u001b[0m\u001b[1;33m,\u001b[0m \u001b[1;36m32\u001b[0m\u001b[1;33m,\u001b[0m \u001b[1;36m3\u001b[0m\u001b[1;33m)\u001b[0m\u001b[1;33m\u001b[0m\u001b[1;33m\u001b[0m\u001b[0m\n\u001b[0m\u001b[0;32m      3\u001b[0m \u001b[0mx_test\u001b[0m \u001b[1;33m=\u001b[0m \u001b[0mX_test\u001b[0m\u001b[1;33m.\u001b[0m\u001b[0mreshape\u001b[0m\u001b[1;33m(\u001b[0m\u001b[0mX_test\u001b[0m\u001b[1;33m.\u001b[0m\u001b[0mshape\u001b[0m\u001b[1;33m[\u001b[0m\u001b[1;36m0\u001b[0m\u001b[1;33m]\u001b[0m\u001b[1;33m,\u001b[0m \u001b[1;36m32\u001b[0m\u001b[1;33m,\u001b[0m \u001b[1;36m32\u001b[0m\u001b[1;33m,\u001b[0m \u001b[1;36m3\u001b[0m\u001b[1;33m)\u001b[0m\u001b[1;33m\u001b[0m\u001b[1;33m\u001b[0m\u001b[0m\n",
      "\u001b[1;31mValueError\u001b[0m: cannot reshape array of size 47040000 into shape (60000,32,32,3)"
     ]
    }
   ],
   "source": [
    "# Reshapes data in case of cifar 10 which has 32 by 32 by 3 channels - color images\n",
    "x_train = X_train.reshape(X_train.shape[0], 32, 32, 3)\n",
    "x_test = X_test.reshape(X_test.shape[0], 32, 32, 3)"
   ]
  },
  {
   "cell_type": "markdown",
   "metadata": {},
   "source": [
    "The final preprocessing step for the input data is to convert our data type to float32 and normalize our data values to the range [0, 1]"
   ]
  },
  {
   "cell_type": "code",
   "execution_count": 24,
   "metadata": {
    "scrolled": true
   },
   "outputs": [
    {
     "name": "stdout",
     "output_type": "stream",
     "text": [
      "Original training data shape: (60000, 28, 28)\n",
      "New training data shape: (60000, 28, 28, 1)\n",
      "60000 train samples\n",
      "10000 test samples\n"
     ]
    }
   ],
   "source": [
    "x_train = x_train.astype('float32')\n",
    "x_test = x_test.astype('float32')\n",
    "x_train /= 255\n",
    "x_test /= 255\n",
    "print('Original training data shape:', X_train.shape)\n",
    "print('New training data shape:', x_train.shape)\n",
    "print(x_train.shape[0], 'train samples')\n",
    "print(x_test.shape[0], 'test samples')"
   ]
  },
  {
   "cell_type": "markdown",
   "metadata": {},
   "source": [
    "## Preprocessing of labels data"
   ]
  },
  {
   "cell_type": "markdown",
   "metadata": {},
   "source": [
    "Before proceeding with preprocessing let's us check once again attributes of our labels"
   ]
  },
  {
   "cell_type": "code",
   "execution_count": 25,
   "metadata": {},
   "outputs": [
    {
     "name": "stdout",
     "output_type": "stream",
     "text": [
      "The shape of training set is: (60000,)\n",
      "The shape of test set is: (10000,)\n",
      "\n",
      "The size of training set is: 58.59375 kB\n",
      "The size of test set is: 9.765625 kB\n",
      "\n",
      "The training set is: 1 - dimensional array\n",
      "The test set is: 1 - dimensional array\n",
      "\n",
      "The training set type is: uint8\n",
      "The test set type is: uint8\n",
      "\n"
     ]
    }
   ],
   "source": [
    "#chek the shape, size and dtype of labels in dataset\n",
    "print(f'The shape of training set is: {y_train.shape}')\n",
    "print(f'The shape of test set is: {y_test.shape}\\n')\n",
    "\n",
    "print(f'The size of training set is: {y_train.size/1024} kB')\n",
    "print(f'The size of test set is: {y_test.size/1024} kB\\n')\n",
    "\n",
    "\n",
    "print(f'The training set is: {y_train.ndim} - dimensional array')\n",
    "print(f'The test set is: {y_test.ndim} - dimensional array\\n')\n",
    "\n",
    "print(f'The training set type is: {y_train.dtype}')\n",
    "print(f'The test set type is: {y_test.dtype}\\n')"
   ]
  },
  {
   "cell_type": "markdown",
   "metadata": {},
   "source": [
    "First ten labels of our data is:"
   ]
  },
  {
   "cell_type": "code",
   "execution_count": 26,
   "metadata": {},
   "outputs": [
    {
     "name": "stdout",
     "output_type": "stream",
     "text": [
      "0    5\n",
      "1    0\n",
      "2    4\n",
      "3    1\n",
      "4    9\n",
      "dtype: uint8\n",
      "[5 0 4 1 9 2 1 3 1 4 3 5 3 6 1 7 2 8 6 9 4 0 9 1 1 2 4 3 2 7 3 8 6 9 0 5 6\n",
      " 0 7 6 1 8 7 9 3 9 8 5 9 3 3 0 7 4 9 8 0 9 4 1 4 4 6 0 4 5 6 1 0 0 1 7 1 6\n",
      " 3 0 2 1 1 7 9 0 2 6 7 8 3 9 0 4 6 7 4 6 8 0 7 8 3 1]\n"
     ]
    }
   ],
   "source": [
    "#labels in the training dataset using pandas data series\n",
    "print(y_trains.head(5))\n",
    "\n",
    "#or numpy arrays\n",
    "print(y_train[:100])\n"
   ]
  },
  {
   "cell_type": "markdown",
   "metadata": {},
   "source": [
    "The y_train and y_test data are not split into 10 distinct class labels, but rather are represented as a single array with the class values. Thus, we need to preprocess class labels by converting the 1 - dimensional numpy array to 10 - dimensional array.\n",
    "\n",
    "The labels are encoded as [1-hot]( https://en.wikipedia.org/wiki/One-hot) encoding (label of 3 with 10 digits becomes `0001000000`, where the first index corresponds to digit `0` and the last one corresponds to digit `9`.\n",
    "\n",
    "![](https://www.cntk.ai/jup/cntk103a_onehot.png)"
   ]
  },
  {
   "cell_type": "code",
   "execution_count": 27,
   "metadata": {},
   "outputs": [],
   "source": [
    "Y_train = to_categorical(y_train, 10)\n",
    "Y_test = to_categorical(y_test, 10)"
   ]
  },
  {
   "cell_type": "markdown",
   "metadata": {},
   "source": [
    "Check the dimensionality of train and test labels after one hot encoding"
   ]
  },
  {
   "cell_type": "code",
   "execution_count": 28,
   "metadata": {},
   "outputs": [
    {
     "name": "stdout",
     "output_type": "stream",
     "text": [
      "(60000, 10)\n",
      "(10000, 10)\n"
     ]
    }
   ],
   "source": [
    "print(Y_train.shape)\n",
    "print(Y_test.shape)"
   ]
  },
  {
   "cell_type": "markdown",
   "metadata": {},
   "source": [
    "## Convolutional network for image classification\n",
    "Convolutional networks for classification are constructed from a sequence of convolutional layers (for image processing) and fully connected (Dense) layers (for readout). In this exercise, you will construct a small convolutional network for classification of MNIST digits. We will use the Keras library to create neural networks and to train these neural networks to classify images. These models will all be of the Sequential type, meaning that the outputs of one layer are provided as inputs only to the next layer.\n",
    "\n",
    "* Add a Conv2D layer to construct the input layer of the network. Use a kernel size of 3 by 3. \n",
    "\n",
    "* Add a Flatten layer to translate between the image processing and classification part of your network.\n",
    "\n",
    "* Add a Dropout layer as source of regularization. Regularization is used to prevent overfitting and thus reduce the generalisation error of trained model. With dropout approach a random subset of the units in a layer is being ignored during forward pass as well as during the back propagation phase. With dropout applied to the network the process of training is slower in comparison to BatchNormalization, which brings the faster training times.\n",
    "\n",
    "* Add a Batch Normalization layer as source of regularization. With Batch Normalization the output of a particular layer is normalized by rescaling the values in a way that the underlying distribution always has 0 mean and standard deviation of 1 regardless of the training batch. The algorithm solves the problem where different batches of input might produce different distributions of outputs in any given layer in the network. Because the adjustments to the weights through back-propagation depends on the activation of the units in every step of learning, this means that the network may progress very slowly through training.\n",
    "\n",
    "* Add a Dense layer to classify the different categories of numbers/clothing/object in datasets.\n",
    "\n",
    "Besides, overfitting can be prevented by dealing with more varied training data, reducing the size of our network, optimized training stopping or using less complex network.\n",
    "\n",
    "<img src=\"https://cdn-images-1.medium.com/max/1600/1*uAeANQIOQPqWZnnuH-VEyw.jpeg\" width='480'>"
   ]
  },
  {
   "cell_type": "markdown",
   "metadata": {},
   "source": [
    "The core data structures of Keras are layers and models. The simplest type of model is the Sequential model, a linear stack of layers. For more complex architectures, you should use the Keras functional API, which allows to build arbitrary graphs of layers, or write models entirely from scratch via subclasssing."
   ]
  },
  {
   "cell_type": "markdown",
   "metadata": {},
   "source": [
    "```python\n",
    "from tensorflow.keras.models import Sequential\n",
    "\n",
    "# Initialize the model object\n",
    "model = keras.Sequential()\n",
    "\n",
    "# Define the input shape\n",
    "model.add(keras.Input(shape=(64, 64, 3)))\n",
    "\n",
    "# Add a convolutional layer\n",
    "model.add(layers.Conv2D(10, kernel_size=3, activation='relu',input_shape=(64,64, 3)))\n",
    "#model.add(Dense(10, activation='relu',input_shape=(784,)))\n",
    "\n",
    "# Add pooling layer\n",
    "model.add(layers.MaxPool2D(2))\n",
    "\n",
    "# Add a dropout layer\n",
    "model.add(layers.Dropout(0.25))\n",
    "\n",
    "# Add a convolutional layer\n",
    "model.add(layers.Conv2D(3, kernel_size=3, activation='relu'))\n",
    "\n",
    "# Flatten the output of the convolutional layer\n",
    "model.add(layers.Flatten())\n",
    "          \n",
    "# Add an output dense layer \n",
    "model.add(layers.Dense(128, activation='relu'))\n",
    "          \n",
    "# Add an output layer for the 10 categories\n",
    "model.add(layers.Dense(1, activation='sigmoid'))\n",
    "model.summary()\n",
    "```"
   ]
  },
  {
   "cell_type": "markdown",
   "metadata": {},
   "source": [
    "## ML model"
   ]
  },
  {
   "cell_type": "code",
   "execution_count": 143,
   "metadata": {},
   "outputs": [
    {
     "name": "stdout",
     "output_type": "stream",
     "text": [
      "Model: \"sequential_4\"\n",
      "_________________________________________________________________\n",
      "Layer (type)                 Output Shape              Param #   \n",
      "=================================================================\n",
      "conv2d_12 (Conv2D)           (None, 26, 26, 10)        100       \n",
      "_________________________________________________________________\n",
      "max_pooling2d_4 (MaxPooling2 (None, 13, 13, 10)        0         \n",
      "_________________________________________________________________\n",
      "conv2d_13 (Conv2D)           (None, 6, 6, 3)           273       \n",
      "_________________________________________________________________\n",
      "conv2d_14 (Conv2D)           (None, 4, 4, 3)           84        \n",
      "_________________________________________________________________\n",
      "batch_normalization_4 (Batch (None, 4, 4, 3)           12        \n",
      "_________________________________________________________________\n",
      "flatten_4 (Flatten)          (None, 48)                0         \n",
      "_________________________________________________________________\n",
      "dense_8 (Dense)              (None, 128)               6272      \n",
      "_________________________________________________________________\n",
      "dense_9 (Dense)              (None, 10)                1290      \n",
      "=================================================================\n",
      "Total params: 8,031\n",
      "Trainable params: 8,025\n",
      "Non-trainable params: 6\n",
      "_________________________________________________________________\n"
     ]
    }
   ],
   "source": [
    "# Initialize the model object\n",
    "model = keras.Sequential()\n",
    "\n",
    "# Add a convolutional layer\n",
    "model.add(layers.Conv2D(10, kernel_size=3, activation='relu',input_shape=(28, 28, 1)))\n",
    "#model.add(Dense(10, activation='relu',input_shape=(784,)))\n",
    "\n",
    "# Add pooling layer\n",
    "model.add(layers.MaxPool2D(2))\n",
    "\n",
    "# Add a dropout layer\n",
    "#model.add(layers.Dropout(0.25))\n",
    "\n",
    "# Add a convolutional layer\n",
    "model.add(layers.Conv2D(3, kernel_size=3, strides=2, activation='relu'))\n",
    "\n",
    "# Add a convolutional layer\n",
    "model.add(layers.Conv2D(3, kernel_size=3, activation='relu'))\n",
    "\n",
    "# Add a batchnormalization layer\n",
    "model.add(BatchNormalization())\n",
    "\n",
    "# Flatten the output of the convolutional layer\n",
    "model.add(layers.Flatten())\n",
    "          \n",
    "# Add an output dense layer \n",
    "model.add(layers.Dense(128, activation='relu'))\n",
    "          \n",
    "# Add an output layer for the 10 categories\n",
    "model.add(layers.Dense(10, activation='softmax'))\n",
    "model.summary()"
   ]
  },
  {
   "cell_type": "markdown",
   "metadata": {},
   "source": [
    "## Compile a neural network\n",
    "Once you have constructed a model in Keras, the model needs to be compiled before you can fit it to data. This means that you need to specify the optimizer that will be used to fit the model and the loss function that will be used in optimization. Optionally, you can also specify a list of metrics that the model will keep track of. For example, if you want to know the classification accuracy, you will provide the list ['accuracy'] to the metrics keyword argument."
   ]
  },
  {
   "cell_type": "code",
   "execution_count": 144,
   "metadata": {},
   "outputs": [],
   "source": [
    "# Compile the model\n",
    "model.compile(optimizer='adam',loss='categorical_crossentropy',metrics=['accuracy'])"
   ]
  },
  {
   "cell_type": "markdown",
   "metadata": {},
   "source": [
    "## Inspect model"
   ]
  },
  {
   "cell_type": "code",
   "execution_count": 145,
   "metadata": {
    "scrolled": true
   },
   "outputs": [
    {
     "data": {
      "text/plain": [
       "(None, 10)"
      ]
     },
     "execution_count": 145,
     "metadata": {},
     "output_type": "execute_result"
    }
   ],
   "source": [
    "model.output_shape"
   ]
  },
  {
   "cell_type": "markdown",
   "metadata": {},
   "source": [
    "Model summary representation"
   ]
  },
  {
   "cell_type": "code",
   "execution_count": 146,
   "metadata": {},
   "outputs": [
    {
     "name": "stdout",
     "output_type": "stream",
     "text": [
      "Model: \"sequential_4\"\n",
      "_________________________________________________________________\n",
      "Layer (type)                 Output Shape              Param #   \n",
      "=================================================================\n",
      "conv2d_12 (Conv2D)           (None, 26, 26, 10)        100       \n",
      "_________________________________________________________________\n",
      "max_pooling2d_4 (MaxPooling2 (None, 13, 13, 10)        0         \n",
      "_________________________________________________________________\n",
      "conv2d_13 (Conv2D)           (None, 6, 6, 3)           273       \n",
      "_________________________________________________________________\n",
      "conv2d_14 (Conv2D)           (None, 4, 4, 3)           84        \n",
      "_________________________________________________________________\n",
      "batch_normalization_4 (Batch (None, 4, 4, 3)           12        \n",
      "_________________________________________________________________\n",
      "flatten_4 (Flatten)          (None, 48)                0         \n",
      "_________________________________________________________________\n",
      "dense_8 (Dense)              (None, 128)               6272      \n",
      "_________________________________________________________________\n",
      "dense_9 (Dense)              (None, 10)                1290      \n",
      "=================================================================\n",
      "Total params: 8,031\n",
      "Trainable params: 8,025\n",
      "Non-trainable params: 6\n",
      "_________________________________________________________________\n"
     ]
    }
   ],
   "source": [
    "model.summary()"
   ]
  },
  {
   "cell_type": "markdown",
   "metadata": {},
   "source": [
    "Model layers are listed in the attribute layers"
   ]
  },
  {
   "cell_type": "code",
   "execution_count": 147,
   "metadata": {},
   "outputs": [
    {
     "data": {
      "text/plain": [
       "[<tensorflow.python.keras.layers.convolutional.Conv2D at 0x1f46e3d8d00>,\n",
       " <tensorflow.python.keras.layers.pooling.MaxPooling2D at 0x1f44e7e08b0>,\n",
       " <tensorflow.python.keras.layers.convolutional.Conv2D at 0x1f46a58a2e0>,\n",
       " <tensorflow.python.keras.layers.convolutional.Conv2D at 0x1f44e7e0b80>,\n",
       " <tensorflow.python.keras.layers.normalization_v2.BatchNormalization at 0x1f46a58ad30>,\n",
       " <tensorflow.python.keras.layers.core.Flatten at 0x1f4563a85b0>,\n",
       " <tensorflow.python.keras.layers.core.Dense at 0x1f456816c40>,\n",
       " <tensorflow.python.keras.layers.core.Dense at 0x1f4519570d0>]"
      ]
     },
     "execution_count": 147,
     "metadata": {},
     "output_type": "execute_result"
    }
   ],
   "source": [
    "model.layers"
   ]
  },
  {
   "cell_type": "markdown",
   "metadata": {},
   "source": [
    "Extracting first convolutional layer in the list"
   ]
  },
  {
   "cell_type": "code",
   "execution_count": 148,
   "metadata": {},
   "outputs": [
    {
     "name": "stdout",
     "output_type": "stream",
     "text": [
      "<tensorflow.python.keras.layers.convolutional.Conv2D object at 0x000001F46A58A2E0>\n"
     ]
    }
   ],
   "source": [
    "C1=model.layers[2]\n",
    "print(C1)"
   ]
  },
  {
   "cell_type": "markdown",
   "metadata": {},
   "source": [
    "Extracting weights from the first layer"
   ]
  },
  {
   "cell_type": "code",
   "execution_count": 149,
   "metadata": {},
   "outputs": [
    {
     "name": "stdout",
     "output_type": "stream",
     "text": [
      "2\n",
      "[array([[[[-1.98390037e-02, -1.02325641e-01, -1.20326355e-01],\n",
      "         [-1.36698365e-01, -1.31209299e-01, -1.31924465e-01],\n",
      "         [-5.45370579e-03, -2.49741077e-02, -4.60845530e-02],\n",
      "         [ 1.34252414e-01, -6.82389736e-03, -1.27261519e-01],\n",
      "         [-1.76684126e-01, -2.02931017e-01, -8.29288363e-03],\n",
      "         [-1.78854570e-01, -1.40339583e-01,  1.35545775e-01],\n",
      "         [-4.17407900e-02,  8.69293064e-02,  1.41539231e-01],\n",
      "         [-1.16583467e-01, -1.46265864e-01,  2.18008801e-01],\n",
      "         [ 2.00905547e-01,  1.07718334e-01, -1.67191714e-01],\n",
      "         [ 1.23626336e-01,  1.17815599e-01,  1.02738187e-01]],\n",
      "\n",
      "        [[-8.97503346e-02, -2.21513808e-01,  5.36250025e-02],\n",
      "         [ 1.04093090e-01, -1.48010433e-01, -1.19848639e-01],\n",
      "         [ 7.54037648e-02, -5.23453057e-02,  4.65898961e-02],\n",
      "         [-1.06455863e-01,  2.18253717e-01,  1.95331588e-01],\n",
      "         [-6.80626780e-02,  1.69322744e-01, -1.59058481e-01],\n",
      "         [-2.21748784e-01, -4.96125519e-02,  2.29209810e-02],\n",
      "         [-1.34997487e-01, -1.08742274e-01, -1.84274375e-01],\n",
      "         [ 9.54676718e-02, -1.75131768e-01, -1.21723108e-01],\n",
      "         [-1.57338277e-01,  6.63113147e-02,  1.76918551e-01],\n",
      "         [-4.35168892e-02,  1.43246517e-01, -6.25042915e-02]],\n",
      "\n",
      "        [[ 1.34835824e-01,  1.55582979e-01,  2.25960627e-01],\n",
      "         [-2.17500269e-01,  1.10231638e-02, -7.18562603e-02],\n",
      "         [ 6.65617734e-02, -1.27907634e-01, -2.02573270e-01],\n",
      "         [-1.05347849e-01,  1.90850988e-01,  1.97950915e-01],\n",
      "         [ 1.55824080e-01,  3.83709222e-02,  1.23666629e-01],\n",
      "         [-3.80733907e-02, -1.05215088e-01,  1.53936446e-02],\n",
      "         [-1.92625612e-01, -9.42949355e-02,  1.64718971e-01],\n",
      "         [ 1.68236658e-01, -5.36619425e-02,  8.28839839e-03],\n",
      "         [-1.43595487e-02, -9.36380327e-02,  8.33653361e-02],\n",
      "         [ 2.06666246e-01, -1.77756399e-01, -1.75894022e-01]]],\n",
      "\n",
      "\n",
      "       [[[-1.30518764e-01, -2.00271606e-05, -2.13467553e-01],\n",
      "         [ 3.76931876e-02,  5.86031526e-02,  1.45497426e-01],\n",
      "         [ 1.50811508e-01, -1.85671285e-01,  6.71015829e-02],\n",
      "         [ 1.80161163e-01,  1.42232135e-01, -2.22489059e-01],\n",
      "         [-2.04537749e-01,  5.51589578e-02, -4.72723544e-02],\n",
      "         [-6.08948171e-02, -2.03130782e-01, -1.69095665e-01],\n",
      "         [-1.93293914e-01, -9.15887356e-02,  1.88457981e-01],\n",
      "         [-1.42421976e-01,  1.88793913e-01,  1.96901277e-01],\n",
      "         [-4.21340615e-02,  7.29044527e-02,  1.32794872e-01],\n",
      "         [ 1.04233429e-01, -8.93786550e-03,  5.54722100e-02]],\n",
      "\n",
      "        [[ 9.23622102e-02, -5.25497794e-02,  2.28939801e-02],\n",
      "         [ 1.69419453e-01,  1.11316368e-01,  9.09516364e-02],\n",
      "         [-2.22408071e-01,  1.62685081e-01,  1.10652283e-01],\n",
      "         [ 1.33627877e-01, -7.24680871e-02,  8.28326195e-02],\n",
      "         [ 1.21265203e-02,  1.09814256e-02,  1.25370964e-01],\n",
      "         [ 6.10008985e-02,  1.07969597e-01, -2.43479759e-02],\n",
      "         [-1.12570196e-01, -7.52182454e-02, -9.43907201e-02],\n",
      "         [ 1.40276104e-02, -1.87851012e-01,  1.45706847e-01],\n",
      "         [ 3.95424813e-02, -2.05855727e-01, -1.02772690e-01],\n",
      "         [-3.30237001e-02, -5.23007065e-02,  6.49836212e-02]],\n",
      "\n",
      "        [[ 1.58018127e-01, -1.02778308e-01, -8.05714577e-02],\n",
      "         [-2.09452614e-01, -6.15559816e-02, -9.41414386e-02],\n",
      "         [ 1.57298148e-03, -1.42188460e-01, -5.68055809e-02],\n",
      "         [ 8.02318603e-02,  8.21727961e-02,  2.19122604e-01],\n",
      "         [-1.98114067e-02, -8.51682127e-02,  6.21396750e-02],\n",
      "         [-8.25500786e-02, -1.31341636e-01,  1.43461749e-01],\n",
      "         [ 9.65142995e-02, -9.45023745e-02,  1.86725259e-02],\n",
      "         [-1.39249235e-01,  1.57721505e-01, -8.72303545e-02],\n",
      "         [ 1.56891271e-01,  1.17179260e-01, -1.63438916e-02],\n",
      "         [ 1.89375505e-01,  2.14613035e-01,  1.77735671e-01]]],\n",
      "\n",
      "\n",
      "       [[[ 1.75222754e-03,  1.42363712e-01, -3.69005948e-02],\n",
      "         [ 1.93673804e-01,  3.46313566e-02, -1.86301842e-01],\n",
      "         [ 1.29388884e-01,  1.16026774e-01, -1.20544434e-02],\n",
      "         [-2.19033673e-01, -2.12734625e-01,  7.72682875e-02],\n",
      "         [-8.84171873e-02, -5.38948029e-02, -2.14467257e-01],\n",
      "         [-1.38898939e-01, -1.81525573e-01, -2.85503715e-02],\n",
      "         [-2.05780566e-01,  2.12871268e-01,  2.22519040e-03],\n",
      "         [-1.76454455e-01, -3.12560350e-02, -1.20608516e-01],\n",
      "         [ 1.16228804e-01, -3.36271673e-02,  1.41502276e-01],\n",
      "         [-1.30840003e-01, -5.96246719e-02,  1.43092111e-01]],\n",
      "\n",
      "        [[ 1.46824464e-01, -1.60613120e-01,  1.63638845e-01],\n",
      "         [-2.46815383e-03, -1.56873628e-01,  1.25014558e-01],\n",
      "         [-2.91754752e-02, -2.04652399e-02,  4.12017554e-02],\n",
      "         [ 1.06825367e-01,  2.06800252e-02, -6.39335960e-02],\n",
      "         [-1.78337604e-01, -2.46502459e-03,  3.91871780e-02],\n",
      "         [ 2.06929401e-01,  4.30298299e-02,  8.49513263e-02],\n",
      "         [ 1.63938686e-01, -7.08222240e-02,  1.13731608e-01],\n",
      "         [ 9.07026976e-02, -9.41309184e-02, -6.41087443e-02],\n",
      "         [ 4.04729098e-02, -9.59918797e-02,  1.85997486e-02],\n",
      "         [ 8.89421552e-02,  1.65468171e-01,  1.73990682e-01]],\n",
      "\n",
      "        [[ 6.77860826e-02, -2.07838655e-01, -8.85365158e-02],\n",
      "         [ 2.10932180e-01, -1.17214844e-01,  5.09139448e-02],\n",
      "         [-1.94403976e-01,  7.65979737e-02,  5.65175861e-02],\n",
      "         [ 1.50060698e-01,  1.95537314e-01,  2.52214521e-02],\n",
      "         [-4.45879698e-02,  2.11178049e-01, -9.72925276e-02],\n",
      "         [-5.44761270e-02,  5.13356775e-02,  5.76745719e-02],\n",
      "         [-1.11594684e-01, -1.72935247e-01,  1.53924480e-01],\n",
      "         [-1.39538467e-01,  1.12028882e-01, -1.46024317e-01],\n",
      "         [ 4.45193499e-02, -1.90982610e-01,  1.26195028e-01],\n",
      "         [-1.02986924e-01,  1.15136340e-01,  1.94788277e-02]]]],\n",
      "      dtype=float32), array([0., 0., 0.], dtype=float32)]\n"
     ]
    }
   ],
   "source": [
    "w1=C1.get_weights()\n",
    "print(len(w1))\n",
    "print(w1)"
   ]
  },
  {
   "cell_type": "code",
   "execution_count": 150,
   "metadata": {},
   "outputs": [
    {
     "name": "stdout",
     "output_type": "stream",
     "text": [
      "[[[[-1.98390037e-02 -1.02325641e-01 -1.20326355e-01]\n",
      "   [-1.36698365e-01 -1.31209299e-01 -1.31924465e-01]\n",
      "   [-5.45370579e-03 -2.49741077e-02 -4.60845530e-02]\n",
      "   [ 1.34252414e-01 -6.82389736e-03 -1.27261519e-01]\n",
      "   [-1.76684126e-01 -2.02931017e-01 -8.29288363e-03]\n",
      "   [-1.78854570e-01 -1.40339583e-01  1.35545775e-01]\n",
      "   [-4.17407900e-02  8.69293064e-02  1.41539231e-01]\n",
      "   [-1.16583467e-01 -1.46265864e-01  2.18008801e-01]\n",
      "   [ 2.00905547e-01  1.07718334e-01 -1.67191714e-01]\n",
      "   [ 1.23626336e-01  1.17815599e-01  1.02738187e-01]]\n",
      "\n",
      "  [[-8.97503346e-02 -2.21513808e-01  5.36250025e-02]\n",
      "   [ 1.04093090e-01 -1.48010433e-01 -1.19848639e-01]\n",
      "   [ 7.54037648e-02 -5.23453057e-02  4.65898961e-02]\n",
      "   [-1.06455863e-01  2.18253717e-01  1.95331588e-01]\n",
      "   [-6.80626780e-02  1.69322744e-01 -1.59058481e-01]\n",
      "   [-2.21748784e-01 -4.96125519e-02  2.29209810e-02]\n",
      "   [-1.34997487e-01 -1.08742274e-01 -1.84274375e-01]\n",
      "   [ 9.54676718e-02 -1.75131768e-01 -1.21723108e-01]\n",
      "   [-1.57338277e-01  6.63113147e-02  1.76918551e-01]\n",
      "   [-4.35168892e-02  1.43246517e-01 -6.25042915e-02]]\n",
      "\n",
      "  [[ 1.34835824e-01  1.55582979e-01  2.25960627e-01]\n",
      "   [-2.17500269e-01  1.10231638e-02 -7.18562603e-02]\n",
      "   [ 6.65617734e-02 -1.27907634e-01 -2.02573270e-01]\n",
      "   [-1.05347849e-01  1.90850988e-01  1.97950915e-01]\n",
      "   [ 1.55824080e-01  3.83709222e-02  1.23666629e-01]\n",
      "   [-3.80733907e-02 -1.05215088e-01  1.53936446e-02]\n",
      "   [-1.92625612e-01 -9.42949355e-02  1.64718971e-01]\n",
      "   [ 1.68236658e-01 -5.36619425e-02  8.28839839e-03]\n",
      "   [-1.43595487e-02 -9.36380327e-02  8.33653361e-02]\n",
      "   [ 2.06666246e-01 -1.77756399e-01 -1.75894022e-01]]]\n",
      "\n",
      "\n",
      " [[[-1.30518764e-01 -2.00271606e-05 -2.13467553e-01]\n",
      "   [ 3.76931876e-02  5.86031526e-02  1.45497426e-01]\n",
      "   [ 1.50811508e-01 -1.85671285e-01  6.71015829e-02]\n",
      "   [ 1.80161163e-01  1.42232135e-01 -2.22489059e-01]\n",
      "   [-2.04537749e-01  5.51589578e-02 -4.72723544e-02]\n",
      "   [-6.08948171e-02 -2.03130782e-01 -1.69095665e-01]\n",
      "   [-1.93293914e-01 -9.15887356e-02  1.88457981e-01]\n",
      "   [-1.42421976e-01  1.88793913e-01  1.96901277e-01]\n",
      "   [-4.21340615e-02  7.29044527e-02  1.32794872e-01]\n",
      "   [ 1.04233429e-01 -8.93786550e-03  5.54722100e-02]]\n",
      "\n",
      "  [[ 9.23622102e-02 -5.25497794e-02  2.28939801e-02]\n",
      "   [ 1.69419453e-01  1.11316368e-01  9.09516364e-02]\n",
      "   [-2.22408071e-01  1.62685081e-01  1.10652283e-01]\n",
      "   [ 1.33627877e-01 -7.24680871e-02  8.28326195e-02]\n",
      "   [ 1.21265203e-02  1.09814256e-02  1.25370964e-01]\n",
      "   [ 6.10008985e-02  1.07969597e-01 -2.43479759e-02]\n",
      "   [-1.12570196e-01 -7.52182454e-02 -9.43907201e-02]\n",
      "   [ 1.40276104e-02 -1.87851012e-01  1.45706847e-01]\n",
      "   [ 3.95424813e-02 -2.05855727e-01 -1.02772690e-01]\n",
      "   [-3.30237001e-02 -5.23007065e-02  6.49836212e-02]]\n",
      "\n",
      "  [[ 1.58018127e-01 -1.02778308e-01 -8.05714577e-02]\n",
      "   [-2.09452614e-01 -6.15559816e-02 -9.41414386e-02]\n",
      "   [ 1.57298148e-03 -1.42188460e-01 -5.68055809e-02]\n",
      "   [ 8.02318603e-02  8.21727961e-02  2.19122604e-01]\n",
      "   [-1.98114067e-02 -8.51682127e-02  6.21396750e-02]\n",
      "   [-8.25500786e-02 -1.31341636e-01  1.43461749e-01]\n",
      "   [ 9.65142995e-02 -9.45023745e-02  1.86725259e-02]\n",
      "   [-1.39249235e-01  1.57721505e-01 -8.72303545e-02]\n",
      "   [ 1.56891271e-01  1.17179260e-01 -1.63438916e-02]\n",
      "   [ 1.89375505e-01  2.14613035e-01  1.77735671e-01]]]\n",
      "\n",
      "\n",
      " [[[ 1.75222754e-03  1.42363712e-01 -3.69005948e-02]\n",
      "   [ 1.93673804e-01  3.46313566e-02 -1.86301842e-01]\n",
      "   [ 1.29388884e-01  1.16026774e-01 -1.20544434e-02]\n",
      "   [-2.19033673e-01 -2.12734625e-01  7.72682875e-02]\n",
      "   [-8.84171873e-02 -5.38948029e-02 -2.14467257e-01]\n",
      "   [-1.38898939e-01 -1.81525573e-01 -2.85503715e-02]\n",
      "   [-2.05780566e-01  2.12871268e-01  2.22519040e-03]\n",
      "   [-1.76454455e-01 -3.12560350e-02 -1.20608516e-01]\n",
      "   [ 1.16228804e-01 -3.36271673e-02  1.41502276e-01]\n",
      "   [-1.30840003e-01 -5.96246719e-02  1.43092111e-01]]\n",
      "\n",
      "  [[ 1.46824464e-01 -1.60613120e-01  1.63638845e-01]\n",
      "   [-2.46815383e-03 -1.56873628e-01  1.25014558e-01]\n",
      "   [-2.91754752e-02 -2.04652399e-02  4.12017554e-02]\n",
      "   [ 1.06825367e-01  2.06800252e-02 -6.39335960e-02]\n",
      "   [-1.78337604e-01 -2.46502459e-03  3.91871780e-02]\n",
      "   [ 2.06929401e-01  4.30298299e-02  8.49513263e-02]\n",
      "   [ 1.63938686e-01 -7.08222240e-02  1.13731608e-01]\n",
      "   [ 9.07026976e-02 -9.41309184e-02 -6.41087443e-02]\n",
      "   [ 4.04729098e-02 -9.59918797e-02  1.85997486e-02]\n",
      "   [ 8.89421552e-02  1.65468171e-01  1.73990682e-01]]\n",
      "\n",
      "  [[ 6.77860826e-02 -2.07838655e-01 -8.85365158e-02]\n",
      "   [ 2.10932180e-01 -1.17214844e-01  5.09139448e-02]\n",
      "   [-1.94403976e-01  7.65979737e-02  5.65175861e-02]\n",
      "   [ 1.50060698e-01  1.95537314e-01  2.52214521e-02]\n",
      "   [-4.45879698e-02  2.11178049e-01 -9.72925276e-02]\n",
      "   [-5.44761270e-02  5.13356775e-02  5.76745719e-02]\n",
      "   [-1.11594684e-01 -1.72935247e-01  1.53924480e-01]\n",
      "   [-1.39538467e-01  1.12028882e-01 -1.46024317e-01]\n",
      "   [ 4.45193499e-02 -1.90982610e-01  1.26195028e-01]\n",
      "   [-1.02986924e-01  1.15136340e-01  1.94788277e-02]]]]\n"
     ]
    }
   ],
   "source": [
    "k1=w1[0]\n",
    "print(k1)"
   ]
  },
  {
   "cell_type": "markdown",
   "metadata": {},
   "source": [
    "Shape of kernels"
   ]
  },
  {
   "cell_type": "code",
   "execution_count": 151,
   "metadata": {},
   "outputs": [
    {
     "data": {
      "text/plain": [
       "(3, 3, 10, 3)"
      ]
     },
     "execution_count": 151,
     "metadata": {},
     "output_type": "execute_result"
    }
   ],
   "source": [
    "k1.shape"
   ]
  },
  {
   "cell_type": "markdown",
   "metadata": {},
   "source": [
    "The first two dimensions denote the size of kernel or filter. The third dimension determines the number of channels. In case of grayscale images the size is 1. Working with color images would produce the size of 3. The last dimension in kernel is number of filters."
   ]
  },
  {
   "cell_type": "code",
   "execution_count": 152,
   "metadata": {},
   "outputs": [
    {
     "name": "stdout",
     "output_type": "stream",
     "text": [
      "[[-0.019839   -0.08975033  0.13483582]\n",
      " [-0.13051876  0.09236221  0.15801813]\n",
      " [ 0.00175223  0.14682446  0.06778608]]\n"
     ]
    }
   ],
   "source": [
    "kernel1=k1[:,:,0,0]\n",
    "print(kernel1)"
   ]
  },
  {
   "cell_type": "code",
   "execution_count": 153,
   "metadata": {
    "scrolled": false
   },
   "outputs": [
    {
     "data": {
      "image/png": "[encoded data removed]",
      "text/plain": [
       "<Figure size 432x288 with 1 Axes>"
      ]
     },
     "metadata": {
      "needs_background": "light"
     },
     "output_type": "display_data"
    }
   ],
   "source": [
    "kernel1=k1[:,:,0,0]\n",
    "plt.imshow(kernel1, cmap=\"gray\")\n",
    "#plt.axis('off')\n",
    "plt.show()"
   ]
  },
  {
   "cell_type": "code",
   "execution_count": 154,
   "metadata": {
    "scrolled": true
   },
   "outputs": [
    {
     "data": {
      "image/png": "[encoded data removed]",
      "text/plain": [
       "<Figure size 432x288 with 1 Axes>"
      ]
     },
     "metadata": {
      "needs_background": "light"
     },
     "output_type": "display_data"
    }
   ],
   "source": [
    "kernel2=k1[:,:,0,1]\n",
    "plt.imshow(kernel2, cmap=\"gray\")\n",
    "#plt.axis('off')\n",
    "plt.show()"
   ]
  },
  {
   "cell_type": "code",
   "execution_count": 155,
   "metadata": {},
   "outputs": [
    {
     "data": {
      "image/png": "[encoded data removed]",
      "text/plain": [
       "<Figure size 432x288 with 1 Axes>"
      ]
     },
     "metadata": {
      "needs_background": "light"
     },
     "output_type": "display_data"
    }
   ],
   "source": [
    "kernel4=k1[:,:,0,2]\n",
    "plt.imshow(kernel4, cmap=\"gray\")\n",
    "#plt.axis('off')\n",
    "plt.show()"
   ]
  },
  {
   "cell_type": "code",
   "execution_count": 156,
   "metadata": {},
   "outputs": [
    {
     "name": "stdout",
     "output_type": "stream",
     "text": [
      "Sample number is 10176\n",
      "\n"
     ]
    },
    {
     "data": {
      "image/png": "[encoded data removed]",
      "text/plain": [
       "<Figure size 1080x720 with 3 Axes>"
      ]
     },
     "metadata": {
      "needs_background": "light"
     },
     "output_type": "display_data"
    }
   ],
   "source": [
    "import cv2\n",
    "sampleNo = np.random.randint(0,59999)\n",
    "print(f'Sample number is {sampleNo}\\n')\n",
    "\n",
    "\n",
    "sampleImg=X_train[sampleNo]\n",
    "filteredImage = cv2.filter2D(sampleImg,-1,kernel1)\n",
    "#resize\n",
    "\n",
    "fig,ax=plt.subplots(nrows=1,ncols=3, figsize=(15,10))\n",
    "ax[0].imshow(sampleImg, cmap=\"gray\") \n",
    "ax[1].imshow(kernel1, cmap=\"gray\")\n",
    "ax[2].imshow(filteredImage, cmap=\"gray\")\n",
    "\n",
    "plt.show()"
   ]
  },
  {
   "cell_type": "markdown",
   "metadata": {},
   "source": [
    "Model configuration"
   ]
  },
  {
   "cell_type": "code",
   "execution_count": 157,
   "metadata": {},
   "outputs": [
    {
     "data": {
      "text/plain": [
       "{'name': 'sequential_4',\n",
       " 'layers': [{'class_name': 'InputLayer',\n",
       "   'config': {'batch_input_shape': (None, 28, 28, 1),\n",
       "    'dtype': 'float32',\n",
       "    'sparse': False,\n",
       "    'ragged': False,\n",
       "    'name': 'conv2d_12_input'}},\n",
       "  {'class_name': 'Conv2D',\n",
       "   'config': {'name': 'conv2d_12',\n",
       "    'trainable': True,\n",
       "    'batch_input_shape': (None, 28, 28, 1),\n",
       "    'dtype': 'float32',\n",
       "    'filters': 10,\n",
       "    'kernel_size': (3, 3),\n",
       "    'strides': (1, 1),\n",
       "    'padding': 'valid',\n",
       "    'data_format': 'channels_last',\n",
       "    'dilation_rate': (1, 1),\n",
       "    'groups': 1,\n",
       "    'activation': 'relu',\n",
       "    'use_bias': True,\n",
       "    'kernel_initializer': {'class_name': 'GlorotUniform',\n",
       "     'config': {'seed': None}},\n",
       "    'bias_initializer': {'class_name': 'Zeros', 'config': {}},\n",
       "    'kernel_regularizer': None,\n",
       "    'bias_regularizer': None,\n",
       "    'activity_regularizer': None,\n",
       "    'kernel_constraint': None,\n",
       "    'bias_constraint': None}},\n",
       "  {'class_name': 'MaxPooling2D',\n",
       "   'config': {'name': 'max_pooling2d_4',\n",
       "    'trainable': True,\n",
       "    'dtype': 'float32',\n",
       "    'pool_size': (2, 2),\n",
       "    'padding': 'valid',\n",
       "    'strides': (2, 2),\n",
       "    'data_format': 'channels_last'}},\n",
       "  {'class_name': 'Conv2D',\n",
       "   'config': {'name': 'conv2d_13',\n",
       "    'trainable': True,\n",
       "    'dtype': 'float32',\n",
       "    'filters': 3,\n",
       "    'kernel_size': (3, 3),\n",
       "    'strides': (2, 2),\n",
       "    'padding': 'valid',\n",
       "    'data_format': 'channels_last',\n",
       "    'dilation_rate': (1, 1),\n",
       "    'groups': 1,\n",
       "    'activation': 'relu',\n",
       "    'use_bias': True,\n",
       "    'kernel_initializer': {'class_name': 'GlorotUniform',\n",
       "     'config': {'seed': None}},\n",
       "    'bias_initializer': {'class_name': 'Zeros', 'config': {}},\n",
       "    'kernel_regularizer': None,\n",
       "    'bias_regularizer': None,\n",
       "    'activity_regularizer': None,\n",
       "    'kernel_constraint': None,\n",
       "    'bias_constraint': None}},\n",
       "  {'class_name': 'Conv2D',\n",
       "   'config': {'name': 'conv2d_14',\n",
       "    'trainable': True,\n",
       "    'dtype': 'float32',\n",
       "    'filters': 3,\n",
       "    'kernel_size': (3, 3),\n",
       "    'strides': (1, 1),\n",
       "    'padding': 'valid',\n",
       "    'data_format': 'channels_last',\n",
       "    'dilation_rate': (1, 1),\n",
       "    'groups': 1,\n",
       "    'activation': 'relu',\n",
       "    'use_bias': True,\n",
       "    'kernel_initializer': {'class_name': 'GlorotUniform',\n",
       "     'config': {'seed': None}},\n",
       "    'bias_initializer': {'class_name': 'Zeros', 'config': {}},\n",
       "    'kernel_regularizer': None,\n",
       "    'bias_regularizer': None,\n",
       "    'activity_regularizer': None,\n",
       "    'kernel_constraint': None,\n",
       "    'bias_constraint': None}},\n",
       "  {'class_name': 'BatchNormalization',\n",
       "   'config': {'name': 'batch_normalization_4',\n",
       "    'trainable': True,\n",
       "    'dtype': 'float32',\n",
       "    'axis': ListWrapper([3]),\n",
       "    'momentum': 0.99,\n",
       "    'epsilon': 0.001,\n",
       "    'center': True,\n",
       "    'scale': True,\n",
       "    'beta_initializer': {'class_name': 'Zeros', 'config': {}},\n",
       "    'gamma_initializer': {'class_name': 'Ones', 'config': {}},\n",
       "    'moving_mean_initializer': {'class_name': 'Zeros', 'config': {}},\n",
       "    'moving_variance_initializer': {'class_name': 'Ones', 'config': {}},\n",
       "    'beta_regularizer': None,\n",
       "    'gamma_regularizer': None,\n",
       "    'beta_constraint': None,\n",
       "    'gamma_constraint': None}},\n",
       "  {'class_name': 'Flatten',\n",
       "   'config': {'name': 'flatten_4',\n",
       "    'trainable': True,\n",
       "    'dtype': 'float32',\n",
       "    'data_format': 'channels_last'}},\n",
       "  {'class_name': 'Dense',\n",
       "   'config': {'name': 'dense_8',\n",
       "    'trainable': True,\n",
       "    'dtype': 'float32',\n",
       "    'units': 128,\n",
       "    'activation': 'relu',\n",
       "    'use_bias': True,\n",
       "    'kernel_initializer': {'class_name': 'GlorotUniform',\n",
       "     'config': {'seed': None}},\n",
       "    'bias_initializer': {'class_name': 'Zeros', 'config': {}},\n",
       "    'kernel_regularizer': None,\n",
       "    'bias_regularizer': None,\n",
       "    'activity_regularizer': None,\n",
       "    'kernel_constraint': None,\n",
       "    'bias_constraint': None}},\n",
       "  {'class_name': 'Dense',\n",
       "   'config': {'name': 'dense_9',\n",
       "    'trainable': True,\n",
       "    'dtype': 'float32',\n",
       "    'units': 10,\n",
       "    'activation': 'softmax',\n",
       "    'use_bias': True,\n",
       "    'kernel_initializer': {'class_name': 'GlorotUniform',\n",
       "     'config': {'seed': None}},\n",
       "    'bias_initializer': {'class_name': 'Zeros', 'config': {}},\n",
       "    'kernel_regularizer': None,\n",
       "    'bias_regularizer': None,\n",
       "    'activity_regularizer': None,\n",
       "    'kernel_constraint': None,\n",
       "    'bias_constraint': None}}]}"
      ]
     },
     "execution_count": 157,
     "metadata": {},
     "output_type": "execute_result"
    }
   ],
   "source": [
    "model.get_config()"
   ]
  },
  {
   "cell_type": "markdown",
   "metadata": {},
   "source": [
    "List all weight tensors in the model"
   ]
  },
  {
   "cell_type": "code",
   "execution_count": 158,
   "metadata": {},
   "outputs": [],
   "source": [
    "weg=model.get_weights()"
   ]
  },
  {
   "cell_type": "code",
   "execution_count": 159,
   "metadata": {},
   "outputs": [
    {
     "name": "stdout",
     "output_type": "stream",
     "text": [
      "<class 'list'>\n"
     ]
    }
   ],
   "source": [
    "print(type(weg))"
   ]
  },
  {
   "cell_type": "code",
   "execution_count": 160,
   "metadata": {},
   "outputs": [
    {
     "name": "stdout",
     "output_type": "stream",
     "text": [
      "[array([[[[ 0.13873208, -0.07349028,  0.05382207,  0.2282154 ,\n",
      "          -0.18328044,  0.14458486, -0.19733505, -0.12573698,\n",
      "          -0.15597847,  0.17823517]],\n",
      "\n",
      "        [[-0.07422782,  0.09120795, -0.17721125, -0.1190297 ,\n",
      "           0.02768952, -0.08347575, -0.06528206,  0.00533497,\n",
      "           0.04619294,  0.16514817]],\n",
      "\n",
      "        [[ 0.2334337 ,  0.07847819,  0.18702093,  0.19534308,\n",
      "           0.18493253, -0.08629233,  0.11510199,  0.14959514,\n",
      "           0.17699033,  0.21376902]]],\n",
      "\n",
      "\n",
      "       [[[-0.1759583 ,  0.19399914,  0.0902136 ,  0.12343615,\n",
      "           0.04918313,  0.22153243,  0.01386759,  0.13504753,\n",
      "          -0.19427752,  0.23538381]],\n",
      "\n",
      "        [[ 0.08635595,  0.19688204, -0.15034279,  0.10271308,\n",
      "          -0.07314831, -0.15079328,  0.09194708,  0.1142309 ,\n",
      "          -0.07191315,  0.16762719]],\n",
      "\n",
      "        [[ 0.18342784, -0.15208222,  0.2134014 ,  0.21806714,\n",
      "           0.16376257,  0.04712659, -0.22506285, -0.08517413,\n",
      "          -0.07739951, -0.09686252]]],\n",
      "\n",
      "\n",
      "       [[[-0.00449994,  0.16819417, -0.15443106, -0.04610883,\n",
      "          -0.12181395,  0.23042452,  0.04901311,  0.20526552,\n",
      "          -0.18256344, -0.04787624]],\n",
      "\n",
      "        [[-0.23552574, -0.03770605, -0.02656183,  0.22425637,\n",
      "          -0.05044524, -0.13033459,  0.03853589, -0.10730669,\n",
      "           0.0320155 ,  0.1319327 ]],\n",
      "\n",
      "        [[ 0.06270856,  0.2038944 ,  0.11973509, -0.2433464 ,\n",
      "           0.10382351,  0.21520397, -0.07916522,  0.00764543,\n",
      "          -0.1763553 , -0.14048433]]]], dtype=float32), array([0., 0., 0., 0., 0., 0., 0., 0., 0., 0.], dtype=float32), array([[[[-1.98390037e-02, -1.02325641e-01, -1.20326355e-01],\n",
      "         [-1.36698365e-01, -1.31209299e-01, -1.31924465e-01],\n",
      "         [-5.45370579e-03, -2.49741077e-02, -4.60845530e-02],\n",
      "         [ 1.34252414e-01, -6.82389736e-03, -1.27261519e-01],\n",
      "         [-1.76684126e-01, -2.02931017e-01, -8.29288363e-03],\n",
      "         [-1.78854570e-01, -1.40339583e-01,  1.35545775e-01],\n",
      "         [-4.17407900e-02,  8.69293064e-02,  1.41539231e-01],\n",
      "         [-1.16583467e-01, -1.46265864e-01,  2.18008801e-01],\n",
      "         [ 2.00905547e-01,  1.07718334e-01, -1.67191714e-01],\n",
      "         [ 1.23626336e-01,  1.17815599e-01,  1.02738187e-01]],\n",
      "\n",
      "        [[-8.97503346e-02, -2.21513808e-01,  5.36250025e-02],\n",
      "         [ 1.04093090e-01, -1.48010433e-01, -1.19848639e-01],\n",
      "         [ 7.54037648e-02, -5.23453057e-02,  4.65898961e-02],\n",
      "         [-1.06455863e-01,  2.18253717e-01,  1.95331588e-01],\n",
      "         [-6.80626780e-02,  1.69322744e-01, -1.59058481e-01],\n",
      "         [-2.21748784e-01, -4.96125519e-02,  2.29209810e-02],\n",
      "         [-1.34997487e-01, -1.08742274e-01, -1.84274375e-01],\n",
      "         [ 9.54676718e-02, -1.75131768e-01, -1.21723108e-01],\n",
      "         [-1.57338277e-01,  6.63113147e-02,  1.76918551e-01],\n",
      "         [-4.35168892e-02,  1.43246517e-01, -6.25042915e-02]],\n",
      "\n",
      "        [[ 1.34835824e-01,  1.55582979e-01,  2.25960627e-01],\n",
      "         [-2.17500269e-01,  1.10231638e-02, -7.18562603e-02],\n",
      "         [ 6.65617734e-02, -1.27907634e-01, -2.02573270e-01],\n",
      "         [-1.05347849e-01,  1.90850988e-01,  1.97950915e-01],\n",
      "         [ 1.55824080e-01,  3.83709222e-02,  1.23666629e-01],\n",
      "         [-3.80733907e-02, -1.05215088e-01,  1.53936446e-02],\n",
      "         [-1.92625612e-01, -9.42949355e-02,  1.64718971e-01],\n",
      "         [ 1.68236658e-01, -5.36619425e-02,  8.28839839e-03],\n",
      "         [-1.43595487e-02, -9.36380327e-02,  8.33653361e-02],\n",
      "         [ 2.06666246e-01, -1.77756399e-01, -1.75894022e-01]]],\n",
      "\n",
      "\n",
      "       [[[-1.30518764e-01, -2.00271606e-05, -2.13467553e-01],\n",
      "         [ 3.76931876e-02,  5.86031526e-02,  1.45497426e-01],\n",
      "         [ 1.50811508e-01, -1.85671285e-01,  6.71015829e-02],\n",
      "         [ 1.80161163e-01,  1.42232135e-01, -2.22489059e-01],\n",
      "         [-2.04537749e-01,  5.51589578e-02, -4.72723544e-02],\n",
      "         [-6.08948171e-02, -2.03130782e-01, -1.69095665e-01],\n",
      "         [-1.93293914e-01, -9.15887356e-02,  1.88457981e-01],\n",
      "         [-1.42421976e-01,  1.88793913e-01,  1.96901277e-01],\n",
      "         [-4.21340615e-02,  7.29044527e-02,  1.32794872e-01],\n",
      "         [ 1.04233429e-01, -8.93786550e-03,  5.54722100e-02]],\n",
      "\n",
      "        [[ 9.23622102e-02, -5.25497794e-02,  2.28939801e-02],\n",
      "         [ 1.69419453e-01,  1.11316368e-01,  9.09516364e-02],\n",
      "         [-2.22408071e-01,  1.62685081e-01,  1.10652283e-01],\n",
      "         [ 1.33627877e-01, -7.24680871e-02,  8.28326195e-02],\n",
      "         [ 1.21265203e-02,  1.09814256e-02,  1.25370964e-01],\n",
      "         [ 6.10008985e-02,  1.07969597e-01, -2.43479759e-02],\n",
      "         [-1.12570196e-01, -7.52182454e-02, -9.43907201e-02],\n",
      "         [ 1.40276104e-02, -1.87851012e-01,  1.45706847e-01],\n",
      "         [ 3.95424813e-02, -2.05855727e-01, -1.02772690e-01],\n",
      "         [-3.30237001e-02, -5.23007065e-02,  6.49836212e-02]],\n",
      "\n",
      "        [[ 1.58018127e-01, -1.02778308e-01, -8.05714577e-02],\n",
      "         [-2.09452614e-01, -6.15559816e-02, -9.41414386e-02],\n",
      "         [ 1.57298148e-03, -1.42188460e-01, -5.68055809e-02],\n",
      "         [ 8.02318603e-02,  8.21727961e-02,  2.19122604e-01],\n",
      "         [-1.98114067e-02, -8.51682127e-02,  6.21396750e-02],\n",
      "         [-8.25500786e-02, -1.31341636e-01,  1.43461749e-01],\n",
      "         [ 9.65142995e-02, -9.45023745e-02,  1.86725259e-02],\n",
      "         [-1.39249235e-01,  1.57721505e-01, -8.72303545e-02],\n",
      "         [ 1.56891271e-01,  1.17179260e-01, -1.63438916e-02],\n",
      "         [ 1.89375505e-01,  2.14613035e-01,  1.77735671e-01]]],\n",
      "\n",
      "\n",
      "       [[[ 1.75222754e-03,  1.42363712e-01, -3.69005948e-02],\n",
      "         [ 1.93673804e-01,  3.46313566e-02, -1.86301842e-01],\n",
      "         [ 1.29388884e-01,  1.16026774e-01, -1.20544434e-02],\n",
      "         [-2.19033673e-01, -2.12734625e-01,  7.72682875e-02],\n",
      "         [-8.84171873e-02, -5.38948029e-02, -2.14467257e-01],\n",
      "         [-1.38898939e-01, -1.81525573e-01, -2.85503715e-02],\n",
      "         [-2.05780566e-01,  2.12871268e-01,  2.22519040e-03],\n",
      "         [-1.76454455e-01, -3.12560350e-02, -1.20608516e-01],\n",
      "         [ 1.16228804e-01, -3.36271673e-02,  1.41502276e-01],\n",
      "         [-1.30840003e-01, -5.96246719e-02,  1.43092111e-01]],\n",
      "\n",
      "        [[ 1.46824464e-01, -1.60613120e-01,  1.63638845e-01],\n",
      "         [-2.46815383e-03, -1.56873628e-01,  1.25014558e-01],\n",
      "         [-2.91754752e-02, -2.04652399e-02,  4.12017554e-02],\n",
      "         [ 1.06825367e-01,  2.06800252e-02, -6.39335960e-02],\n",
      "         [-1.78337604e-01, -2.46502459e-03,  3.91871780e-02],\n",
      "         [ 2.06929401e-01,  4.30298299e-02,  8.49513263e-02],\n",
      "         [ 1.63938686e-01, -7.08222240e-02,  1.13731608e-01],\n",
      "         [ 9.07026976e-02, -9.41309184e-02, -6.41087443e-02],\n",
      "         [ 4.04729098e-02, -9.59918797e-02,  1.85997486e-02],\n",
      "         [ 8.89421552e-02,  1.65468171e-01,  1.73990682e-01]],\n",
      "\n",
      "        [[ 6.77860826e-02, -2.07838655e-01, -8.85365158e-02],\n",
      "         [ 2.10932180e-01, -1.17214844e-01,  5.09139448e-02],\n",
      "         [-1.94403976e-01,  7.65979737e-02,  5.65175861e-02],\n",
      "         [ 1.50060698e-01,  1.95537314e-01,  2.52214521e-02],\n",
      "         [-4.45879698e-02,  2.11178049e-01, -9.72925276e-02],\n",
      "         [-5.44761270e-02,  5.13356775e-02,  5.76745719e-02],\n",
      "         [-1.11594684e-01, -1.72935247e-01,  1.53924480e-01],\n",
      "         [-1.39538467e-01,  1.12028882e-01, -1.46024317e-01],\n",
      "         [ 4.45193499e-02, -1.90982610e-01,  1.26195028e-01],\n",
      "         [-1.02986924e-01,  1.15136340e-01,  1.94788277e-02]]]],\n",
      "      dtype=float32), array([0., 0., 0.], dtype=float32), array([[[[ 0.1657331 ,  0.05045128,  0.12270984],\n",
      "         [-0.0405148 , -0.06207123, -0.21348834],\n",
      "         [-0.03742799,  0.24926957, -0.22711945]],\n",
      "\n",
      "        [[ 0.26989964,  0.17099956, -0.22574203],\n",
      "         [-0.12790594, -0.0730598 ,  0.29839745],\n",
      "         [-0.08548348, -0.03855523,  0.03041348]],\n",
      "\n",
      "        [[ 0.01890349, -0.18226878,  0.09576902],\n",
      "         [ 0.06467018, -0.15159592,  0.04766831],\n",
      "         [-0.07489124, -0.1974864 , -0.18931906]]],\n",
      "\n",
      "\n",
      "       [[[-0.07961115,  0.30269316, -0.17600688],\n",
      "         [-0.08896486, -0.3008395 , -0.18171334],\n",
      "         [-0.16225132,  0.15868482,  0.17822805]],\n",
      "\n",
      "        [[ 0.07143936,  0.28491774, -0.01607212],\n",
      "         [ 0.11481246, -0.15035455, -0.01174045],\n",
      "         [-0.13662975, -0.08849995, -0.03036562]],\n",
      "\n",
      "        [[ 0.2296361 , -0.2357006 , -0.33291692],\n",
      "         [ 0.17122689,  0.19602618, -0.21350121],\n",
      "         [ 0.23802152, -0.12593794, -0.10260002]]],\n",
      "\n",
      "\n",
      "       [[[-0.19453017,  0.32557848,  0.31509414],\n",
      "         [ 0.05842456,  0.30391636,  0.09731045],\n",
      "         [ 0.13396701, -0.10378592,  0.2119973 ]],\n",
      "\n",
      "        [[-0.01428509, -0.31511086, -0.12878077],\n",
      "         [-0.18467014, -0.24938099, -0.297944  ],\n",
      "         [-0.11080989,  0.11326614, -0.1328691 ]],\n",
      "\n",
      "        [[-0.25970358,  0.2881414 , -0.2805729 ],\n",
      "         [ 0.24408677, -0.06498933, -0.22179095],\n",
      "         [-0.24284291,  0.05430436,  0.30717126]]]], dtype=float32), array([0., 0., 0.], dtype=float32), array([1., 1., 1.], dtype=float32), array([0., 0., 0.], dtype=float32), array([0., 0., 0.], dtype=float32), array([1., 1., 1.], dtype=float32), array([[-0.09746423,  0.13246094, -0.1209214 , ...,  0.0085523 ,\n",
      "         0.03880565, -0.15145165],\n",
      "       [ 0.0121121 ,  0.03477572, -0.09693897, ..., -0.13855347,\n",
      "         0.15337504, -0.02912752],\n",
      "       [-0.10375579, -0.07695381,  0.06006315, ..., -0.04947229,\n",
      "         0.0021749 , -0.09332265],\n",
      "       ...,\n",
      "       [-0.03017782, -0.08783939, -0.08809107, ..., -0.10431477,\n",
      "        -0.02529933,  0.10463242],\n",
      "       [-0.02372311,  0.06039585, -0.16508146, ...,  0.11846711,\n",
      "        -0.0674676 ,  0.0485691 ],\n",
      "       [ 0.01888829,  0.09724949,  0.07367478, ...,  0.17824109,\n",
      "         0.17994292, -0.04073769]], dtype=float32), array([0., 0., 0., 0., 0., 0., 0., 0., 0., 0., 0., 0., 0., 0., 0., 0., 0.,\n",
      "       0., 0., 0., 0., 0., 0., 0., 0., 0., 0., 0., 0., 0., 0., 0., 0., 0.,\n",
      "       0., 0., 0., 0., 0., 0., 0., 0., 0., 0., 0., 0., 0., 0., 0., 0., 0.,\n",
      "       0., 0., 0., 0., 0., 0., 0., 0., 0., 0., 0., 0., 0., 0., 0., 0., 0.,\n",
      "       0., 0., 0., 0., 0., 0., 0., 0., 0., 0., 0., 0., 0., 0., 0., 0., 0.,\n",
      "       0., 0., 0., 0., 0., 0., 0., 0., 0., 0., 0., 0., 0., 0., 0., 0., 0.,\n",
      "       0., 0., 0., 0., 0., 0., 0., 0., 0., 0., 0., 0., 0., 0., 0., 0., 0.,\n",
      "       0., 0., 0., 0., 0., 0., 0., 0., 0.], dtype=float32), array([[ 0.13786466,  0.04417934,  0.13947897, ...,  0.11830504,\n",
      "         0.20416357,  0.18505181],\n",
      "       [-0.09818149, -0.0515894 , -0.05921897, ...,  0.13517062,\n",
      "        -0.05130868,  0.11651473],\n",
      "       [ 0.13822971,  0.18764816,  0.1799594 , ..., -0.05023843,\n",
      "         0.14004947,  0.03671025],\n",
      "       ...,\n",
      "       [-0.08444192, -0.18197484, -0.20825063, ..., -0.06374396,\n",
      "        -0.0239014 , -0.1999372 ],\n",
      "       [-0.05513185,  0.09591226, -0.08163036, ...,  0.085059  ,\n",
      "         0.17237498,  0.06264563],\n",
      "       [-0.02368739,  0.08549444, -0.09133353, ..., -0.00988527,\n",
      "         0.00033353,  0.1379957 ]], dtype=float32), array([0., 0., 0., 0., 0., 0., 0., 0., 0., 0.], dtype=float32)]\n"
     ]
    }
   ],
   "source": [
    "print(model.get_weights())"
   ]
  },
  {
   "cell_type": "markdown",
   "metadata": {},
   "source": [
    "## Fitting a neural network model to MNIST data\n",
    "Transform the data into the network's expected input and then fit the model on training data and training labels. Model fitting requires a training data set, together with the training labels to the network.\n",
    "\n",
    "#Fit the model on a training set\n",
    "model.fit(train_data, train_labels, \n",
    "          validation_split=0.2, \n",
    "          epochs=3, batch_size=10)"
   ]
  },
  {
   "cell_type": "code",
   "execution_count": 161,
   "metadata": {},
   "outputs": [
    {
     "name": "stdout",
     "output_type": "stream",
     "text": [
      "Epoch 1/25\n",
      "480/480 [==============================] - 6s 12ms/step - loss: 0.9661 - accuracy: 0.6977 - val_loss: 0.2075 - val_accuracy: 0.9378\n",
      "Epoch 2/25\n",
      "480/480 [==============================] - 5s 11ms/step - loss: 0.1808 - accuracy: 0.9436 - val_loss: 0.1639 - val_accuracy: 0.9503\n",
      "Epoch 3/25\n",
      "480/480 [==============================] - 6s 12ms/step - loss: 0.1261 - accuracy: 0.9585 - val_loss: 0.1108 - val_accuracy: 0.9656\n",
      "Epoch 4/25\n",
      "480/480 [==============================] - 6s 12ms/step - loss: 0.0957 - accuracy: 0.9705 - val_loss: 0.1055 - val_accuracy: 0.9674\n",
      "Epoch 5/25\n",
      "480/480 [==============================] - 6s 12ms/step - loss: 0.0849 - accuracy: 0.9728 - val_loss: 0.0869 - val_accuracy: 0.9729\n",
      "Epoch 6/25\n",
      "480/480 [==============================] - 6s 13ms/step - loss: 0.0672 - accuracy: 0.9785 - val_loss: 0.0794 - val_accuracy: 0.9758\n",
      "Epoch 7/25\n",
      "480/480 [==============================] - 6s 13ms/step - loss: 0.0622 - accuracy: 0.9805 - val_loss: 0.0817 - val_accuracy: 0.9749\n",
      "Epoch 8/25\n",
      "480/480 [==============================] - 6s 12ms/step - loss: 0.0545 - accuracy: 0.9828 - val_loss: 0.0688 - val_accuracy: 0.9793\n",
      "Epoch 9/25\n",
      "480/480 [==============================] - 6s 12ms/step - loss: 0.0485 - accuracy: 0.9834 - val_loss: 0.0721 - val_accuracy: 0.9782\n",
      "Epoch 10/25\n",
      "480/480 [==============================] - 6s 12ms/step - loss: 0.0451 - accuracy: 0.9857 - val_loss: 0.0711 - val_accuracy: 0.9795\n",
      "Epoch 11/25\n",
      "480/480 [==============================] - 6s 13ms/step - loss: 0.0427 - accuracy: 0.9865 - val_loss: 0.0693 - val_accuracy: 0.9800\n",
      "Epoch 12/25\n",
      "480/480 [==============================] - 6s 13ms/step - loss: 0.0383 - accuracy: 0.9874 - val_loss: 0.0699 - val_accuracy: 0.9795\n",
      "Epoch 13/25\n",
      "480/480 [==============================] - 6s 13ms/step - loss: 0.0356 - accuracy: 0.9885 - val_loss: 0.0720 - val_accuracy: 0.9793\n",
      "Epoch 14/25\n",
      "480/480 [==============================] - 6s 13ms/step - loss: 0.0347 - accuracy: 0.9890 - val_loss: 0.0729 - val_accuracy: 0.9790\n",
      "Epoch 15/25\n",
      "480/480 [==============================] - 6s 13ms/step - loss: 0.0324 - accuracy: 0.9893 - val_loss: 0.0691 - val_accuracy: 0.9811\n",
      "Epoch 16/25\n",
      "480/480 [==============================] - 6s 12ms/step - loss: 0.0295 - accuracy: 0.9900 - val_loss: 0.0802 - val_accuracy: 0.9781\n",
      "Epoch 17/25\n",
      "480/480 [==============================] - 6s 12ms/step - loss: 0.0281 - accuracy: 0.9906 - val_loss: 0.0649 - val_accuracy: 0.9816\n",
      "Epoch 18/25\n",
      "480/480 [==============================] - 6s 12ms/step - loss: 0.0277 - accuracy: 0.9903 - val_loss: 0.0764 - val_accuracy: 0.9790\n",
      "Epoch 19/25\n",
      "480/480 [==============================] - 6s 12ms/step - loss: 0.0261 - accuracy: 0.9909 - val_loss: 0.0689 - val_accuracy: 0.9809\n",
      "Epoch 20/25\n",
      "480/480 [==============================] - 6s 12ms/step - loss: 0.0203 - accuracy: 0.9937 - val_loss: 0.1036 - val_accuracy: 0.9709\n",
      "Epoch 21/25\n",
      "480/480 [==============================] - 6s 12ms/step - loss: 0.0211 - accuracy: 0.9934 - val_loss: 0.0737 - val_accuracy: 0.9804\n",
      "Epoch 22/25\n",
      "480/480 [==============================] - 6s 12ms/step - loss: 0.0212 - accuracy: 0.9927 - val_loss: 0.0720 - val_accuracy: 0.9817\n",
      "Epoch 23/25\n",
      "480/480 [==============================] - 6s 13ms/step - loss: 0.0191 - accuracy: 0.9932 - val_loss: 0.0675 - val_accuracy: 0.9821\n",
      "Epoch 24/25\n",
      "480/480 [==============================] - 6s 13ms/step - loss: 0.0189 - accuracy: 0.9932 - val_loss: 0.0902 - val_accuracy: 0.9772\n",
      "Epoch 25/25\n",
      "480/480 [==============================] - 6s 13ms/step - loss: 0.0177 - accuracy: 0.9943 - val_loss: 0.0795 - val_accuracy: 0.9788\n"
     ]
    }
   ],
   "source": [
    "# Fit the model\n",
    "training=model.fit(x_train, Y_train, validation_split=0.2, epochs=25, batch_size=100)"
   ]
  },
  {
   "cell_type": "code",
   "execution_count": 162,
   "metadata": {
    "scrolled": true
   },
   "outputs": [
    {
     "name": "stdout",
     "output_type": "stream",
     "text": [
      "313/313 [==============================] - 1s 2ms/step - loss: 0.0611 - accuracy: 0.9830\n",
      "Test loss: 0.06105506420135498\n",
      "Test accuracy: 0.9829999804496765\n"
     ]
    }
   ],
   "source": [
    "# Evaluate the model\n",
    "score=model.evaluate(x_test, Y_test)\n",
    "print('Test loss:', score[0])\n",
    "print('Test accuracy:', score[1])"
   ]
  },
  {
   "cell_type": "markdown",
   "metadata": {},
   "source": [
    "# Exercise\n",
    "\n",
    "####  Change the batch size and see if it's affecting the training process?\n",
    "\n",
    "####  Change the network architecture - omit one conv2D or dropout or batch normalization layer \n",
    "\n",
    "####  Change the kernel size and number of kernels as well to see the effect on the training process?\n"
   ]
  },
  {
   "cell_type": "markdown",
   "metadata": {},
   "source": [
    "## Evaluating a CNN with test data\n",
    "To evaluate a trained neural network, you should provide a separate test dataset of labeled images. The model you fit in the previous exercise is available in your workspace.\n",
    "\n",
    "Evaluate the data on a separate test set: test_data and test_labels."
   ]
  },
  {
   "cell_type": "code",
   "execution_count": 119,
   "metadata": {},
   "outputs": [
    {
     "name": "stdout",
     "output_type": "stream",
     "text": [
      "100/100 [==============================] - 1s 6ms/step - loss: 0.0677 - accuracy: 0.9855\n"
     ]
    },
    {
     "data": {
      "text/plain": [
       "[0.06766439229249954, 0.9854999780654907]"
      ]
     },
     "execution_count": 119,
     "metadata": {},
     "output_type": "execute_result"
    }
   ],
   "source": [
    "# Evaluate the model on separate test data\n",
    "model.evaluate(x_test, Y_test, batch_size=100)"
   ]
  },
  {
   "cell_type": "markdown",
   "metadata": {},
   "source": [
    "## Plot the learning curves\n",
    "During learning, the model will store the loss function evaluated in each epoch. Looking at the learning curves can tell us quite a bit about the learning process. In this part we will plot the learning and validation loss curves for a trained model."
   ]
  },
  {
   "cell_type": "code",
   "execution_count": 127,
   "metadata": {},
   "outputs": [],
   "source": [
    "#training.history"
   ]
  },
  {
   "cell_type": "code",
   "execution_count": 121,
   "metadata": {},
   "outputs": [
    {
     "data": {
      "image/png": "[encoded data removed]",
      "text/plain": [
       "<Figure size 432x288 with 1 Axes>"
      ]
     },
     "metadata": {
      "needs_background": "light"
     },
     "output_type": "display_data"
    }
   ],
   "source": [
    "# Extract the history from the training object\n",
    "history = training.history\n",
    "\n",
    "# Plot the training loss \n",
    "plt.plot(history['loss'])\n",
    "plt.ylabel('Loss')\n",
    "plt.xlabel('Epochs')\n",
    "\n",
    "# Show the figure\n",
    "plt.show()"
   ]
  },
  {
   "cell_type": "code",
   "execution_count": 122,
   "metadata": {
    "scrolled": true
   },
   "outputs": [
    {
     "data": {
      "image/png": "[encoded data removed]",
      "text/plain": [
       "<Figure size 432x288 with 1 Axes>"
      ]
     },
     "metadata": {
      "needs_background": "light"
     },
     "output_type": "display_data"
    }
   ],
   "source": [
    "# Extract the history from the training object\n",
    "history = training.history\n",
    "\n",
    "# Plot the training loss \n",
    "plt.ylabel('val_loss')\n",
    "plt.xlabel('Epochs')\n",
    "# Plot the validation loss\n",
    "plt.plot(history['val_loss'])\n",
    "\n",
    "# Show the figure\n",
    "plt.show()"
   ]
  },
  {
   "cell_type": "code",
   "execution_count": 123,
   "metadata": {},
   "outputs": [
    {
     "data": {
      "image/png": "[encoded data removed]",
      "text/plain": [
       "<Figure size 432x288 with 1 Axes>"
      ]
     },
     "metadata": {
      "needs_background": "light"
     },
     "output_type": "display_data"
    }
   ],
   "source": [
    "plt.plot(training.history['accuracy'])\n",
    "plt.plot(training.history['val_accuracy'])\n",
    "plt.title('Model accuracy')\n",
    "plt.ylabel('Accuracy')\n",
    "plt.xlabel('Epoch')\n",
    "plt.legend(['Train', 'Test'], loc='upper left')\n",
    "plt.show()"
   ]
  },
  {
   "cell_type": "code",
   "execution_count": 124,
   "metadata": {},
   "outputs": [
    {
     "data": {
      "image/png": "[encoded data removed]",
      "text/plain": [
       "<Figure size 432x288 with 1 Axes>"
      ]
     },
     "metadata": {
      "needs_background": "light"
     },
     "output_type": "display_data"
    }
   ],
   "source": [
    "plt.plot(training.history['loss'])\n",
    "plt.plot(training.history['val_loss'])\n",
    "plt.title('Model loss')\n",
    "plt.ylabel('Loss')\n",
    "plt.xlabel('Epoch')\n",
    "plt.legend(['Train', 'Test'], loc='upper left')\n",
    "plt.show()"
   ]
  },
  {
   "cell_type": "markdown",
   "metadata": {},
   "source": [
    "### Make predictions for all test images and store the results in a csv"
   ]
  },
  {
   "cell_type": "code",
   "execution_count": 130,
   "metadata": {},
   "outputs": [],
   "source": [
    "prediction = np.argmax(model.predict(x_test), axis=-1)\n",
    "submission = pd.DataFrame({\"ImageId\": list(range(1,len(prediction)+1)),\n",
    "                         \"Label\": prediction})\n",
    "submission.to_csv(\"submission.csv\", index=False, header=True)"
   ]
  },
  {
   "cell_type": "markdown",
   "metadata": {},
   "source": [
    "### Make predictions for a random image"
   ]
  },
  {
   "cell_type": "code",
   "execution_count": 137,
   "metadata": {
    "scrolled": true
   },
   "outputs": [
    {
     "name": "stdout",
     "output_type": "stream",
     "text": [
      "Sample number is 142\n",
      "\n",
      "Image number 142 in MNIST dataset has the following (28, 28)\n",
      "\n",
      "Shape of the image is (28, 28) and image is <class 'numpy.ndarray'> array\n",
      "\n"
     ]
    },
    {
     "data": {
      "image/png": "[encoded data removed]",
      "text/plain": [
       "<Figure size 432x288 with 1 Axes>"
      ]
     },
     "metadata": {
      "needs_background": "light"
     },
     "output_type": "display_data"
    },
    {
     "name": "stdout",
     "output_type": "stream",
     "text": [
      "3\n"
     ]
    }
   ],
   "source": [
    "# Plot a random image from the training set \n",
    "# np.random.randint returns random integers between 0 and 59999.\n",
    "sampleNo = np.random.randint(0,1000)\n",
    "print(f'Sample number is {sampleNo}\\n')\n",
    "sampleImg=X_test[sampleNo]\n",
    "print(f'Image number {sampleNo} in MNIST dataset has the following {sampleImg.shape}\\n')\n",
    "#print(sampleImg,'\\n')\n",
    "print(f'Shape of the image is {sampleImg.shape} and image is {type(sampleImg)} array\\n')\n",
    "plt.imshow(sampleImg, cmap=\"gray\")\n",
    "plt.show()\n",
    "\n",
    "prediction = np.argmax(model.predict(x_test[[sampleNo],:,:,:], verbose=0))\n",
    "print(prediction)"
   ]
  },
  {
   "cell_type": "markdown",
   "metadata": {},
   "source": [
    "# Save the model"
   ]
  },
  {
   "cell_type": "code",
   "execution_count": 169,
   "metadata": {},
   "outputs": [],
   "source": [
    "from keras.models import load_model\n",
    "# creates a HDF5 file 'my_model.h5'\n",
    "model.save('mnistModel.h5')  # creates a HDF5 file 'my_model.h5'\n",
    "\n",
    "# returns a compiled model\n",
    "# identical to the previous one\n",
    "model = load_model('mnistModel.h5')"
   ]
  },
  {
   "cell_type": "markdown",
   "metadata": {},
   "source": [
    "# Exercise"
   ]
  },
  {
   "cell_type": "markdown",
   "metadata": {},
   "source": [
    "### What is the role of covolution in a CNN network?\n",
    "\n",
    "\n",
    "#### Add strides to a convolutional network\n",
    "The size of the strides of the convolution kernel determines whether the kernel will skip over some of the pixels as it slides along the image. This affects the size of the output because when strides are larger than one, the kernel will be centered on only some of the pixels. Add strides parameter to Conv2D layer and see the effect on network performance.\n",
    "\n",
    "####  Calculate the size of convolutional layer output\n",
    "Zero padding and strides affect the size of the output of a convolution. What is the size of the output for an input of size 256 by 256, with 2 kernels of size 3 by 3, padding of 1 and strides of 2?\n",
    "\n",
    "\n",
    "<img src=\"images/outputsizeconv2d.png\" width=\"240\">\n",
    "<img src=\"images/outputsize.jpeg\" width=\"640\">\n",
    "\n",
    "\n",
    "####  How many parameters in the CNN?\n",
    "We need to know how many parameters a CNN has, so we can adjust the model architecture, to reduce this number or shift parameters from one part of the network to another. How many parameters would a network have if its inputs are images with 28-by-28 pixels, there is one convolutional layer with 10 units kernels of 3-by-3 pixels, using zero padding (input has the same size as the output), and one densely connected layer with 10 units? FOrmula (FilterWidth x FilterHeight x NumberOfChannels + 1) x NumberOfFilters) \n",
    "\n",
    "<img src=\"images/outputsizecnn.jpg\" width=\"640\">\n",
    "\n",
    "#### How many parameters in the deep CNN?\n",
    "In this exercise, you will use Keras to calculate the total number of parameters along with the number of parameters in each layer of the network. What is the total number of parameters used in CNN network?\n",
    "\n",
    "#### Training and test data ratio - what happens when you decrease the training dataset ?\n",
    "Check out what happens with model performance (accuracy/loss values) when MNIST training dataset size is reduced from 50000 images to 100, 1000 and 10000 images?\n",
    "\n",
    "#### What happens with model performance when cifar10 dataset is trained on grayscale images ?\n",
    "Convert cifar10 color images to grayscale images and see if the model's performance has changed.\n",
    "\n",
    "#### What optimization parameter and acitivation function would be used in case of binary classification?"
   ]
  },
  {
   "cell_type": "code",
   "execution_count": null,
   "metadata": {},
   "outputs": [],
   "source": []
  }
 ],
 "metadata": {
  "kernelspec": {
   "display_name": "Python 3",
   "language": "python",
   "name": "python3"
  },
  "language_info": {
   "codemirror_mode": {
    "name": "ipython",
    "version": 3
   },
   "file_extension": ".py",
   "mimetype": "text/x-python",
   "name": "python",
   "nbconvert_exporter": "python",
   "pygments_lexer": "ipython3",
   "version": "3.8.5"
  }
 },
 "nbformat": 4,
 "nbformat_minor": 2
}
