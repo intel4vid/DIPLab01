{
 "cells": [
  {
   "cell_type": "markdown",
   "metadata": {},
   "source": [
    "# Computer Vision Lab\n",
    "\n",
    "## 1. Introduction\n",
    "\n",
    "This hands on lab will introduce you with the concept of convolutional neural networks used for image classification. Our goal will be to build a ConvNet with the high level of accuracy. With convolutional networks, the focus is on learning the filter weights instead of learning individually fully connected pair-wise (between inputs and outputs) weights.\n",
    "\n",
    "The first dataset is the MNIST dataset which is comprised of images of handwritten numbers from 0 to 9. This dataset will be used as a training, validation and test dataset. It is shown below. The next dataset we'll be working with is the Fashion-MNIST, dataset of 60,000 28x28 grayscale images of 10 fashion categories, along with a test set of 10,000 images. The last dataset is the CIFAR10 dataset. This is a dataset of 50,000 32x32 color training images and 10,000 test images, labeled over 10 categories.\n",
    "\n",
    "MNIST\n",
    "<br>\n",
    "<img src=\"http://petr-marek.com/wp-content/uploads/2017/07/mnist.png\" width=\"480\">\n",
    "<br>\n",
    "\n",
    "Fashion MNIST\n",
    "<br>\n",
    "<img src=\"images/fashion.jpg\" width=\"480\" >\n",
    "<br>\n",
    "\n",
    "CIFAR10\n",
    "<br>\n",
    "<img src=\"images/CIFAR.png\" width=\"480\">\n",
    "<br>\n",
    "<br>\n",
    "\n",
    "Keras API with Tensorflow as a backend will be used to build the CNN network. Before building and training a network you will be dealing with dataset analysis, visualisation and preprocessing. After preparing the data a process of designing, building and evaluating the network will be performed. We will experiment with different models by changing their parameters."
   ]
  },
  {
   "cell_type": "code",
   "execution_count": 2,
   "metadata": {},
   "outputs": [],
   "source": [
    "import os\n",
    "import time\n",
    "import numpy as np\n",
    "import pandas as pd\n",
    "import matplotlib.pyplot as plt\n",
    "import seaborn as sns\n",
    "\n",
    "\n",
    "#from sklearn.model_selection import train_test_split\n",
    "#from sklearn.metrics import confusion_matrix\n",
    "\n",
    "import tensorflow as tf\n",
    "from tensorflow import keras\n",
    "from tensorflow.keras import layers\n",
    "from keras.utils import to_categorical\n",
    "from keras.models import Sequential\n",
    "from keras.layers import Dense, Dropout, Flatten, Conv2D\n",
    "from keras.optimizers import RMSprop\n",
    "from keras.layers import BatchNormalization\n",
    "from keras.datasets import mnist, fashion_mnist, cifar10"
   ]
  },
  {
   "cell_type": "markdown",
   "metadata": {},
   "source": [
    "## 2. Data download\n",
    "\n",
    "The MNIST database contains standard handwritten digits that have been widely used for training and testing of machine learning algorithms. It has a training set of 60,000 images and a test set of 10,000 images with each image being 28 x 28 pixels. This set is easy to use visualize and train on any computer. The MNIST dataset is usually provided and downloadable as part of the Keras library.\n"
   ]
  },
  {
   "cell_type": "markdown",
   "metadata": {},
   "source": [
    "## MNIST data"
   ]
  },
  {
   "cell_type": "code",
   "execution_count": 3,
   "metadata": {},
   "outputs": [],
   "source": [
    "#download MNIST data and split into train and test sets\n",
    "# mnist.load_data()\n",
    "(X_train, y_train), (X_test, y_test) = mnist.load_data()"
   ]
  },
  {
   "cell_type": "markdown",
   "metadata": {},
   "source": [
    "## Fashion_MNIST data"
   ]
  },
  {
   "cell_type": "code",
   "execution_count": 250,
   "metadata": {},
   "outputs": [],
   "source": [
    "# fashion_mnist.load_data()\n",
    "(X_train, y_train), (X_test, y_test) = fashion_mnist.load_data()"
   ]
  },
  {
   "cell_type": "markdown",
   "metadata": {},
   "source": [
    "## cifar10 data"
   ]
  },
  {
   "cell_type": "code",
   "execution_count": 348,
   "metadata": {},
   "outputs": [],
   "source": [
    "# cifar10.load_data()\n",
    "(X_train, y_train), (X_test, y_test) = cifar10.load_data()"
   ]
  },
  {
   "cell_type": "code",
   "execution_count": 350,
   "metadata": {},
   "outputs": [],
   "source": [
    "y_train =  [y for x in y_train for y in x]\n",
    "y_test = [y for x in y_test for y in x]"
   ]
  },
  {
   "cell_type": "markdown",
   "metadata": {},
   "source": [
    "# Dataset reduction"
   ]
  },
  {
   "cell_type": "code",
   "execution_count": 145,
   "metadata": {},
   "outputs": [],
   "source": [
    "X_train = X_train[:10000]\n",
    "y_train = y_train[:10000]\n",
    "X_test = X_test[:1000]\n",
    "y_test = y_test[:1000]"
   ]
  },
  {
   "cell_type": "markdown",
   "metadata": {},
   "source": [
    "## Explore the train and test data"
   ]
  },
  {
   "cell_type": "code",
   "execution_count": 4,
   "metadata": {
    "scrolled": true
   },
   "outputs": [
    {
     "name": "stdout",
     "output_type": "stream",
     "text": [
      "The shape of training set is: (60000, 28, 28)\n",
      "The shape of test set is: (10000, 28, 28)\n",
      "\n",
      "The size of training set is: 45937.5 kB\n",
      "The size of test set is: 7656.25 kB\n",
      "\n",
      "The training set is: 3 - dimensional array\n",
      "The test set is: 3 - dimensional array\n",
      "\n",
      "The training set type is: uint8\n",
      "The test set type is: uint8\n",
      "\n"
     ]
    }
   ],
   "source": [
    "#check the shape, size and dtype of loaded dataset\n",
    "print(f'The shape of training set is: {X_train.shape}')\n",
    "print(f'The shape of test set is: {X_test.shape}\\n')\n",
    "\n",
    "print(f'The size of training set is: {X_train.size/1024} kB')\n",
    "print(f'The size of test set is: {X_test.size/1024} kB\\n')\n",
    "\n",
    "\n",
    "print(f'The training set is: {X_train.ndim} - dimensional array')\n",
    "print(f'The test set is: {X_test.ndim} - dimensional array\\n')\n",
    "\n",
    "print(f'The training set type is: {X_train.dtype}')\n",
    "print(f'The test set type is: {X_test.dtype}\\n')"
   ]
  },
  {
   "cell_type": "code",
   "execution_count": 10,
   "metadata": {},
   "outputs": [
    {
     "name": "stdout",
     "output_type": "stream",
     "text": [
      "[[  0   0   0   0   0   0   0   0   0   0   0   0   0   0   0   0   0   0\n",
      "    0   0   0   0   0   0   0   0   0   0]\n",
      " [  0   0   0   0   0   0   0   0   0   0   0   0   0   0   0   0   0   0\n",
      "    0   0   0   0   0   0   0   0   0   0]\n",
      " [  0   0   0   0   0   0   0   0   0   0   0   0   0   0   0   0   0   0\n",
      "    0   0   0   0   0   0   0   0   0   0]\n",
      " [  0   0   0   0   0   0   0   0   0   0   0   0   0   0   0   0   0   0\n",
      "    0   0   0   0   0   0   0   0   0   0]\n",
      " [  0   0   0   0   0   0   0   0   0   0   0   0   0   0   0   0   0   0\n",
      "    0   0   0   0   0   0   0   0   0   0]\n",
      " [  0   0   0   0   0   0   0   0 230 255 103   0   0   0   0   0   0   0\n",
      "    0   0   0   0   0   0   0   0   0   0]\n",
      " [  0   0   0   0   0   0   0 103 253 253 168   0   0   0   0   0   0  79\n",
      "  103   0   0   0   0   0   0   0   0   0]\n",
      " [  0   0   0   0   0   0   0 105 253 253 168   0   0   0   0   0  44 249\n",
      "  252 216   0   0   0   0   0   0   0   0]\n",
      " [  0   0   0   0   0   0   0 158 253 253 168   0   0   0   0   0  46 253\n",
      "  253 238  43   0   0   0   0   0   0   0]\n",
      " [  0   0   0   0   0   0   0 235 253 253 102   0   0   0   0   0  46 253\n",
      "  253 253 104   0   0   0   0   0   0   0]\n",
      " [  0   0   0   0   0   0  98 251 253 253 168   0   0   0   0   0  46 253\n",
      "  253 253 217   0   0   0   0   0   0   0]\n",
      " [  0   0   0   0   0   0 112 253 253 253  58   0   0   0   0   0  46 253\n",
      "  253 253 190   0   0   0   0   0   0   0]\n",
      " [  0   0   0   0   0   0  20 238 253 253  38   0  63  79 176 209 217 253\n",
      "  253 253 104   0   0   0   0   0   0   0]\n",
      " [  0   0   0   0   0   0   0 235 253 253 210 202 243 253 253 253 253 253\n",
      "  253 246  75   0   0   0   0   0   0   0]\n",
      " [  0   0   0   0   0   0   0 235 253 253 253 253 253 253 253 253 253 253\n",
      "  253 227   0   0   0   0   0   0   0   0]\n",
      " [  0   0   0   0   0   0   0 205 253 253 253 253 253 253 253 211 205 253\n",
      "  253 227   0   0   0   0   0   0   0   0]\n",
      " [  0   0   0   0   0   0   0 105 253 253 253 237 201 101  71  20  46 253\n",
      "  253 246  75   0   0   0   0   0   0   0]\n",
      " [  0   0   0   0   0   0   0  32  78  78  78  54   0   0   0   0  46 253\n",
      "  253 253 104   0   0   0   0   0   0   0]\n",
      " [  0   0   0   0   0   0   0   0   0   0   0   0   0   0   0   0  46 253\n",
      "  253 253 104   0   0   0   0   0   0   0]\n",
      " [  0   0   0   0   0   0   0   0   0   0   0   0   0   0   0   0  46 253\n",
      "  253 253 121   0   0   0   0   0   0   0]\n",
      " [  0   0   0   0   0   0   0   0   0   0   0   0   0   0   0   0  18 201\n",
      "  253 253 234   0   0   0   0   0   0   0]\n",
      " [  0   0   0   0   0   0   0   0   0   0   0   0   0   0   0   0   0 170\n",
      "  253 253 234   0   0   0   0   0   0   0]\n",
      " [  0   0   0   0   0   0   0   0   0   0   0   0   0   0   0   0   0 163\n",
      "  253 253 234   0   0   0   0   0   0   0]\n",
      " [  0   0   0   0   0   0   0   0   0   0   0   0   0   0   0   0   0  39\n",
      "  251 253 234   0   0   0   0   0   0   0]\n",
      " [  0   0   0   0   0   0   0   0   0   0   0   0   0   0   0   0   0   0\n",
      "  163 253 166   0   0   0   0   0   0   0]\n",
      " [  0   0   0   0   0   0   0   0   0   0   0   0   0   0   0   0   0   0\n",
      "    0   0   0   0   0   0   0   0   0   0]\n",
      " [  0   0   0   0   0   0   0   0   0   0   0   0   0   0   0   0   0   0\n",
      "    0   0   0   0   0   0   0   0   0   0]\n",
      " [  0   0   0   0   0   0   0   0   0   0   0   0   0   0   0   0   0   0\n",
      "    0   0   0   0   0   0   0   0   0   0]]\n",
      "60000\n"
     ]
    },
    {
     "data": {
      "image/png": "[encoded data removed]",
      "text/plain": [
       "<Figure size 432x288 with 1 Axes>"
      ]
     },
     "metadata": {
      "needs_background": "light"
     },
     "output_type": "display_data"
    }
   ],
   "source": [
    "#chek the dataset image\n",
    "import random\n",
    "randomSample=random.choice(X_train)\n",
    "print(randomSample)\n",
    "plt.imshow(randomSample, cmap=\"gray\")\n",
    "plt.plot()\n",
    "print(X_train.shape[0])\n"
   ]
  },
  {
   "cell_type": "markdown",
   "metadata": {},
   "source": [
    "## Visualize training data from MNIST dataset"
   ]
  },
  {
   "cell_type": "code",
   "execution_count": 11,
   "metadata": {
    "scrolled": true
   },
   "outputs": [
    {
     "name": "stdout",
     "output_type": "stream",
     "text": [
      "Sample number is 376\n",
      "\n",
      "Image number 376 in MNIST dataset has the following (28, 28)\n",
      "\n",
      "Shape of the image is (28, 28) and image is <class 'numpy.ndarray'> array\n",
      "\n"
     ]
    }
   ],
   "source": [
    "# Plot a random image from the training set \n",
    "# np.random.randint returns random integers between 0 and 59999.\n",
    "sampleNo = np.random.randint(0,10000)\n",
    "print(f'Sample number is {sampleNo}\\n')\n",
    "sampleImg=X_train[sampleNo]\n",
    "print(f'Image number {sampleNo} in MNIST dataset has the following {sampleImg.shape}\\n')\n",
    "#print(sampleImg,'\\n')\n",
    "print(f'Shape of the image is {sampleImg.shape} and image is {type(sampleImg)} array\\n')"
   ]
  },
  {
   "cell_type": "markdown",
   "metadata": {},
   "source": [
    "It can be helpful to plot and visualise the data before proceeding with further data handling and model design. This can help us avoid issues later during the model training. "
   ]
  },
  {
   "cell_type": "code",
   "execution_count": 13,
   "metadata": {},
   "outputs": [
    {
     "name": "stdout",
     "output_type": "stream",
     "text": [
      "0 AxesSubplot(0.125,0.125;0.110714x0.755)\n",
      "1 AxesSubplot(0.257857,0.125;0.110714x0.755)\n",
      "2 AxesSubplot(0.390714,0.125;0.110714x0.755)\n",
      "3 AxesSubplot(0.523571,0.125;0.110714x0.755)\n",
      "4 AxesSubplot(0.656429,0.125;0.110714x0.755)\n",
      "5 AxesSubplot(0.789286,0.125;0.110714x0.755)\n"
     ]
    },
    {
     "data": {
      "image/png": "[encoded data removed]",
      "text/plain": [
       "<Figure size 1080x720 with 6 Axes>"
      ]
     },
     "metadata": {
      "needs_background": "light"
     },
     "output_type": "display_data"
    }
   ],
   "source": [
    "fig,axes=plt.subplots(nrows=1,ncols=6, figsize=(15,10))\n",
    "for i,ax in enumerate(axes):\n",
    "    print(i, ax)\n",
    "    ax.imshow(X_train[i], cmap=\"gray\")\n",
    "    ax.axis()    \n",
    "plt.show()"
   ]
  },
  {
   "cell_type": "markdown",
   "metadata": {},
   "source": [
    "The shape of images in MNIST dataset is 28 x 28 x 1 pixels which means that the convolutional neural network will be able to run over each image in our dataset pretty fast."
   ]
  },
  {
   "cell_type": "markdown",
   "metadata": {},
   "source": [
    "## Visualize labels from training data set"
   ]
  },
  {
   "cell_type": "markdown",
   "metadata": {},
   "source": [
    "For visualisation of labels data we'll perform transformation to Pandas data frame."
   ]
  },
  {
   "cell_type": "code",
   "execution_count": 15,
   "metadata": {},
   "outputs": [
    {
     "data": {
      "text/plain": [
       "array([5, 0, 4, ..., 5, 6, 8], dtype=uint8)"
      ]
     },
     "execution_count": 15,
     "metadata": {},
     "output_type": "execute_result"
    }
   ],
   "source": [
    "y_train"
   ]
  },
  {
   "cell_type": "code",
   "execution_count": 16,
   "metadata": {},
   "outputs": [],
   "source": [
    "y_trains=pd.Series(y_train)"
   ]
  },
  {
   "cell_type": "code",
   "execution_count": 17,
   "metadata": {},
   "outputs": [
    {
     "name": "stdout",
     "output_type": "stream",
     "text": [
      "1    6742\n",
      "7    6265\n",
      "3    6131\n",
      "2    5958\n",
      "9    5949\n",
      "0    5923\n",
      "6    5918\n",
      "8    5851\n",
      "4    5842\n",
      "5    5421\n",
      "dtype: int64\n"
     ]
    }
   ],
   "source": [
    "# show the frequency distribution of label values \n",
    "print(y_trains.value_counts())"
   ]
  },
  {
   "cell_type": "code",
   "execution_count": 18,
   "metadata": {},
   "outputs": [
    {
     "name": "stdout",
     "output_type": "stream",
     "text": [
      "count    60000.000000\n",
      "mean         4.453933\n",
      "std          2.889270\n",
      "min          0.000000\n",
      "25%          2.000000\n",
      "50%          4.000000\n",
      "75%          7.000000\n",
      "max          9.000000\n",
      "dtype: float64\n"
     ]
    }
   ],
   "source": [
    "#show statistics \n",
    "print(y_trains.describe())"
   ]
  },
  {
   "cell_type": "markdown",
   "metadata": {},
   "source": [
    "## Plot the frequency distribution of training label values"
   ]
  },
  {
   "cell_type": "code",
   "execution_count": 19,
   "metadata": {
    "scrolled": true
   },
   "outputs": [
    {
     "data": {
      "image/png": "[encoded data removed]",
      "text/plain": [
       "<Figure size 432x288 with 1 Axes>"
      ]
     },
     "metadata": {
      "needs_background": "light"
     },
     "output_type": "display_data"
    }
   ],
   "source": [
    "g = sns.countplot(x=y_train)"
   ]
  },
  {
   "cell_type": "markdown",
   "metadata": {},
   "source": [
    "## Plot the frequency distribution of test label values"
   ]
  },
  {
   "cell_type": "code",
   "execution_count": 20,
   "metadata": {},
   "outputs": [
    {
     "data": {
      "image/png": "[encoded data removed]",
      "text/plain": [
       "<Figure size 432x288 with 1 Axes>"
      ]
     },
     "metadata": {
      "needs_background": "light"
     },
     "output_type": "display_data"
    }
   ],
   "source": [
    "y_tests=pd.Series(y_train)\n",
    "g = sns.countplot(x=y_tests)"
   ]
  },
  {
   "cell_type": "markdown",
   "metadata": {},
   "source": [
    "## Preprocessing of training and test data\n",
    "This step requires declaring a dimension for the depth of the input image. As shown previosly images in our data set have the following shape (60000, 28, 28). The first parameters reffers to number of images in dataset and other two parameters represent image width and image height. Hence, the depth parameter for images is missing. In this case depth is 1 because we are working with grayscale images. In case of color images the depth parameter would be 3. "
   ]
  },
  {
   "cell_type": "code",
   "execution_count": 23,
   "metadata": {},
   "outputs": [],
   "source": [
    "# Reshapes data\n",
    "x_train = X_train.reshape(X_train.shape[0], 28, 28, 1)\n",
    "x_test = X_test.reshape(X_test.shape[0], 28, 28, 1)"
   ]
  },
  {
   "cell_type": "code",
   "execution_count": 22,
   "metadata": {},
   "outputs": [
    {
     "ename": "ValueError",
     "evalue": "cannot reshape array of size 47040000 into shape (60000,32,32,3)",
     "output_type": "error",
     "traceback": [
      "\u001b[1;31m---------------------------------------------------------------------------\u001b[0m",
      "\u001b[1;31mValueError\u001b[0m                                Traceback (most recent call last)",
      "\u001b[1;32m<ipython-input-22-8665877d055e>\u001b[0m in \u001b[0;36m<module>\u001b[1;34m\u001b[0m\n\u001b[0;32m      1\u001b[0m \u001b[1;31m# Reshapes data in case of cifar 10 which has 32 by 32 by 3 channels - color images\u001b[0m\u001b[1;33m\u001b[0m\u001b[1;33m\u001b[0m\u001b[1;33m\u001b[0m\u001b[0m\n\u001b[1;32m----> 2\u001b[1;33m \u001b[0mx_train\u001b[0m \u001b[1;33m=\u001b[0m \u001b[0mX_train\u001b[0m\u001b[1;33m.\u001b[0m\u001b[0mreshape\u001b[0m\u001b[1;33m(\u001b[0m\u001b[0mX_train\u001b[0m\u001b[1;33m.\u001b[0m\u001b[0mshape\u001b[0m\u001b[1;33m[\u001b[0m\u001b[1;36m0\u001b[0m\u001b[1;33m]\u001b[0m\u001b[1;33m,\u001b[0m \u001b[1;36m32\u001b[0m\u001b[1;33m,\u001b[0m \u001b[1;36m32\u001b[0m\u001b[1;33m,\u001b[0m \u001b[1;36m3\u001b[0m\u001b[1;33m)\u001b[0m\u001b[1;33m\u001b[0m\u001b[1;33m\u001b[0m\u001b[0m\n\u001b[0m\u001b[0;32m      3\u001b[0m \u001b[0mx_test\u001b[0m \u001b[1;33m=\u001b[0m \u001b[0mX_test\u001b[0m\u001b[1;33m.\u001b[0m\u001b[0mreshape\u001b[0m\u001b[1;33m(\u001b[0m\u001b[0mX_test\u001b[0m\u001b[1;33m.\u001b[0m\u001b[0mshape\u001b[0m\u001b[1;33m[\u001b[0m\u001b[1;36m0\u001b[0m\u001b[1;33m]\u001b[0m\u001b[1;33m,\u001b[0m \u001b[1;36m32\u001b[0m\u001b[1;33m,\u001b[0m \u001b[1;36m32\u001b[0m\u001b[1;33m,\u001b[0m \u001b[1;36m3\u001b[0m\u001b[1;33m)\u001b[0m\u001b[1;33m\u001b[0m\u001b[1;33m\u001b[0m\u001b[0m\n",
      "\u001b[1;31mValueError\u001b[0m: cannot reshape array of size 47040000 into shape (60000,32,32,3)"
     ]
    }
   ],
   "source": [
    "# Reshapes data in case of cifar 10 which has 32 by 32 by 3 channels - color images\n",
    "x_train = X_train.reshape(X_train.shape[0], 32, 32, 3)\n",
    "x_test = X_test.reshape(X_test.shape[0], 32, 32, 3)"
   ]
  },
  {
   "cell_type": "markdown",
   "metadata": {},
   "source": [
    "The final preprocessing step for the input data is to convert our data type to float32 and normalize our data values to the range [0, 1]"
   ]
  },
  {
   "cell_type": "code",
   "execution_count": 24,
   "metadata": {
    "scrolled": true
   },
   "outputs": [
    {
     "name": "stdout",
     "output_type": "stream",
     "text": [
      "Original training data shape: (60000, 28, 28)\n",
      "New training data shape: (60000, 28, 28, 1)\n",
      "60000 train samples\n",
      "10000 test samples\n"
     ]
    }
   ],
   "source": [
    "x_train = x_train.astype('float32')\n",
    "x_test = x_test.astype('float32')\n",
    "x_train /= 255\n",
    "x_test /= 255\n",
    "print('Original training data shape:', X_train.shape)\n",
    "print('New training data shape:', x_train.shape)\n",
    "print(x_train.shape[0], 'train samples')\n",
    "print(x_test.shape[0], 'test samples')"
   ]
  },
  {
   "cell_type": "markdown",
   "metadata": {},
   "source": [
    "## Preprocessing of labels data"
   ]
  },
  {
   "cell_type": "markdown",
   "metadata": {},
   "source": [
    "Before proceeding with preprocessing let's us check once again attributes of our labels"
   ]
  },
  {
   "cell_type": "code",
   "execution_count": 25,
   "metadata": {},
   "outputs": [
    {
     "name": "stdout",
     "output_type": "stream",
     "text": [
      "The shape of training set is: (60000,)\n",
      "The shape of test set is: (10000,)\n",
      "\n",
      "The size of training set is: 58.59375 kB\n",
      "The size of test set is: 9.765625 kB\n",
      "\n",
      "The training set is: 1 - dimensional array\n",
      "The test set is: 1 - dimensional array\n",
      "\n",
      "The training set type is: uint8\n",
      "The test set type is: uint8\n",
      "\n"
     ]
    }
   ],
   "source": [
    "#chek the shape, size and dtype of labels in dataset\n",
    "print(f'The shape of training set is: {y_train.shape}')\n",
    "print(f'The shape of test set is: {y_test.shape}\\n')\n",
    "\n",
    "print(f'The size of training set is: {y_train.size/1024} kB')\n",
    "print(f'The size of test set is: {y_test.size/1024} kB\\n')\n",
    "\n",
    "\n",
    "print(f'The training set is: {y_train.ndim} - dimensional array')\n",
    "print(f'The test set is: {y_test.ndim} - dimensional array\\n')\n",
    "\n",
    "print(f'The training set type is: {y_train.dtype}')\n",
    "print(f'The test set type is: {y_test.dtype}\\n')"
   ]
  },
  {
   "cell_type": "markdown",
   "metadata": {},
   "source": [
    "First ten labels of our data is:"
   ]
  },
  {
   "cell_type": "code",
   "execution_count": 26,
   "metadata": {},
   "outputs": [
    {
     "name": "stdout",
     "output_type": "stream",
     "text": [
      "0    5\n",
      "1    0\n",
      "2    4\n",
      "3    1\n",
      "4    9\n",
      "dtype: uint8\n",
      "[5 0 4 1 9 2 1 3 1 4 3 5 3 6 1 7 2 8 6 9 4 0 9 1 1 2 4 3 2 7 3 8 6 9 0 5 6\n",
      " 0 7 6 1 8 7 9 3 9 8 5 9 3 3 0 7 4 9 8 0 9 4 1 4 4 6 0 4 5 6 1 0 0 1 7 1 6\n",
      " 3 0 2 1 1 7 9 0 2 6 7 8 3 9 0 4 6 7 4 6 8 0 7 8 3 1]\n"
     ]
    }
   ],
   "source": [
    "#labels in the training dataset using pandas data series\n",
    "print(y_trains.head(5))\n",
    "\n",
    "#or numpy arrays\n",
    "print(y_train[:100])\n"
   ]
  },
  {
   "cell_type": "markdown",
   "metadata": {},
   "source": [
    "The y_train and y_test data are not split into 10 distinct class labels, but rather are represented as a single array with the class values. Thus, we need to preprocess class labels by converting the 1 - dimensional numpy array to 10 - dimensional array.\n",
    "\n",
    "The labels are encoded as [1-hot]( https://en.wikipedia.org/wiki/One-hot) encoding (label of 3 with 10 digits becomes `0001000000`, where the first index corresponds to digit `0` and the last one corresponds to digit `9`.\n",
    "\n",
    "![](https://www.cntk.ai/jup/cntk103a_onehot.png)"
   ]
  },
  {
   "cell_type": "code",
   "execution_count": 27,
   "metadata": {},
   "outputs": [],
   "source": [
    "Y_train = to_categorical(y_train, 10)\n",
    "Y_test = to_categorical(y_test, 10)"
   ]
  },
  {
   "cell_type": "markdown",
   "metadata": {},
   "source": [
    "Check the dimensionality of train and test labels after one hot encoding"
   ]
  },
  {
   "cell_type": "code",
   "execution_count": 28,
   "metadata": {},
   "outputs": [
    {
     "name": "stdout",
     "output_type": "stream",
     "text": [
      "(60000, 10)\n",
      "(10000, 10)\n"
     ]
    }
   ],
   "source": [
    "print(Y_train.shape)\n",
    "print(Y_test.shape)"
   ]
  },
  {
   "cell_type": "markdown",
   "metadata": {},
   "source": [
    "## Convolutional network for image classification\n",
    "Convolutional networks for classification are constructed from a sequence of convolutional layers (for image processing) and fully connected (Dense) layers (for readout). In this exercise, you will construct a small convolutional network for classification of MNIST digits. We will use the Keras library to create neural networks and to train these neural networks to classify images. These models will all be of the Sequential type, meaning that the outputs of one layer are provided as inputs only to the next layer.\n",
    "\n",
    "* Add a Conv2D layer to construct the input layer of the network. Use a kernel size of 3 by 3. \n",
    "\n",
    "* Add a Flatten layer to translate between the image processing and classification part of your network.\n",
    "\n",
    "* Add a Dropout layer as source of regularization. Regularization is used to prevent overfitting and thus reduce the generalisation error of trained model. With dropout approach a random subset of the units in a layer is being ignored during forward pass as well as during the back propagation phase. With dropout applied to the network the process of training is slower in comparison to BatchNormalization, which brings the faster training times.\n",
    "\n",
    "* Add a Batch Normalization layer as source of regularization. With Batch Normalization the output of a particular layer is normalized by rescaling the values in a way that the underlying distribution always has 0 mean and standard deviation of 1 regardless of the training batch. The algorithm solves the problem where different batches of input might produce different distributions of outputs in any given layer in the network. Because the adjustments to the weights through back-propagation depends on the activation of the units in every step of learning, this means that the network may progress very slowly through training.\n",
    "\n",
    "* Add a Dense layer to classify the different categories of numbers/clothing/object in datasets.\n",
    "\n",
    "Besides, overfitting can be prevented by dealing with more varied training data, reducing the size of our network, optimized training stopping or using less complex network.\n",
    "\n",
    "<img src=\"https://cdn-images-1.medium.com/max/1600/1*uAeANQIOQPqWZnnuH-VEyw.jpeg\" width='480'>"
   ]
  },
  {
   "cell_type": "markdown",
   "metadata": {},
   "source": [
    "The core data structures of Keras are layers and models. The simplest type of model is the Sequential model, a linear stack of layers. For more complex architectures, you should use the Keras functional API, which allows to build arbitrary graphs of layers, or write models entirely from scratch via subclasssing."
   ]
  },
  {
   "cell_type": "markdown",
   "metadata": {},
   "source": [
    "```python\n",
    "from tensorflow.keras.models import Sequential\n",
    "\n",
    "# Initialize the model object\n",
    "model = keras.Sequential()\n",
    "\n",
    "# Define the input shape\n",
    "model.add(keras.Input(shape=(64, 64, 3)))\n",
    "\n",
    "# Add a convolutional layer\n",
    "model.add(layers.Conv2D(10, kernel_size=3, activation='relu',input_shape=(64,64, 3)))\n",
    "#model.add(Dense(10, activation='relu',input_shape=(784,)))\n",
    "\n",
    "# Add pooling layer\n",
    "model.add(layers.MaxPool2D(2))\n",
    "\n",
    "# Add a dropout layer\n",
    "model.add(layers.Dropout(0.25))\n",
    "\n",
    "# Add a convolutional layer\n",
    "model.add(layers.Conv2D(3, kernel_size=3, activation='relu'))\n",
    "\n",
    "# Flatten the output of the convolutional layer\n",
    "model.add(layers.Flatten())\n",
    "          \n",
    "# Add an output dense layer \n",
    "model.add(layers.Dense(128, activation='relu'))\n",
    "          \n",
    "# Add an output layer for the 10 categories\n",
    "model.add(layers.Dense(1, activation='sigmoid'))\n",
    "model.summary()\n",
    "```"
   ]
  },
  {
   "cell_type": "markdown",
   "metadata": {},
   "source": [
    "## ML model"
   ]
  },
  {
   "cell_type": "code",
   "execution_count": 62,
   "metadata": {},
   "outputs": [
    {
     "name": "stdout",
     "output_type": "stream",
     "text": [
      "Model: \"sequential_1\"\n",
      "_________________________________________________________________\n",
      "Layer (type)                 Output Shape              Param #   \n",
      "=================================================================\n",
      "conv2d_3 (Conv2D)            (None, 26, 26, 10)        100       \n",
      "_________________________________________________________________\n",
      "max_pooling2d_1 (MaxPooling2 (None, 13, 13, 10)        0         \n",
      "_________________________________________________________________\n",
      "conv2d_4 (Conv2D)            (None, 11, 11, 3)         273       \n",
      "_________________________________________________________________\n",
      "conv2d_5 (Conv2D)            (None, 9, 9, 3)           84        \n",
      "_________________________________________________________________\n",
      "batch_normalization_1 (Batch (None, 9, 9, 3)           12        \n",
      "_________________________________________________________________\n",
      "flatten_1 (Flatten)          (None, 243)               0         \n",
      "_________________________________________________________________\n",
      "dense_2 (Dense)              (None, 128)               31232     \n",
      "_________________________________________________________________\n",
      "dense_3 (Dense)              (None, 10)                1290      \n",
      "=================================================================\n",
      "Total params: 32,991\n",
      "Trainable params: 32,985\n",
      "Non-trainable params: 6\n",
      "_________________________________________________________________\n"
     ]
    }
   ],
   "source": [
    "# Initialize the model object\n",
    "model = keras.Sequential()\n",
    "\n",
    "# Add a convolutional layer\n",
    "model.add(layers.Conv2D(10, kernel_size=3, activation='relu',input_shape=(28, 28, 1)))\n",
    "#model.add(Dense(10, activation='relu',input_shape=(784,)))\n",
    "\n",
    "# Add pooling layer\n",
    "model.add(layers.MaxPool2D(2))\n",
    "\n",
    "# Add a dropout layer\n",
    "#model.add(layers.Dropout(0.25))\n",
    "\n",
    "# Add a convolutional layer\n",
    "model.add(layers.Conv2D(3, kernel_size=3, activation='relu'))\n",
    "\n",
    "# Add a convolutional layer\n",
    "model.add(layers.Conv2D(3, kernel_size=3, activation='relu'))\n",
    "\n",
    "# Add a batchnormalization layer\n",
    "model.add(BatchNormalization())\n",
    "\n",
    "# Flatten the output of the convolutional layer\n",
    "model.add(layers.Flatten())\n",
    "          \n",
    "# Add an output dense layer \n",
    "model.add(layers.Dense(128, activation='relu'))\n",
    "          \n",
    "# Add an output layer for the 10 categories\n",
    "model.add(layers.Dense(10, activation='softmax'))\n",
    "model.summary()"
   ]
  },
  {
   "cell_type": "markdown",
   "metadata": {},
   "source": [
    "## Compile a neural network\n",
    "Once you have constructed a model in Keras, the model needs to be compiled before you can fit it to data. This means that you need to specify the optimizer that will be used to fit the model and the loss function that will be used in optimization. Optionally, you can also specify a list of metrics that the model will keep track of. For example, if you want to know the classification accuracy, you will provide the list ['accuracy'] to the metrics keyword argument."
   ]
  },
  {
   "cell_type": "code",
   "execution_count": 63,
   "metadata": {},
   "outputs": [],
   "source": [
    "# Compile the model\n",
    "model.compile(optimizer='adam',loss='categorical_crossentropy',metrics=['accuracy'])"
   ]
  },
  {
   "cell_type": "markdown",
   "metadata": {},
   "source": [
    "## Inspect model"
   ]
  },
  {
   "cell_type": "code",
   "execution_count": 64,
   "metadata": {
    "scrolled": true
   },
   "outputs": [
    {
     "data": {
      "text/plain": [
       "(None, 10)"
      ]
     },
     "execution_count": 64,
     "metadata": {},
     "output_type": "execute_result"
    }
   ],
   "source": [
    "model.output_shape"
   ]
  },
  {
   "cell_type": "markdown",
   "metadata": {},
   "source": [
    "Model summary representation"
   ]
  },
  {
   "cell_type": "code",
   "execution_count": 65,
   "metadata": {},
   "outputs": [
    {
     "name": "stdout",
     "output_type": "stream",
     "text": [
      "Model: \"sequential_1\"\n",
      "_________________________________________________________________\n",
      "Layer (type)                 Output Shape              Param #   \n",
      "=================================================================\n",
      "conv2d_3 (Conv2D)            (None, 26, 26, 10)        100       \n",
      "_________________________________________________________________\n",
      "max_pooling2d_1 (MaxPooling2 (None, 13, 13, 10)        0         \n",
      "_________________________________________________________________\n",
      "conv2d_4 (Conv2D)            (None, 11, 11, 3)         273       \n",
      "_________________________________________________________________\n",
      "conv2d_5 (Conv2D)            (None, 9, 9, 3)           84        \n",
      "_________________________________________________________________\n",
      "batch_normalization_1 (Batch (None, 9, 9, 3)           12        \n",
      "_________________________________________________________________\n",
      "flatten_1 (Flatten)          (None, 243)               0         \n",
      "_________________________________________________________________\n",
      "dense_2 (Dense)              (None, 128)               31232     \n",
      "_________________________________________________________________\n",
      "dense_3 (Dense)              (None, 10)                1290      \n",
      "=================================================================\n",
      "Total params: 32,991\n",
      "Trainable params: 32,985\n",
      "Non-trainable params: 6\n",
      "_________________________________________________________________\n"
     ]
    }
   ],
   "source": [
    "model.summary()"
   ]
  },
  {
   "cell_type": "markdown",
   "metadata": {},
   "source": [
    "Model layers are listed in the attribute layers"
   ]
  },
  {
   "cell_type": "code",
   "execution_count": 66,
   "metadata": {},
   "outputs": [
    {
     "data": {
      "text/plain": [
       "[<tensorflow.python.keras.layers.convolutional.Conv2D at 0x1f45645ed00>,\n",
       " <tensorflow.python.keras.layers.pooling.MaxPooling2D at 0x1f456455910>,\n",
       " <tensorflow.python.keras.layers.convolutional.Conv2D at 0x1f46a07c160>,\n",
       " <tensorflow.python.keras.layers.convolutional.Conv2D at 0x1f4566fab20>,\n",
       " <tensorflow.python.keras.layers.normalization_v2.BatchNormalization at 0x1f46a054670>,\n",
       " <tensorflow.python.keras.layers.core.Flatten at 0x1f46a064220>,\n",
       " <tensorflow.python.keras.layers.core.Dense at 0x1f46a064d30>,\n",
       " <tensorflow.python.keras.layers.core.Dense at 0x1f46a5858b0>]"
      ]
     },
     "execution_count": 66,
     "metadata": {},
     "output_type": "execute_result"
    }
   ],
   "source": [
    "model.layers"
   ]
  },
  {
   "cell_type": "markdown",
   "metadata": {},
   "source": [
    "Extracting first convolutional layer in the list"
   ]
  },
  {
   "cell_type": "code",
   "execution_count": 94,
   "metadata": {},
   "outputs": [
    {
     "name": "stdout",
     "output_type": "stream",
     "text": [
      "<tensorflow.python.keras.layers.convolutional.Conv2D object at 0x000001F46A07C160>\n"
     ]
    }
   ],
   "source": [
    "C1=model.layers[2]\n",
    "print(C1)"
   ]
  },
  {
   "cell_type": "markdown",
   "metadata": {},
   "source": [
    "Extracting weights from the first layer"
   ]
  },
  {
   "cell_type": "code",
   "execution_count": 95,
   "metadata": {},
   "outputs": [
    {
     "name": "stdout",
     "output_type": "stream",
     "text": [
      "2\n",
      "[array([[[[-0.11245649,  0.22095154, -0.01283349],\n",
      "         [ 0.13617013, -0.07965243, -0.21855143],\n",
      "         [-0.11288108, -0.04970266, -0.12866977],\n",
      "         [-0.17607662, -0.12803656,  0.14181678],\n",
      "         [-0.1833211 , -0.07293576, -0.17689939],\n",
      "         [ 0.09547837,  0.03944568,  0.05300049],\n",
      "         [ 0.03652807, -0.17993364,  0.16010998],\n",
      "         [-0.2053739 , -0.03464095,  0.00929782],\n",
      "         [ 0.10290287,  0.22561292, -0.00267488],\n",
      "         [ 0.12347327,  0.17224406, -0.0818111 ]],\n",
      "\n",
      "        [[ 0.0225634 , -0.08739643, -0.13849466],\n",
      "         [ 0.00129719, -0.05230249, -0.12655461],\n",
      "         [ 0.05858518, -0.01473257,  0.17981733],\n",
      "         [ 0.03896128,  0.20448498, -0.15708263],\n",
      "         [ 0.16738759, -0.03916197, -0.02063969],\n",
      "         [-0.19616252, -0.21604763, -0.09064357],\n",
      "         [-0.06787559,  0.15121637,  0.01007658],\n",
      "         [-0.18442506, -0.02182464,  0.10496359],\n",
      "         [ 0.12805666,  0.01640187,  0.14599366],\n",
      "         [-0.15239853,  0.10220663, -0.18271247]],\n",
      "\n",
      "        [[-0.0491519 ,  0.02923433,  0.10415994],\n",
      "         [ 0.04593112, -0.06240338,  0.14315264],\n",
      "         [ 0.1426733 , -0.06550139,  0.18053587],\n",
      "         [ 0.1664366 , -0.22402132, -0.14222874],\n",
      "         [-0.19603391,  0.20608632, -0.1956232 ],\n",
      "         [-0.06458938,  0.21976687,  0.21443228],\n",
      "         [ 0.18570523, -0.05449669,  0.1689703 ],\n",
      "         [ 0.22509392, -0.20475149,  0.03410546],\n",
      "         [ 0.2261904 , -0.00406316, -0.11616585],\n",
      "         [-0.17836288, -0.20103846,  0.10665832]]],\n",
      "\n",
      "\n",
      "       [[[-0.13351274,  0.022284  ,  0.12035431],\n",
      "         [-0.17394796, -0.03900036, -0.07201122],\n",
      "         [-0.05225094,  0.0163617 ,  0.19002022],\n",
      "         [ 0.18951179, -0.0647251 , -0.14654048],\n",
      "         [-0.22445357, -0.21412836, -0.11252706],\n",
      "         [ 0.11940749,  0.06301714,  0.11574294],\n",
      "         [ 0.13000907, -0.21878672,  0.10601   ],\n",
      "         [ 0.09637339,  0.00648116, -0.05864273],\n",
      "         [-0.18144475,  0.07219942,  0.15500991],\n",
      "         [-0.18523584, -0.11984054,  0.10142221]],\n",
      "\n",
      "        [[ 0.19009812, -0.20212515, -0.15110521],\n",
      "         [-0.05583838,  0.09103064,  0.0042692 ],\n",
      "         [-0.12623543,  0.17096986,  0.07046808],\n",
      "         [ 0.16045119,  0.21085487,  0.15873374],\n",
      "         [-0.10793419,  0.11342756,  0.17952774],\n",
      "         [ 0.14822806,  0.1496361 ,  0.16124336],\n",
      "         [-0.22531377,  0.02457614, -0.05900037],\n",
      "         [ 0.18607707, -0.18803847, -0.06313853],\n",
      "         [ 0.07734005,  0.05307625,  0.19732289],\n",
      "         [ 0.01228942,  0.15081991, -0.22022526]],\n",
      "\n",
      "        [[ 0.02748285, -0.1273655 ,  0.03619827],\n",
      "         [-0.2121376 , -0.11464816, -0.04595642],\n",
      "         [-0.15608925, -0.15884301,  0.00428468],\n",
      "         [-0.0117887 ,  0.18282075, -0.12671366],\n",
      "         [ 0.028118  ,  0.08743639,  0.20077838],\n",
      "         [-0.0836955 , -0.10994866, -0.18605667],\n",
      "         [ 0.22103514, -0.1634205 , -0.20659313],\n",
      "         [ 0.04544307,  0.0670604 , -0.00745867],\n",
      "         [ 0.028538  , -0.12781304, -0.00683495],\n",
      "         [ 0.00863303, -0.12866108, -0.22050439]]],\n",
      "\n",
      "\n",
      "       [[[ 0.01087306, -0.06513041, -0.07385394],\n",
      "         [-0.18852617,  0.02105261,  0.2151591 ],\n",
      "         [ 0.1105554 , -0.1793088 ,  0.015991  ],\n",
      "         [-0.03140947,  0.16788454,  0.03201936],\n",
      "         [-0.05477843,  0.06155662, -0.10020174],\n",
      "         [-0.05333632,  0.03704675,  0.02710094],\n",
      "         [-0.05522029, -0.08044021, -0.11472056],\n",
      "         [ 0.22472106, -0.08585574,  0.17945884],\n",
      "         [ 0.13279633, -0.0561775 ,  0.01724209],\n",
      "         [ 0.22325401,  0.155798  , -0.02057841]],\n",
      "\n",
      "        [[-0.07456312,  0.06451027, -0.11715022],\n",
      "         [ 0.21552582,  0.07945977, -0.13121271],\n",
      "         [ 0.12873586,  0.1352364 ,  0.20708008],\n",
      "         [-0.01030633, -0.13256049, -0.16534565],\n",
      "         [-0.11628571,  0.18459903,  0.14410035],\n",
      "         [-0.18436685,  0.06409644, -0.0483465 ],\n",
      "         [ 0.03975482,  0.09907161, -0.04289868],\n",
      "         [-0.1317666 , -0.02924572, -0.17393613],\n",
      "         [ 0.2016205 , -0.04675603, -0.10827801],\n",
      "         [-0.01075666,  0.13098963, -0.17383404]],\n",
      "\n",
      "        [[-0.09116507, -0.13294393,  0.21258761],\n",
      "         [-0.1474912 , -0.13390556, -0.17883368],\n",
      "         [-0.18701966,  0.05354078,  0.0084357 ],\n",
      "         [-0.01889254,  0.02372055, -0.07481962],\n",
      "         [ 0.15505461, -0.0703823 , -0.1632689 ],\n",
      "         [-0.1784917 , -0.17650099, -0.03203443],\n",
      "         [-0.12481804,  0.22239019,  0.05594237],\n",
      "         [ 0.19778006, -0.12570858,  0.18540893],\n",
      "         [-0.05578206,  0.17744265, -0.22405939],\n",
      "         [ 0.02288054, -0.21786141,  0.14975558]]]], dtype=float32), array([0., 0., 0.], dtype=float32)]\n"
     ]
    }
   ],
   "source": [
    "w1=C1.get_weights()\n",
    "print(len(w1))\n",
    "print(w1)"
   ]
  },
  {
   "cell_type": "code",
   "execution_count": 96,
   "metadata": {},
   "outputs": [
    {
     "name": "stdout",
     "output_type": "stream",
     "text": [
      "[[[[-0.11245649  0.22095154 -0.01283349]\n",
      "   [ 0.13617013 -0.07965243 -0.21855143]\n",
      "   [-0.11288108 -0.04970266 -0.12866977]\n",
      "   [-0.17607662 -0.12803656  0.14181678]\n",
      "   [-0.1833211  -0.07293576 -0.17689939]\n",
      "   [ 0.09547837  0.03944568  0.05300049]\n",
      "   [ 0.03652807 -0.17993364  0.16010998]\n",
      "   [-0.2053739  -0.03464095  0.00929782]\n",
      "   [ 0.10290287  0.22561292 -0.00267488]\n",
      "   [ 0.12347327  0.17224406 -0.0818111 ]]\n",
      "\n",
      "  [[ 0.0225634  -0.08739643 -0.13849466]\n",
      "   [ 0.00129719 -0.05230249 -0.12655461]\n",
      "   [ 0.05858518 -0.01473257  0.17981733]\n",
      "   [ 0.03896128  0.20448498 -0.15708263]\n",
      "   [ 0.16738759 -0.03916197 -0.02063969]\n",
      "   [-0.19616252 -0.21604763 -0.09064357]\n",
      "   [-0.06787559  0.15121637  0.01007658]\n",
      "   [-0.18442506 -0.02182464  0.10496359]\n",
      "   [ 0.12805666  0.01640187  0.14599366]\n",
      "   [-0.15239853  0.10220663 -0.18271247]]\n",
      "\n",
      "  [[-0.0491519   0.02923433  0.10415994]\n",
      "   [ 0.04593112 -0.06240338  0.14315264]\n",
      "   [ 0.1426733  -0.06550139  0.18053587]\n",
      "   [ 0.1664366  -0.22402132 -0.14222874]\n",
      "   [-0.19603391  0.20608632 -0.1956232 ]\n",
      "   [-0.06458938  0.21976687  0.21443228]\n",
      "   [ 0.18570523 -0.05449669  0.1689703 ]\n",
      "   [ 0.22509392 -0.20475149  0.03410546]\n",
      "   [ 0.2261904  -0.00406316 -0.11616585]\n",
      "   [-0.17836288 -0.20103846  0.10665832]]]\n",
      "\n",
      "\n",
      " [[[-0.13351274  0.022284    0.12035431]\n",
      "   [-0.17394796 -0.03900036 -0.07201122]\n",
      "   [-0.05225094  0.0163617   0.19002022]\n",
      "   [ 0.18951179 -0.0647251  -0.14654048]\n",
      "   [-0.22445357 -0.21412836 -0.11252706]\n",
      "   [ 0.11940749  0.06301714  0.11574294]\n",
      "   [ 0.13000907 -0.21878672  0.10601   ]\n",
      "   [ 0.09637339  0.00648116 -0.05864273]\n",
      "   [-0.18144475  0.07219942  0.15500991]\n",
      "   [-0.18523584 -0.11984054  0.10142221]]\n",
      "\n",
      "  [[ 0.19009812 -0.20212515 -0.15110521]\n",
      "   [-0.05583838  0.09103064  0.0042692 ]\n",
      "   [-0.12623543  0.17096986  0.07046808]\n",
      "   [ 0.16045119  0.21085487  0.15873374]\n",
      "   [-0.10793419  0.11342756  0.17952774]\n",
      "   [ 0.14822806  0.1496361   0.16124336]\n",
      "   [-0.22531377  0.02457614 -0.05900037]\n",
      "   [ 0.18607707 -0.18803847 -0.06313853]\n",
      "   [ 0.07734005  0.05307625  0.19732289]\n",
      "   [ 0.01228942  0.15081991 -0.22022526]]\n",
      "\n",
      "  [[ 0.02748285 -0.1273655   0.03619827]\n",
      "   [-0.2121376  -0.11464816 -0.04595642]\n",
      "   [-0.15608925 -0.15884301  0.00428468]\n",
      "   [-0.0117887   0.18282075 -0.12671366]\n",
      "   [ 0.028118    0.08743639  0.20077838]\n",
      "   [-0.0836955  -0.10994866 -0.18605667]\n",
      "   [ 0.22103514 -0.1634205  -0.20659313]\n",
      "   [ 0.04544307  0.0670604  -0.00745867]\n",
      "   [ 0.028538   -0.12781304 -0.00683495]\n",
      "   [ 0.00863303 -0.12866108 -0.22050439]]]\n",
      "\n",
      "\n",
      " [[[ 0.01087306 -0.06513041 -0.07385394]\n",
      "   [-0.18852617  0.02105261  0.2151591 ]\n",
      "   [ 0.1105554  -0.1793088   0.015991  ]\n",
      "   [-0.03140947  0.16788454  0.03201936]\n",
      "   [-0.05477843  0.06155662 -0.10020174]\n",
      "   [-0.05333632  0.03704675  0.02710094]\n",
      "   [-0.05522029 -0.08044021 -0.11472056]\n",
      "   [ 0.22472106 -0.08585574  0.17945884]\n",
      "   [ 0.13279633 -0.0561775   0.01724209]\n",
      "   [ 0.22325401  0.155798   -0.02057841]]\n",
      "\n",
      "  [[-0.07456312  0.06451027 -0.11715022]\n",
      "   [ 0.21552582  0.07945977 -0.13121271]\n",
      "   [ 0.12873586  0.1352364   0.20708008]\n",
      "   [-0.01030633 -0.13256049 -0.16534565]\n",
      "   [-0.11628571  0.18459903  0.14410035]\n",
      "   [-0.18436685  0.06409644 -0.0483465 ]\n",
      "   [ 0.03975482  0.09907161 -0.04289868]\n",
      "   [-0.1317666  -0.02924572 -0.17393613]\n",
      "   [ 0.2016205  -0.04675603 -0.10827801]\n",
      "   [-0.01075666  0.13098963 -0.17383404]]\n",
      "\n",
      "  [[-0.09116507 -0.13294393  0.21258761]\n",
      "   [-0.1474912  -0.13390556 -0.17883368]\n",
      "   [-0.18701966  0.05354078  0.0084357 ]\n",
      "   [-0.01889254  0.02372055 -0.07481962]\n",
      "   [ 0.15505461 -0.0703823  -0.1632689 ]\n",
      "   [-0.1784917  -0.17650099 -0.03203443]\n",
      "   [-0.12481804  0.22239019  0.05594237]\n",
      "   [ 0.19778006 -0.12570858  0.18540893]\n",
      "   [-0.05578206  0.17744265 -0.22405939]\n",
      "   [ 0.02288054 -0.21786141  0.14975558]]]]\n"
     ]
    }
   ],
   "source": [
    "k1=w1[0]\n",
    "print(k1)"
   ]
  },
  {
   "cell_type": "markdown",
   "metadata": {},
   "source": [
    "Shape of kernels"
   ]
  },
  {
   "cell_type": "code",
   "execution_count": 97,
   "metadata": {},
   "outputs": [
    {
     "data": {
      "text/plain": [
       "(3, 3, 10, 3)"
      ]
     },
     "execution_count": 97,
     "metadata": {},
     "output_type": "execute_result"
    }
   ],
   "source": [
    "k1.shape"
   ]
  },
  {
   "cell_type": "markdown",
   "metadata": {},
   "source": [
    "The first two dimensions denote the size of kernel or filter. The third dimension determines the number of channels. In case of grayscale images the size is 1. Working with color images would produce the size of 3. The last dimension in kernel is number of filters."
   ]
  },
  {
   "cell_type": "code",
   "execution_count": 98,
   "metadata": {},
   "outputs": [
    {
     "name": "stdout",
     "output_type": "stream",
     "text": [
      "[[-0.11245649  0.0225634  -0.0491519 ]\n",
      " [-0.13351274  0.19009812  0.02748285]\n",
      " [ 0.01087306 -0.07456312 -0.09116507]]\n"
     ]
    }
   ],
   "source": [
    "kernel1=k1[:,:,0,0]\n",
    "print(kernel1)"
   ]
  },
  {
   "cell_type": "code",
   "execution_count": 99,
   "metadata": {
    "scrolled": false
   },
   "outputs": [
    {
     "data": {
      "image/png": "[encoded data removed]",
      "text/plain": [
       "<Figure size 432x288 with 1 Axes>"
      ]
     },
     "metadata": {
      "needs_background": "light"
     },
     "output_type": "display_data"
    }
   ],
   "source": [
    "kernel1=k1[:,:,0,0]\n",
    "plt.imshow(kernel1, cmap=\"gray\")\n",
    "#plt.axis('off')\n",
    "plt.show()"
   ]
  },
  {
   "cell_type": "code",
   "execution_count": 103,
   "metadata": {
    "scrolled": true
   },
   "outputs": [
    {
     "data": {
      "image/png": "[encoded data removed]",
      "text/plain": [
       "<Figure size 432x288 with 1 Axes>"
      ]
     },
     "metadata": {
      "needs_background": "light"
     },
     "output_type": "display_data"
    }
   ],
   "source": [
    "kernel2=k1[:,:,0,1]\n",
    "plt.imshow(kernel2, cmap=\"gray\")\n",
    "#plt.axis('off')\n",
    "plt.show()"
   ]
  },
  {
   "cell_type": "code",
   "execution_count": 104,
   "metadata": {},
   "outputs": [
    {
     "data": {
      "image/png": "[encoded data removed]",
      "text/plain": [
       "<Figure size 432x288 with 1 Axes>"
      ]
     },
     "metadata": {
      "needs_background": "light"
     },
     "output_type": "display_data"
    }
   ],
   "source": [
    "kernel4=k1[:,:,0,2]\n",
    "plt.imshow(kernel4, cmap=\"gray\")\n",
    "#plt.axis('off')\n",
    "plt.show()"
   ]
  },
  {
   "cell_type": "code",
   "execution_count": 106,
   "metadata": {},
   "outputs": [
    {
     "name": "stdout",
     "output_type": "stream",
     "text": [
      "Sample number is 49672\n",
      "\n"
     ]
    },
    {
     "data": {
      "image/png": "[encoded data removed]",
      "text/plain": [
       "<Figure size 1080x720 with 3 Axes>"
      ]
     },
     "metadata": {
      "needs_background": "light"
     },
     "output_type": "display_data"
    }
   ],
   "source": [
    "import cv2\n",
    "sampleNo = np.random.randint(0,59999)\n",
    "print(f'Sample number is {sampleNo}\\n')\n",
    "\n",
    "\n",
    "sampleImg=X_train[sampleNo]\n",
    "filteredImage = cv2.filter2D(sampleImg,-1,kernel1)\n",
    "#resize\n",
    "\n",
    "fig,ax=plt.subplots(nrows=1,ncols=3, figsize=(15,10))\n",
    "ax[0].imshow(sampleImg, cmap=\"gray\") \n",
    "ax[1].imshow(kernel1, cmap=\"gray\")\n",
    "ax[2].imshow(filteredImage, cmap=\"gray\")\n",
    "\n",
    "plt.show()"
   ]
  },
  {
   "cell_type": "markdown",
   "metadata": {},
   "source": [
    "Model configuration"
   ]
  },
  {
   "cell_type": "code",
   "execution_count": 107,
   "metadata": {},
   "outputs": [
    {
     "data": {
      "text/plain": [
       "{'name': 'sequential_1',\n",
       " 'layers': [{'class_name': 'InputLayer',\n",
       "   'config': {'batch_input_shape': (None, 28, 28, 1),\n",
       "    'dtype': 'float32',\n",
       "    'sparse': False,\n",
       "    'ragged': False,\n",
       "    'name': 'conv2d_3_input'}},\n",
       "  {'class_name': 'Conv2D',\n",
       "   'config': {'name': 'conv2d_3',\n",
       "    'trainable': True,\n",
       "    'batch_input_shape': (None, 28, 28, 1),\n",
       "    'dtype': 'float32',\n",
       "    'filters': 10,\n",
       "    'kernel_size': (3, 3),\n",
       "    'strides': (1, 1),\n",
       "    'padding': 'valid',\n",
       "    'data_format': 'channels_last',\n",
       "    'dilation_rate': (1, 1),\n",
       "    'groups': 1,\n",
       "    'activation': 'relu',\n",
       "    'use_bias': True,\n",
       "    'kernel_initializer': {'class_name': 'GlorotUniform',\n",
       "     'config': {'seed': None}},\n",
       "    'bias_initializer': {'class_name': 'Zeros', 'config': {}},\n",
       "    'kernel_regularizer': None,\n",
       "    'bias_regularizer': None,\n",
       "    'activity_regularizer': None,\n",
       "    'kernel_constraint': None,\n",
       "    'bias_constraint': None}},\n",
       "  {'class_name': 'MaxPooling2D',\n",
       "   'config': {'name': 'max_pooling2d_1',\n",
       "    'trainable': True,\n",
       "    'dtype': 'float32',\n",
       "    'pool_size': (2, 2),\n",
       "    'padding': 'valid',\n",
       "    'strides': (2, 2),\n",
       "    'data_format': 'channels_last'}},\n",
       "  {'class_name': 'Conv2D',\n",
       "   'config': {'name': 'conv2d_4',\n",
       "    'trainable': True,\n",
       "    'dtype': 'float32',\n",
       "    'filters': 3,\n",
       "    'kernel_size': (3, 3),\n",
       "    'strides': (1, 1),\n",
       "    'padding': 'valid',\n",
       "    'data_format': 'channels_last',\n",
       "    'dilation_rate': (1, 1),\n",
       "    'groups': 1,\n",
       "    'activation': 'relu',\n",
       "    'use_bias': True,\n",
       "    'kernel_initializer': {'class_name': 'GlorotUniform',\n",
       "     'config': {'seed': None}},\n",
       "    'bias_initializer': {'class_name': 'Zeros', 'config': {}},\n",
       "    'kernel_regularizer': None,\n",
       "    'bias_regularizer': None,\n",
       "    'activity_regularizer': None,\n",
       "    'kernel_constraint': None,\n",
       "    'bias_constraint': None}},\n",
       "  {'class_name': 'Conv2D',\n",
       "   'config': {'name': 'conv2d_5',\n",
       "    'trainable': True,\n",
       "    'dtype': 'float32',\n",
       "    'filters': 3,\n",
       "    'kernel_size': (3, 3),\n",
       "    'strides': (1, 1),\n",
       "    'padding': 'valid',\n",
       "    'data_format': 'channels_last',\n",
       "    'dilation_rate': (1, 1),\n",
       "    'groups': 1,\n",
       "    'activation': 'relu',\n",
       "    'use_bias': True,\n",
       "    'kernel_initializer': {'class_name': 'GlorotUniform',\n",
       "     'config': {'seed': None}},\n",
       "    'bias_initializer': {'class_name': 'Zeros', 'config': {}},\n",
       "    'kernel_regularizer': None,\n",
       "    'bias_regularizer': None,\n",
       "    'activity_regularizer': None,\n",
       "    'kernel_constraint': None,\n",
       "    'bias_constraint': None}},\n",
       "  {'class_name': 'BatchNormalization',\n",
       "   'config': {'name': 'batch_normalization_1',\n",
       "    'trainable': True,\n",
       "    'dtype': 'float32',\n",
       "    'axis': ListWrapper([3]),\n",
       "    'momentum': 0.99,\n",
       "    'epsilon': 0.001,\n",
       "    'center': True,\n",
       "    'scale': True,\n",
       "    'beta_initializer': {'class_name': 'Zeros', 'config': {}},\n",
       "    'gamma_initializer': {'class_name': 'Ones', 'config': {}},\n",
       "    'moving_mean_initializer': {'class_name': 'Zeros', 'config': {}},\n",
       "    'moving_variance_initializer': {'class_name': 'Ones', 'config': {}},\n",
       "    'beta_regularizer': None,\n",
       "    'gamma_regularizer': None,\n",
       "    'beta_constraint': None,\n",
       "    'gamma_constraint': None}},\n",
       "  {'class_name': 'Flatten',\n",
       "   'config': {'name': 'flatten_1',\n",
       "    'trainable': True,\n",
       "    'dtype': 'float32',\n",
       "    'data_format': 'channels_last'}},\n",
       "  {'class_name': 'Dense',\n",
       "   'config': {'name': 'dense_2',\n",
       "    'trainable': True,\n",
       "    'dtype': 'float32',\n",
       "    'units': 128,\n",
       "    'activation': 'relu',\n",
       "    'use_bias': True,\n",
       "    'kernel_initializer': {'class_name': 'GlorotUniform',\n",
       "     'config': {'seed': None}},\n",
       "    'bias_initializer': {'class_name': 'Zeros', 'config': {}},\n",
       "    'kernel_regularizer': None,\n",
       "    'bias_regularizer': None,\n",
       "    'activity_regularizer': None,\n",
       "    'kernel_constraint': None,\n",
       "    'bias_constraint': None}},\n",
       "  {'class_name': 'Dense',\n",
       "   'config': {'name': 'dense_3',\n",
       "    'trainable': True,\n",
       "    'dtype': 'float32',\n",
       "    'units': 10,\n",
       "    'activation': 'softmax',\n",
       "    'use_bias': True,\n",
       "    'kernel_initializer': {'class_name': 'GlorotUniform',\n",
       "     'config': {'seed': None}},\n",
       "    'bias_initializer': {'class_name': 'Zeros', 'config': {}},\n",
       "    'kernel_regularizer': None,\n",
       "    'bias_regularizer': None,\n",
       "    'activity_regularizer': None,\n",
       "    'kernel_constraint': None,\n",
       "    'bias_constraint': None}}]}"
      ]
     },
     "execution_count": 107,
     "metadata": {},
     "output_type": "execute_result"
    }
   ],
   "source": [
    "model.get_config()"
   ]
  },
  {
   "cell_type": "markdown",
   "metadata": {},
   "source": [
    "List all weight tensors in the model"
   ]
  },
  {
   "cell_type": "code",
   "execution_count": 108,
   "metadata": {},
   "outputs": [],
   "source": [
    "weg=model.get_weights()"
   ]
  },
  {
   "cell_type": "code",
   "execution_count": 109,
   "metadata": {},
   "outputs": [
    {
     "name": "stdout",
     "output_type": "stream",
     "text": [
      "<class 'list'>\n"
     ]
    }
   ],
   "source": [
    "print(type(weg))"
   ]
  },
  {
   "cell_type": "code",
   "execution_count": 60,
   "metadata": {},
   "outputs": [
    {
     "name": "stdout",
     "output_type": "stream",
     "text": [
      "[array([[[[ 0.20010005, -0.07882577,  0.04689516,  0.10878731,\n",
      "           0.13906814,  0.08717923,  0.18550001, -0.16453902,\n",
      "           0.16860808,  0.00394243],\n",
      "         [-0.15958133,  0.07845967,  0.02806903,  0.04054941,\n",
      "           0.08545367,  0.05568726,  0.16164126,  0.08951379,\n",
      "           0.1927843 , -0.0183671 ],\n",
      "         [ 0.1023467 ,  0.15764625,  0.04961507, -0.06325218,\n",
      "          -0.07825173,  0.17951111,  0.10397966,  0.11663945,\n",
      "           0.17350309,  0.20699613]],\n",
      "\n",
      "        [[-0.06413618,  0.14828499,  0.01087901, -0.06338111,\n",
      "          -0.13394158,  0.17765926, -0.04216279, -0.12278198,\n",
      "           0.15923597,  0.12503146],\n",
      "         [-0.22432917, -0.1237196 , -0.10126148, -0.00912262,\n",
      "          -0.09747799,  0.06292726,  0.00633062, -0.14081952,\n",
      "          -0.09130642, -0.13183269],\n",
      "         [-0.03404948, -0.20661975, -0.18306324,  0.12323253,\n",
      "          -0.04972495, -0.15268116, -0.193905  , -0.03204857,\n",
      "          -0.09672843, -0.19704096]],\n",
      "\n",
      "        [[ 0.16564666, -0.14428353, -0.12839344,  0.09523775,\n",
      "           0.16450615,  0.16716866,  0.13818406, -0.06062907,\n",
      "           0.13828333,  0.04548664],\n",
      "         [-0.19121343, -0.11823171,  0.22218497,  0.15571557,\n",
      "           0.15331398, -0.1396046 , -0.0019026 , -0.19475648,\n",
      "          -0.16485515, -0.02590966],\n",
      "         [ 0.21409889,  0.12903838,  0.06959586, -0.05659582,\n",
      "           0.03981303, -0.07881519,  0.15345113, -0.04636568,\n",
      "           0.0658832 , -0.10897973]]],\n",
      "\n",
      "\n",
      "       [[[ 0.05906685, -0.18373613, -0.22401802,  0.11210041,\n",
      "           0.03084274,  0.20378451, -0.20066835, -0.08420442,\n",
      "          -0.00061016, -0.14243001],\n",
      "         [-0.03497612, -0.0355133 , -0.20421503,  0.11667876,\n",
      "          -0.10535363,  0.12520798,  0.1180474 ,  0.10861589,\n",
      "          -0.1588834 , -0.13932455],\n",
      "         [-0.1836065 , -0.21245603,  0.12077223, -0.16031152,\n",
      "           0.05167289,  0.02694635, -0.13599578,  0.20896162,\n",
      "          -0.07342455,  0.09166677]],\n",
      "\n",
      "        [[-0.00679041, -0.19551204, -0.00368343, -0.0510377 ,\n",
      "           0.16542496, -0.19026291,  0.04185559, -0.01170518,\n",
      "          -0.21460748, -0.19397345],\n",
      "         [ 0.13581173, -0.16395906, -0.21590418, -0.01066564,\n",
      "           0.15317146,  0.05452995, -0.05066057,  0.19427721,\n",
      "           0.07011177, -0.18638796],\n",
      "         [-0.18480985, -0.1309751 ,  0.11723872,  0.08296572,\n",
      "          -0.03881539,  0.04359479,  0.07938431, -0.21313244,\n",
      "          -0.14951247, -0.15550086]],\n",
      "\n",
      "        [[-0.1894959 , -0.11281775,  0.16576527,  0.03379162,\n",
      "           0.1865697 , -0.1950131 , -0.12325937, -0.17058155,\n",
      "           0.04263942, -0.11351035],\n",
      "         [ 0.12276985,  0.18170314,  0.1924103 , -0.08942445,\n",
      "          -0.17700493,  0.16582008,  0.11999862, -0.22501896,\n",
      "           0.11629651, -0.10291836],\n",
      "         [-0.02758732, -0.21661907, -0.06090626, -0.00355025,\n",
      "           0.06606932, -0.15208867, -0.01590753, -0.09111443,\n",
      "          -0.18537843,  0.09682713]]],\n",
      "\n",
      "\n",
      "       [[[ 0.11092855, -0.17558055, -0.02656074, -0.1032835 ,\n",
      "           0.15354507,  0.11503695, -0.0224255 ,  0.01317348,\n",
      "          -0.21725996,  0.17069314],\n",
      "         [-0.04507869, -0.02647063, -0.16055588,  0.13055687,\n",
      "           0.06247811,  0.02594091,  0.03455915,  0.08760296,\n",
      "           0.03956889,  0.19725244],\n",
      "         [ 0.03978176, -0.11425753,  0.04673152,  0.15668903,\n",
      "           0.15216516,  0.14295582, -0.12883736,  0.15192573,\n",
      "           0.22089113,  0.06553708]],\n",
      "\n",
      "        [[-0.0115945 ,  0.0787233 ,  0.13168652, -0.13649994,\n",
      "           0.17350139, -0.16264972,  0.10524361, -0.15193701,\n",
      "          -0.09628311,  0.16168196],\n",
      "         [-0.08487029, -0.20367648, -0.10033391,  0.14711164,\n",
      "          -0.1192488 ,  0.03609835,  0.18624927,  0.2060882 ,\n",
      "          -0.13891351,  0.11884062],\n",
      "         [ 0.21934785,  0.09177063,  0.07088144,  0.1812541 ,\n",
      "           0.04358561, -0.1723639 , -0.14230444,  0.19269331,\n",
      "          -0.19154671, -0.02072224]],\n",
      "\n",
      "        [[-0.06302373,  0.0775349 ,  0.21508466,  0.1482871 ,\n",
      "          -0.06693648,  0.14395015, -0.12094131, -0.20786802,\n",
      "           0.14708708, -0.14272815],\n",
      "         [ 0.22187997, -0.08188145,  0.11860149,  0.17066966,\n",
      "           0.09146731,  0.10165857, -0.015857  ,  0.01147167,\n",
      "           0.20982666,  0.18546401],\n",
      "         [ 0.19486965,  0.19080745,  0.1184337 ,  0.133934  ,\n",
      "           0.08443557,  0.00901453, -0.16938473, -0.05619732,\n",
      "           0.08542629, -0.21032009]]]], dtype=float32), array([0., 0., 0., 0., 0., 0., 0., 0., 0., 0.], dtype=float32), array([[[[ 0.00827749, -0.08151156, -0.08881554],\n",
      "         [-0.08980055,  0.12967066, -0.09859674],\n",
      "         [-0.07617405, -0.10607414,  0.04950564],\n",
      "         [ 0.17192854,  0.10453244, -0.15950349],\n",
      "         [-0.06898177,  0.07675727,  0.0325941 ],\n",
      "         [ 0.14748715, -0.10114713,  0.10855056],\n",
      "         [-0.17357288, -0.10612246, -0.1657771 ],\n",
      "         [ 0.00532618, -0.16610321,  0.0514854 ],\n",
      "         [-0.04006706,  0.09976982, -0.21710975],\n",
      "         [-0.07321618,  0.12275423,  0.11332004]],\n",
      "\n",
      "        [[-0.1367982 , -0.09141916, -0.03863516],\n",
      "         [-0.19033483, -0.1443061 ,  0.20342417],\n",
      "         [-0.10582297,  0.01529603,  0.1590283 ],\n",
      "         [ 0.21761586, -0.16388525,  0.03962643],\n",
      "         [-0.21471082,  0.15271987,  0.15693156],\n",
      "         [ 0.15326805,  0.086531  ,  0.22283913],\n",
      "         [ 0.11633916,  0.0292737 , -0.06588511],\n",
      "         [ 0.08990212,  0.18562926, -0.1282257 ],\n",
      "         [-0.014033  ,  0.1184613 ,  0.14806236],\n",
      "         [ 0.19478558,  0.19944777,  0.16430007]],\n",
      "\n",
      "        [[ 0.0332254 ,  0.09158058,  0.17240165],\n",
      "         [ 0.11471008, -0.00382032, -0.13212493],\n",
      "         [-0.17227703, -0.18563247, -0.01106521],\n",
      "         [ 0.00366595,  0.00143185, -0.12051062],\n",
      "         [-0.15663455,  0.16569175,  0.00297497],\n",
      "         [-0.02014513, -0.00839643,  0.15763022],\n",
      "         [ 0.19386594,  0.22164895,  0.09101589],\n",
      "         [ 0.12939794,  0.19703664, -0.08719051],\n",
      "         [-0.12410563,  0.15507625, -0.16658503],\n",
      "         [ 0.09914459,  0.16398843, -0.12428428]]],\n",
      "\n",
      "\n",
      "       [[[-0.09843574,  0.06892125,  0.10183509],\n",
      "         [-0.0178072 ,  0.1410114 ,  0.01261537],\n",
      "         [ 0.15683757,  0.1982475 , -0.09742789],\n",
      "         [ 0.07284991,  0.0006026 ,  0.15750591],\n",
      "         [ 0.16468917, -0.09155175,  0.02719547],\n",
      "         [-0.16868187,  0.03568758, -0.08416237],\n",
      "         [ 0.09940602,  0.00327565,  0.02335475],\n",
      "         [ 0.05884011, -0.13665059,  0.2119983 ],\n",
      "         [ 0.14709301,  0.14969723,  0.00448327],\n",
      "         [ 0.05815719, -0.12532708, -0.12923986]],\n",
      "\n",
      "        [[ 0.10843544,  0.14348026, -0.04107697],\n",
      "         [ 0.1672586 , -0.02904089, -0.19901541],\n",
      "         [ 0.00051028,  0.08230178,  0.0062343 ],\n",
      "         [-0.21045005, -0.07131688, -0.02298205],\n",
      "         [ 0.19982727,  0.04247038, -0.06864886],\n",
      "         [ 0.03519912,  0.19023408, -0.10556533],\n",
      "         [-0.21468139, -0.16339722,  0.0574321 ],\n",
      "         [-0.07628591,  0.06566273,  0.06885959],\n",
      "         [-0.04638533, -0.1353874 , -0.03647164],\n",
      "         [-0.14281017,  0.17189415, -0.13719136]],\n",
      "\n",
      "        [[ 0.20542352,  0.1743068 ,  0.06955807],\n",
      "         [ 0.04250978, -0.11352806, -0.13892782],\n",
      "         [-0.20338228,  0.02895476,  0.06371887],\n",
      "         [-0.05519313, -0.0818558 , -0.14132957],\n",
      "         [ 0.01650888, -0.15928352, -0.20515826],\n",
      "         [ 0.16119663,  0.22058041,  0.04865523],\n",
      "         [-0.14477053,  0.15298535,  0.08294649],\n",
      "         [ 0.10626937,  0.05754693, -0.1131465 ],\n",
      "         [ 0.00504547,  0.08166711,  0.22609712],\n",
      "         [-0.03650424, -0.03787081,  0.14685093]]],\n",
      "\n",
      "\n",
      "       [[[ 0.18736346, -0.09802687, -0.10764939],\n",
      "         [-0.12492484,  0.20550586,  0.03817452],\n",
      "         [ 0.06713198, -0.13662857,  0.19494896],\n",
      "         [-0.14471698, -0.17637837,  0.15031116],\n",
      "         [ 0.10075201,  0.17274283,  0.18354993],\n",
      "         [ 0.15370025,  0.18113796,  0.01383211],\n",
      "         [-0.21731421,  0.09053828, -0.16337973],\n",
      "         [-0.139417  ,  0.02171099, -0.06784466],\n",
      "         [ 0.20919503,  0.15327804,  0.17865552],\n",
      "         [-0.17756063,  0.04370041, -0.20072985]],\n",
      "\n",
      "        [[-0.17792414,  0.00450842,  0.11873685],\n",
      "         [ 0.14299418,  0.08923532, -0.05784793],\n",
      "         [ 0.19553013, -0.17150724, -0.1962764 ],\n",
      "         [-0.07457121, -0.11826972, -0.18961999],\n",
      "         [ 0.08677663,  0.06150319, -0.16664048],\n",
      "         [ 0.09548222, -0.20289512,  0.14319004],\n",
      "         [ 0.05413647,  0.00919254,  0.16983648],\n",
      "         [-0.10650618, -0.00828311,  0.21441187],\n",
      "         [-0.09805824, -0.09854604, -0.11367707],\n",
      "         [ 0.16777812, -0.18022507, -0.1773533 ]],\n",
      "\n",
      "        [[ 0.10647072,  0.0142743 ,  0.15003191],\n",
      "         [ 0.14234887,  0.1788231 ,  0.21597578],\n",
      "         [ 0.10485987, -0.13601662, -0.08998482],\n",
      "         [-0.15921107, -0.21091384,  0.13641928],\n",
      "         [-0.07996309, -0.1405778 ,  0.19012226],\n",
      "         [ 0.08041833, -0.10645159,  0.17641453],\n",
      "         [-0.21545455,  0.07464592, -0.16534603],\n",
      "         [ 0.06495391,  0.15962757, -0.15111735],\n",
      "         [-0.1812933 , -0.22392052,  0.0561005 ],\n",
      "         [ 0.15481581,  0.19079424,  0.15239732]]]], dtype=float32), array([0., 0., 0.], dtype=float32), array([[[[-0.20899248,  0.23018137,  0.3199505 ],\n",
      "         [ 0.2000008 ,  0.12487349,  0.23245767],\n",
      "         [ 0.32960066,  0.29046944,  0.13485417]],\n",
      "\n",
      "        [[ 0.10720673, -0.21971974, -0.14130275],\n",
      "         [ 0.2780644 , -0.2309115 , -0.26056498],\n",
      "         [ 0.27121434, -0.23239248, -0.12843308]],\n",
      "\n",
      "        [[-0.03939733,  0.09218612, -0.10750136],\n",
      "         [-0.29313827, -0.18715382, -0.02376541],\n",
      "         [ 0.15444699,  0.13257647,  0.25403842]]],\n",
      "\n",
      "\n",
      "       [[[-0.22865288,  0.07888675, -0.29490703],\n",
      "         [ 0.27030292, -0.17554824, -0.2863888 ],\n",
      "         [ 0.25990286, -0.02097401,  0.12980223]],\n",
      "\n",
      "        [[ 0.00108752, -0.03470969, -0.12300134],\n",
      "         [ 0.24909714,  0.02453899, -0.2208023 ],\n",
      "         [-0.03522262, -0.07064566,  0.0200626 ]],\n",
      "\n",
      "        [[-0.09681544, -0.2706043 ,  0.06119385],\n",
      "         [ 0.2934256 ,  0.17551425, -0.30440935],\n",
      "         [ 0.15346375,  0.13843822,  0.10452113]]],\n",
      "\n",
      "\n",
      "       [[[-0.04838815,  0.22032824,  0.1770874 ],\n",
      "         [ 0.09729996,  0.26424542,  0.07754049],\n",
      "         [-0.06075087, -0.2698598 ,  0.26767167]],\n",
      "\n",
      "        [[-0.20738134, -0.05785355, -0.04369202],\n",
      "         [ 0.0780789 , -0.13608186,  0.0583891 ],\n",
      "         [ 0.30543533,  0.30829397, -0.04097494]],\n",
      "\n",
      "        [[-0.18683887,  0.0292809 , -0.21432996],\n",
      "         [ 0.22754219,  0.12906018, -0.31582588],\n",
      "         [-0.17851958, -0.05178189, -0.03506079]]]], dtype=float32), array([0., 0., 0.], dtype=float32), array([1., 1., 1.], dtype=float32), array([0., 0., 0.], dtype=float32), array([0., 0., 0.], dtype=float32), array([1., 1., 1.], dtype=float32), array([[ 0.00261233,  0.03296912,  0.06029117, ..., -0.07971176,\n",
      "         0.01399139,  0.0805366 ],\n",
      "       [-0.04795297,  0.0453141 , -0.01083091, ...,  0.02066964,\n",
      "         0.01526339,  0.02058941],\n",
      "       [ 0.07508482,  0.00718128,  0.07607785, ...,  0.06866726,\n",
      "        -0.02518326,  0.05990195],\n",
      "       ...,\n",
      "       [ 0.05445427, -0.10919767, -0.04687294, ...,  0.11024919,\n",
      "        -0.05942317, -0.07459463],\n",
      "       [-0.01412506,  0.01804067, -0.06418143, ..., -0.01132366,\n",
      "        -0.00368002, -0.00117043],\n",
      "       [-0.02211053,  0.10520896,  0.08844613, ..., -0.02236094,\n",
      "         0.0033321 ,  0.04200235]], dtype=float32), array([0., 0., 0., 0., 0., 0., 0., 0., 0., 0., 0., 0., 0., 0., 0., 0., 0.,\n",
      "       0., 0., 0., 0., 0., 0., 0., 0., 0., 0., 0., 0., 0., 0., 0., 0., 0.,\n",
      "       0., 0., 0., 0., 0., 0., 0., 0., 0., 0., 0., 0., 0., 0., 0., 0., 0.,\n",
      "       0., 0., 0., 0., 0., 0., 0., 0., 0., 0., 0., 0., 0., 0., 0., 0., 0.,\n",
      "       0., 0., 0., 0., 0., 0., 0., 0., 0., 0., 0., 0., 0., 0., 0., 0., 0.,\n",
      "       0., 0., 0., 0., 0., 0., 0., 0., 0., 0., 0., 0., 0., 0., 0., 0., 0.,\n",
      "       0., 0., 0., 0., 0., 0., 0., 0., 0., 0., 0., 0., 0., 0., 0., 0., 0.,\n",
      "       0., 0., 0., 0., 0., 0., 0., 0., 0.], dtype=float32), array([[ 0.03730467,  0.12277587,  0.02382763, ...,  0.00676031,\n",
      "        -0.11011   , -0.04521541],\n",
      "       [ 0.20579879,  0.05030678, -0.02543309, ..., -0.1377276 ,\n",
      "         0.19847731, -0.07581669],\n",
      "       [ 0.02274948, -0.18564029, -0.03737248, ...,  0.09547488,\n",
      "        -0.17650798, -0.11537284],\n",
      "       ...,\n",
      "       [-0.12547208,  0.05685638, -0.06273949, ..., -0.04522844,\n",
      "         0.06275554,  0.10362332],\n",
      "       [ 0.11358856, -0.01931442,  0.08515154, ..., -0.02954093,\n",
      "        -0.0210647 ,  0.11161439],\n",
      "       [ 0.07414751, -0.07075733,  0.03195961, ..., -0.03175831,\n",
      "        -0.03342581, -0.00977182]], dtype=float32), array([0., 0., 0., 0., 0., 0., 0., 0., 0., 0.], dtype=float32)]\n"
     ]
    }
   ],
   "source": [
    "print(model.get_weights())"
   ]
  },
  {
   "cell_type": "markdown",
   "metadata": {},
   "source": [
    "## Fitting a neural network model to MNIST data\n",
    "Transform the data into the network's expected input and then fit the model on training data and training labels. Model fitting requires a training data set, together with the training labels to the network.\n",
    "\n",
    "#Fit the model on a training set\n",
    "model.fit(train_data, train_labels, \n",
    "          validation_split=0.2, \n",
    "          epochs=3, batch_size=10)"
   ]
  },
  {
   "cell_type": "code",
   "execution_count": 110,
   "metadata": {},
   "outputs": [
    {
     "name": "stdout",
     "output_type": "stream",
     "text": [
      "Epoch 1/25\n",
      "480/480 [==============================] - 8s 17ms/step - loss: 0.6059 - accuracy: 0.8120 - val_loss: 0.1192 - val_accuracy: 0.9647\n",
      "Epoch 2/25\n",
      "480/480 [==============================] - 8s 17ms/step - loss: 0.0963 - accuracy: 0.9714 - val_loss: 0.0879 - val_accuracy: 0.9751\n",
      "Epoch 3/25\n",
      "480/480 [==============================] - 8s 17ms/step - loss: 0.0583 - accuracy: 0.9828 - val_loss: 0.0772 - val_accuracy: 0.9774\n",
      "Epoch 4/25\n",
      "480/480 [==============================] - 8s 17ms/step - loss: 0.0477 - accuracy: 0.9849 - val_loss: 0.0602 - val_accuracy: 0.9829\n",
      "Epoch 5/25\n",
      "480/480 [==============================] - 8s 17ms/step - loss: 0.0355 - accuracy: 0.9883 - val_loss: 0.0588 - val_accuracy: 0.9838\n",
      "Epoch 6/25\n",
      "480/480 [==============================] - 8s 17ms/step - loss: 0.0312 - accuracy: 0.9903 - val_loss: 0.0558 - val_accuracy: 0.9843\n",
      "Epoch 7/25\n",
      "480/480 [==============================] - 8s 17ms/step - loss: 0.0231 - accuracy: 0.9928 - val_loss: 0.0735 - val_accuracy: 0.9794\n",
      "Epoch 8/25\n",
      "480/480 [==============================] - 8s 17ms/step - loss: 0.0200 - accuracy: 0.9937 - val_loss: 0.0635 - val_accuracy: 0.9832\n",
      "Epoch 9/25\n",
      "480/480 [==============================] - 8s 17ms/step - loss: 0.0190 - accuracy: 0.9942 - val_loss: 0.0626 - val_accuracy: 0.9836\n",
      "Epoch 10/25\n",
      "480/480 [==============================] - 8s 17ms/step - loss: 0.0140 - accuracy: 0.9955 - val_loss: 0.0825 - val_accuracy: 0.9809\n",
      "Epoch 11/25\n",
      "480/480 [==============================] - 8s 17ms/step - loss: 0.0132 - accuracy: 0.9959 - val_loss: 0.0640 - val_accuracy: 0.9847\n",
      "Epoch 12/25\n",
      "480/480 [==============================] - 8s 17ms/step - loss: 0.0106 - accuracy: 0.9965 - val_loss: 0.0620 - val_accuracy: 0.9847\n",
      "Epoch 13/25\n",
      "480/480 [==============================] - 8s 18ms/step - loss: 0.0091 - accuracy: 0.9965 - val_loss: 0.0689 - val_accuracy: 0.9847\n",
      "Epoch 14/25\n",
      "480/480 [==============================] - 8s 18ms/step - loss: 0.0080 - accuracy: 0.9973 - val_loss: 0.0854 - val_accuracy: 0.9814\n",
      "Epoch 15/25\n",
      "480/480 [==============================] - 9s 18ms/step - loss: 0.0101 - accuracy: 0.9961 - val_loss: 0.0834 - val_accuracy: 0.9804\n",
      "Epoch 16/25\n",
      "480/480 [==============================] - 9s 18ms/step - loss: 0.0082 - accuracy: 0.9972 - val_loss: 0.0724 - val_accuracy: 0.9837\n",
      "Epoch 17/25\n",
      "480/480 [==============================] - 8s 18ms/step - loss: 0.0063 - accuracy: 0.9980 - val_loss: 0.0821 - val_accuracy: 0.9826\n",
      "Epoch 18/25\n",
      "480/480 [==============================] - 8s 18ms/step - loss: 0.0042 - accuracy: 0.9988 - val_loss: 0.0883 - val_accuracy: 0.9825\n",
      "Epoch 19/25\n",
      "480/480 [==============================] - 9s 18ms/step - loss: 0.0077 - accuracy: 0.9974 - val_loss: 0.0808 - val_accuracy: 0.9833\n",
      "Epoch 20/25\n",
      "480/480 [==============================] - 9s 19ms/step - loss: 0.0063 - accuracy: 0.9978 - val_loss: 0.0756 - val_accuracy: 0.9858\n",
      "Epoch 21/25\n",
      "480/480 [==============================] - 9s 19ms/step - loss: 0.0055 - accuracy: 0.9980 - val_loss: 0.0873 - val_accuracy: 0.9832\n",
      "Epoch 22/25\n",
      "480/480 [==============================] - 9s 18ms/step - loss: 0.0046 - accuracy: 0.9982 - val_loss: 0.0835 - val_accuracy: 0.9849\n",
      "Epoch 23/25\n",
      "480/480 [==============================] - 9s 18ms/step - loss: 0.0040 - accuracy: 0.9986 - val_loss: 0.0817 - val_accuracy: 0.9846\n",
      "Epoch 24/25\n",
      "480/480 [==============================] - 9s 18ms/step - loss: 0.0051 - accuracy: 0.9985 - val_loss: 0.0809 - val_accuracy: 0.9848\n",
      "Epoch 25/25\n",
      "480/480 [==============================] - 9s 18ms/step - loss: 0.0046 - accuracy: 0.9983 - val_loss: 0.0838 - val_accuracy: 0.9852\n"
     ]
    }
   ],
   "source": [
    "# Fit the model\n",
    "training=model.fit(x_train, Y_train, validation_split=0.2, epochs=25, batch_size=100)"
   ]
  },
  {
   "cell_type": "code",
   "execution_count": 111,
   "metadata": {},
   "outputs": [
    {
     "name": "stdout",
     "output_type": "stream",
     "text": [
      "313/313 [==============================] - 1s 3ms/step - loss: 0.0677 - accuracy: 0.9855\n",
      "Test loss: 0.06766441464424133\n",
      "Test accuracy: 0.9854999780654907\n"
     ]
    }
   ],
   "source": [
    "# Evaluate the model\n",
    "score=model.evaluate(x_test, Y_test)\n",
    "print('Test loss:', score[0])\n",
    "print('Test accuracy:', score[1])"
   ]
  },
  {
   "cell_type": "markdown",
   "metadata": {},
   "source": [
    "## Evaluating a CNN with test data\n",
    "To evaluate a trained neural network, you should provide a separate test dataset of labeled images. The model you fit in the previous exercise is available in your workspace.\n",
    "\n",
    "Evaluate the data on a separate test set: test_data and test_labels."
   ]
  },
  {
   "cell_type": "code",
   "execution_count": 119,
   "metadata": {},
   "outputs": [
    {
     "name": "stdout",
     "output_type": "stream",
     "text": [
      "100/100 [==============================] - 1s 6ms/step - loss: 0.0677 - accuracy: 0.9855\n"
     ]
    },
    {
     "data": {
      "text/plain": [
       "[0.06766439229249954, 0.9854999780654907]"
      ]
     },
     "execution_count": 119,
     "metadata": {},
     "output_type": "execute_result"
    }
   ],
   "source": [
    "# Evaluate the model on separate test data\n",
    "model.evaluate(x_test, Y_test, batch_size=100)"
   ]
  },
  {
   "cell_type": "markdown",
   "metadata": {},
   "source": [
    "## Plot the learning curves\n",
    "During learning, the model will store the loss function evaluated in each epoch. Looking at the learning curves can tell us quite a bit about the learning process. In this part we will plot the learning and validation loss curves for a trained model."
   ]
  },
  {
   "cell_type": "code",
   "execution_count": 127,
   "metadata": {},
   "outputs": [],
   "source": [
    "#training.history"
   ]
  },
  {
   "cell_type": "code",
   "execution_count": 121,
   "metadata": {},
   "outputs": [
    {
     "data": {
      "image/png": "[encoded data removed]",
      "text/plain": [
       "<Figure size 432x288 with 1 Axes>"
      ]
     },
     "metadata": {
      "needs_background": "light"
     },
     "output_type": "display_data"
    }
   ],
   "source": [
    "# Extract the history from the training object\n",
    "history = training.history\n",
    "\n",
    "# Plot the training loss \n",
    "plt.plot(history['loss'])\n",
    "plt.ylabel('Loss')\n",
    "plt.xlabel('Epochs')\n",
    "\n",
    "# Show the figure\n",
    "plt.show()"
   ]
  },
  {
   "cell_type": "code",
   "execution_count": 122,
   "metadata": {
    "scrolled": true
   },
   "outputs": [
    {
     "data": {
      "image/png": "[encoded data removed]",
      "text/plain": [
       "<Figure size 432x288 with 1 Axes>"
      ]
     },
     "metadata": {
      "needs_background": "light"
     },
     "output_type": "display_data"
    }
   ],
   "source": [
    "# Extract the history from the training object\n",
    "history = training.history\n",
    "\n",
    "# Plot the training loss \n",
    "plt.ylabel('val_loss')\n",
    "plt.xlabel('Epochs')\n",
    "# Plot the validation loss\n",
    "plt.plot(history['val_loss'])\n",
    "\n",
    "# Show the figure\n",
    "plt.show()"
   ]
  },
  {
   "cell_type": "code",
   "execution_count": 123,
   "metadata": {},
   "outputs": [
    {
     "data": {
      "image/png": "[encoded data removed]",
      "text/plain": [
       "<Figure size 432x288 with 1 Axes>"
      ]
     },
     "metadata": {
      "needs_background": "light"
     },
     "output_type": "display_data"
    }
   ],
   "source": [
    "plt.plot(training.history['accuracy'])\n",
    "plt.plot(training.history['val_accuracy'])\n",
    "plt.title('Model accuracy')\n",
    "plt.ylabel('Accuracy')\n",
    "plt.xlabel('Epoch')\n",
    "plt.legend(['Train', 'Test'], loc='upper left')\n",
    "plt.show()"
   ]
  },
  {
   "cell_type": "code",
   "execution_count": 124,
   "metadata": {},
   "outputs": [
    {
     "data": {
      "image/png": "[encoded data removed]",
      "text/plain": [
       "<Figure size 432x288 with 1 Axes>"
      ]
     },
     "metadata": {
      "needs_background": "light"
     },
     "output_type": "display_data"
    }
   ],
   "source": [
    "plt.plot(training.history['loss'])\n",
    "plt.plot(training.history['val_loss'])\n",
    "plt.title('Model loss')\n",
    "plt.ylabel('Loss')\n",
    "plt.xlabel('Epoch')\n",
    "plt.legend(['Train', 'Test'], loc='upper left')\n",
    "plt.show()"
   ]
  },
  {
   "cell_type": "markdown",
   "metadata": {},
   "source": [
    "### Make predictions for all test images and store the results in a csv"
   ]
  },
  {
   "cell_type": "code",
   "execution_count": 130,
   "metadata": {},
   "outputs": [],
   "source": [
    "prediction = np.argmax(model.predict(x_test), axis=-1)\n",
    "submission = pd.DataFrame({\"ImageId\": list(range(1,len(prediction)+1)),\n",
    "                         \"Label\": prediction})\n",
    "submission.to_csv(\"submission.csv\", index=False, header=True)"
   ]
  },
  {
   "cell_type": "markdown",
   "metadata": {},
   "source": [
    "### Make predictions for a random image"
   ]
  },
  {
   "cell_type": "code",
   "execution_count": 137,
   "metadata": {
    "scrolled": true
   },
   "outputs": [
    {
     "name": "stdout",
     "output_type": "stream",
     "text": [
      "Sample number is 142\n",
      "\n",
      "Image number 142 in MNIST dataset has the following (28, 28)\n",
      "\n",
      "Shape of the image is (28, 28) and image is <class 'numpy.ndarray'> array\n",
      "\n"
     ]
    },
    {
     "data": {
      "image/png": "[encoded data removed]",
      "text/plain": [
       "<Figure size 432x288 with 1 Axes>"
      ]
     },
     "metadata": {
      "needs_background": "light"
     },
     "output_type": "display_data"
    },
    {
     "name": "stdout",
     "output_type": "stream",
     "text": [
      "3\n"
     ]
    }
   ],
   "source": [
    "# Plot a random image from the training set \n",
    "# np.random.randint returns random integers between 0 and 59999.\n",
    "sampleNo = np.random.randint(0,1000)\n",
    "print(f'Sample number is {sampleNo}\\n')\n",
    "sampleImg=X_test[sampleNo]\n",
    "print(f'Image number {sampleNo} in MNIST dataset has the following {sampleImg.shape}\\n')\n",
    "#print(sampleImg,'\\n')\n",
    "print(f'Shape of the image is {sampleImg.shape} and image is {type(sampleImg)} array\\n')\n",
    "plt.imshow(sampleImg, cmap=\"gray\")\n",
    "plt.show()\n",
    "\n",
    "prediction = np.argmax(model.predict(x_test[[sampleNo],:,:,:], verbose=0))\n",
    "print(prediction)"
   ]
  },
  {
   "cell_type": "markdown",
   "metadata": {},
   "source": [
    "# Exercise"
   ]
  },
  {
   "cell_type": "markdown",
   "metadata": {},
   "source": [
    "### What is the role of covolution in a CNN network?\n",
    "\n",
    "\n",
    "### Add strides to a convolutional network\n",
    "The size of the strides of the convolution kernel determines whether the kernel will skip over some of the pixels as it slides along the image. This affects the size of the output because when strides are larger than one, the kernel will be centered on only some of the pixels. Add strides parameter to Conv2D layer and see the effect on network performance.\n",
    "\n",
    "###  Calculate the size of convolutional layer output\n",
    "Zero padding and strides affect the size of the output of a convolution. What is the size of the output for an input of size 256 by 256, with 2 kernels of size 3 by 3, padding of 1 and strides of 2?\n",
    "\n",
    "<img src=\"images/outputsize.jpeg\" width=\"640\">\n",
    "\n",
    "\n",
    "###  How many parameters in the CNN?\n",
    "We need to know how many parameters a CNN has, so we can adjust the model architecture, to reduce this number or shift parameters from one part of the network to another. How many parameters would a network have if its inputs are images with 28-by-28 pixels, there is one convolutional layer with 10 units kernels of 3-by-3 pixels, using zero padding (input has the same size as the output), and one densely connected layer with 10 units?\n",
    "\n",
    "<img src=\"images/outputsizecnn.jpg\" width=\"640\">\n",
    "\n",
    "### How many parameters in the deep CNN?\n",
    "In this exercise, you will use Keras to calculate the total number of parameters along with the number of parameters in each layer of the network. What is the total number of parameters used in CNN network?\n",
    "\n",
    "### Training and test data ratio - what happens when you decrease the training dataset ?\n",
    "Check out what happens with model performance (accuracy/loss values) when MNIST training dataset size is reduced from 50000 images to 100, 1000 and 10000 images?\n",
    "\n",
    "### What happens with model performance when cifar10 dataset is trained on grayscale images ?\n",
    "Convert cifar10 color images to grayscale images and see if the model's performance has changed.\n",
    "\n",
    "### What optimization parameter and acitivation function would be used in case of binary classification?"
   ]
  },
  {
   "cell_type": "code",
   "execution_count": null,
   "metadata": {},
   "outputs": [],
   "source": []
  },
  {
   "cell_type": "code",
   "execution_count": null,
   "metadata": {},
   "outputs": [],
   "source": []
  }
 ],
 "metadata": {
  "kernelspec": {
   "display_name": "Python 3",
   "language": "python",
   "name": "python3"
  },
  "language_info": {
   "codemirror_mode": {
    "name": "ipython",
    "version": 3
   },
   "file_extension": ".py",
   "mimetype": "text/x-python",
   "name": "python",
   "nbconvert_exporter": "python",
   "pygments_lexer": "ipython3",
   "version": "3.8.5"
  }
 },
 "nbformat": 4,
 "nbformat_minor": 2
}
