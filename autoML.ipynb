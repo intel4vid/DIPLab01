{
 "cells": [
  {
   "cell_type": "markdown",
   "metadata": {},
   "source": [
    "# 1. AutoML"
   ]
  },
  {
   "cell_type": "markdown",
   "metadata": {},
   "source": [
    "AutoML or Automated Machine Learning is a concept which describes the process of automating standard machine learning phases. By automating the learning phases we are trying to find the optimum neural network hyperparameters and parameters that result in model's higher accuracy and better generalization. Hence, the automated ML solutions are testing different sets of parameters and models in order to find the one that performs the best for a given task. The autoML is said to perform Neural Network Architecture Search (NAS). Automation can cover input data processing and preparation, data types identification, feature engineering, selection and extraction, hyperparameter optimization, model selection, autoML analysis and visualisation. The autoML is available as open source platform or as cloud enabled paid service.\n",
    "\n",
    "## Cloud based AutoML\n",
    "A cloud based autoML enable us to perform a complete end-to-end machine learning process in the cloud. With clearly defined problem statement we are able to do data collection and aggregation, data labeling and annotating, data splitting followed by data training, validation and evaluation. \n",
    "\n",
    "<img src=\"./images/automl.jpg\"/>\n",
    "\n",
    "<br>\n",
    "\n",
    "The end result is an optimized machine learnig model capable of detecting objects (in our case this will be a flat tv/computer screen in the image). The cloud based AutoML made available this model in three different formats. The first, tfLite was accesible for export and download to be used within the edgeAI or mobile environment, the second tf.js was available for implementation and integration into web based applications, and the third option offered was a pb (protobuf) file for implementaion in containerized environments.\n",
    "\n",
    "\n",
    "<img src=\"./images/automlexample.jpg\"/>\n",
    "\n",
    "<br><br><br>"
   ]
  },
  {
   "cell_type": "markdown",
   "metadata": {},
   "source": [
    "## AutoML in local environment\n",
    "AutomML based machine learning is also available for installation within a local environment. We will be dealing with the one based on Keras and developed by [DATA](http://faculty.cs.tamu.edu/xiahu/index.html) Lab at Texas A&M University. AutoKeras was developed with the goal to democritize AI and make machine learning more accessible for everyone. AutoKeras is an open-source alternative to cloud based AutoML solutions.\n",
    "\n",
    "<img src=\"./images/autokeras.svg\" width=\"320\"/>\n",
    "<br><br><br>\n",
    "AutoKeras supports Image Classifiation, Image Regression, Text Classification, Text Regression, Structured Data Classification, Structured Data Regression. Moreover, the Time Series Forecasting, Object Detection and Image Segmentation machine learnig models are expected to become a part of autokeras autoML libraries.\n",
    "<br><br>\n",
    "\n",
    "More details about AutoKeras can be found in a [research paper](https://dl.acm.org/doi/pdf/10.1145/3292500.3330648) by Haifeng Jin, Qingquan Song, and Xia Hu. \"Auto-keras: An efficient neural architecture search system.\" Proceedings of the 25th ACM SIGKDD International Conference on Knowledge Discovery & Data Mining. ACM, 2019. Authors give an overview of the field and explain the architecture and building blocks of automated machine learning. Figure below depicts the AutoKeras system overview.\n",
    "<br><br>\n",
    "\n",
    "<img src=\"./images/autokerasoverview.jpg\" />\n",
    "<br><br><br><br>"
   ]
  },
  {
   "cell_type": "markdown",
   "metadata": {},
   "source": [
    "## Autokeras Installation "
   ]
  },
  {
   "cell_type": "markdown",
   "metadata": {},
   "source": [
    "Installation of AutoKeras can be performed using pip package manager. However, before installing it the following requirements need to be fulfilled: Python3, [Tensorflow >= 2.3.0](https://www.tensorflow.org/install/pip), [GPU installation](https://www.tensorflow.org/install/gpu) is optional but recommended."
   ]
  },
  {
   "cell_type": "markdown",
   "metadata": {},
   "source": [
    "```python\n",
    "pip install tensorflow\n",
    "pip install git+https://github.com/keras-team/keras-tuner.git\n",
    "pip install autokeras\n",
    "```"
   ]
  },
  {
   "cell_type": "code",
   "execution_count": 1,
   "metadata": {},
   "outputs": [
    {
     "name": "stdout",
     "output_type": "stream",
     "text": [
      "Python 3.8.5\n"
     ]
    }
   ],
   "source": [
    "# check python version\n",
    "!python --version"
   ]
  },
  {
   "cell_type": "code",
   "execution_count": 2,
   "metadata": {},
   "outputs": [
    {
     "name": "stdout",
     "output_type": "stream",
     "text": [
      "2.4.1\n"
     ]
    }
   ],
   "source": [
    "# check tensorflow version\n",
    "import tensorflow as tf\n",
    "print(tf.__version__)"
   ]
  },
  {
   "cell_type": "markdown",
   "metadata": {},
   "source": [
    "# Image classification using AutoKeras"
   ]
  },
  {
   "cell_type": "code",
   "execution_count": 3,
   "metadata": {},
   "outputs": [],
   "source": [
    "import numpy as np\n",
    "import tensorflow as tf\n",
    "from tensorflow.keras.datasets import mnist\n",
    "import autokeras as ak"
   ]
  },
  {
   "cell_type": "markdown",
   "metadata": {},
   "source": [
    "## Data download\n",
    "\n",
    "The MNIST database contains standard handwritten digits that have been widely used for training and testing of machine learning algorithms. It has a training set of 60,000 images and a test set of 10,000 images with each image being 28 x 28 pixels. This set is easy to use visualize and train on any computer. The MNIST dataset is usually provided and downloadable as part of the Keras library.\n"
   ]
  },
  {
   "cell_type": "markdown",
   "metadata": {},
   "source": [
    "## MNIST data"
   ]
  },
  {
   "cell_type": "code",
   "execution_count": 4,
   "metadata": {},
   "outputs": [],
   "source": [
    "#download MNIST data and split into train and test sets\n",
    "# mnist.load_data()\n",
    "(X_train, y_train), (X_test, y_test) = mnist.load_data()"
   ]
  },
  {
   "cell_type": "markdown",
   "metadata": {},
   "source": [
    "## Fashion_MNIST data"
   ]
  },
  {
   "cell_type": "code",
   "execution_count": null,
   "metadata": {},
   "outputs": [],
   "source": [
    "# fashion_mnist.load_data()\n",
    "(X_train, y_train), (X_test, y_test) = fashion_mnist.load_data()"
   ]
  },
  {
   "cell_type": "markdown",
   "metadata": {},
   "source": [
    "## cifar10 data"
   ]
  },
  {
   "cell_type": "code",
   "execution_count": null,
   "metadata": {},
   "outputs": [],
   "source": [
    "# cifar10.load_data()\n",
    "(X_train, y_train), (X_test, y_test) = cifar10.load_data()"
   ]
  },
  {
   "cell_type": "code",
   "execution_count": null,
   "metadata": {},
   "outputs": [],
   "source": [
    "y_train =  [y for x in y_train for y in x]\n",
    "y_test = [y for x in y_test for y in x]"
   ]
  },
  {
   "cell_type": "markdown",
   "metadata": {},
   "source": [
    "# Dataset reduction\n"
   ]
  },
  {
   "cell_type": "code",
   "execution_count": 5,
   "metadata": {},
   "outputs": [],
   "source": [
    "X_train = X_train[:10000]\n",
    "y_train = y_train[:10000]\n",
    "X_test = X_test[:100]\n",
    "y_test = y_test[:100]"
   ]
  },
  {
   "cell_type": "code",
   "execution_count": 6,
   "metadata": {},
   "outputs": [
    {
     "name": "stdout",
     "output_type": "stream",
     "text": [
      "[7 2 1 0 4]\n"
     ]
    }
   ],
   "source": [
    "print(y_test[:5])"
   ]
  },
  {
   "cell_type": "markdown",
   "metadata": {},
   "source": [
    "## Explore the train and test data"
   ]
  },
  {
   "cell_type": "code",
   "execution_count": 7,
   "metadata": {
    "scrolled": true
   },
   "outputs": [
    {
     "name": "stdout",
     "output_type": "stream",
     "text": [
      "The shape of training set is: (10000, 28, 28)\n",
      "The shape of test set is: (100, 28, 28)\n",
      "\n",
      "The shape of label training set is: (10000,)\n",
      "The shape of label test set is: (100,)\n",
      "\n",
      "The size of training set is: 7656.25 kB\n",
      "The size of test set is: 76.5625 kB\n",
      "\n",
      "The size of label training set is: 9.765625 kB\n",
      "The size of label test set is: 0.09765625 kB\n",
      "\n",
      "The training set is: 3 - dimensional array\n",
      "The test set is: 3 - dimensional array\n",
      "\n",
      "The label training set is: 1 - dimensional array\n",
      "The label test set is: 1 - dimensional array\n",
      "\n",
      "The label training set type is: uint8\n",
      "The label test set type is: uint8\n",
      "\n",
      "The training set type is: uint8\n",
      "The test set type is: uint8\n",
      "\n"
     ]
    }
   ],
   "source": [
    "#check the shape, size and dtype of loaded dataset\n",
    "print(f'The shape of training set is: {X_train.shape}')\n",
    "print(f'The shape of test set is: {X_test.shape}\\n')\n",
    "\n",
    "print(f'The shape of label training set is: {y_train.shape}')\n",
    "print(f'The shape of label test set is: {y_test.shape}\\n')\n",
    "\n",
    "print(f'The size of training set is: {X_train.size/1024} kB')\n",
    "print(f'The size of test set is: {X_test.size/1024} kB\\n')\n",
    "\n",
    "print(f'The size of label training set is: {y_train.size/1024} kB')\n",
    "print(f'The size of label test set is: {y_test.size/1024} kB\\n')\n",
    "\n",
    "print(f'The training set is: {X_train.ndim} - dimensional array')\n",
    "print(f'The test set is: {X_test.ndim} - dimensional array\\n')\n",
    "\n",
    "print(f'The label training set is: {y_train.ndim} - dimensional array')\n",
    "print(f'The label test set is: {y_test.ndim} - dimensional array\\n')\n",
    "\n",
    "print(f'The label training set type is: {X_train.dtype}')\n",
    "print(f'The label test set type is: {X_test.dtype}\\n')\n",
    "\n",
    "print(f'The training set type is: {y_train.dtype}')\n",
    "print(f'The test set type is: {y_test.dtype}\\n')"
   ]
  },
  {
   "cell_type": "code",
   "execution_count": 8,
   "metadata": {
    "scrolled": true
   },
   "outputs": [
    {
     "name": "stdout",
     "output_type": "stream",
     "text": [
      "[[  0   0   0   0   0   0   0   0   0   0   0   0   0   0   0   0   0   0\n",
      "    0   0   0   0   0   0   0   0   0   0]\n",
      " [  0   0   0   0   0   0   0   0   0   0   0   0   0   0   0   0   0   0\n",
      "    0   0   0   0   0   0   0   0   0   0]\n",
      " [  0   0   0   0   0   0   0   0   0   0   0   0   0   0   0   0   0   0\n",
      "    0   0   0   0   0   0   0   0   0   0]\n",
      " [  0   0   0   0   0   0   0   0   0   0   0   0   0   0   0  79 237  37\n",
      "    0   0   0   0   0   0   0   0   0   0]\n",
      " [  0   0   0   0   0   0   0   0   0   0   0   0   0   0  41 243 239  39\n",
      "    0   0   0   0   0   0   0   0   0   0]\n",
      " [  0   0   0   0   0   0   0   0   0   0   0   0   0  18 207 254 140   0\n",
      "    0   0   0   0   0   0   0   0   0   0]\n",
      " [  0   0   0   0   0   0   0   0   0   0   0   0   0 143 254 254   5   0\n",
      "    0   0   0   0   0   0   0   0   0   0]\n",
      " [  0   0   0   0   0   0   0   0   0   0   0   0 112 251 249 228   4   0\n",
      "    0   0   0   0   0   0   0   0   0   0]\n",
      " [  0   0   0   0   0   0   0   0   0   0   0  41 228 254 202   0   0   0\n",
      "    0   0   0   0   0   0   0   0   0   0]\n",
      " [  0   0   0   0   0   0   0   0   0   0   5 214 254 254 147   0   0  12\n",
      "   14   0   0   0   0   0   0   0   0   0]\n",
      " [  0   0   0   0   0   0   0   0   0   0  99 254 254 181   0   0  79 233\n",
      "  244 135   7   0   0   0   0   0   0   0]\n",
      " [  0   0   0   0   0   0   0   0   0  22 242 254 225  40   0   3 250 254\n",
      "  254 254 157   0   0   0   0   0   0   0]\n",
      " [  0   0   0   0   0   0   0   0   0  91 254 251  70   0   0 163 254 178\n",
      "  224 254 234   0   0   0   0   0   0   0]\n",
      " [  0   0   0   0   0   0   0   0  33 221 254 198   0   0  83 244 254  62\n",
      "  135 254 234   0   0   0   0   0   0   0]\n",
      " [  0   0   0   0   0   0   0   0  84 254 254  33   0   0 156 254 153   2\n",
      "   51 254 237  14   0   0   0   0   0   0]\n",
      " [  0   0   0   0   0   0   0   0  84 254 254  31   0  41 231 254  30   0\n",
      "  135 254 247  54   0   0   0   0   0   0]\n",
      " [  0   0   0   0   0   0   0   0  84 254 254  31   0 110 254 254   5   0\n",
      "  148 254 234   0   0   0   0   0   0   0]\n",
      " [  0   0   0   0   0   0   0   0  84 254 254  63   0 110 254 254   5  28\n",
      "  244 254 234   0   0   0   0   0   0   0]\n",
      " [  0   0   0   0   0   0   0   0  84 254 255 187   8 110 254 254 128 213\n",
      "  254 248  87   0   0   0   0   0   0   0]\n",
      " [  0   0   0   0   0   0   0   0  62 249 254 254 200 207 254 254 254 254\n",
      "  254 148   0   0   0   0   0   0   0   0]\n",
      " [  0   0   0   0   0   0   0   0   0  99 254 254 254 254 254 254 254 254\n",
      "  219  11   0   0   0   0   0   0   0   0]\n",
      " [  0   0   0   0   0   0   0   0   0  10 123 248 254 254 254 254 204  94\n",
      "    6   0   0   0   0   0   0   0   0   0]\n",
      " [  0   0   0   0   0   0   0   0   0   0   0  47 176 210 150 150  22   0\n",
      "    0   0   0   0   0   0   0   0   0   0]\n",
      " [  0   0   0   0   0   0   0   0   0   0   0   0   0   0   0   0   0   0\n",
      "    0   0   0   0   0   0   0   0   0   0]\n",
      " [  0   0   0   0   0   0   0   0   0   0   0   0   0   0   0   0   0   0\n",
      "    0   0   0   0   0   0   0   0   0   0]\n",
      " [  0   0   0   0   0   0   0   0   0   0   0   0   0   0   0   0   0   0\n",
      "    0   0   0   0   0   0   0   0   0   0]\n",
      " [  0   0   0   0   0   0   0   0   0   0   0   0   0   0   0   0   0   0\n",
      "    0   0   0   0   0   0   0   0   0   0]\n",
      " [  0   0   0   0   0   0   0   0   0   0   0   0   0   0   0   0   0   0\n",
      "    0   0   0   0   0   0   0   0   0   0]]\n",
      "10000\n"
     ]
    },
    {
     "data": {
      "image/png": "[encoded data removed]",
      "text/plain": [
       "<Figure size 432x288 with 1 Axes>"
      ]
     },
     "metadata": {
      "needs_background": "light"
     },
     "output_type": "display_data"
    }
   ],
   "source": [
    "#chek the dataset image\n",
    "import matplotlib.pyplot as plt\n",
    "import random\n",
    "randomSample=random.choice(X_train)\n",
    "print(randomSample)\n",
    "plt.imshow(randomSample, cmap=\"gray\")\n",
    "plt.plot()\n",
    "print(X_train.shape[0])\n"
   ]
  },
  {
   "cell_type": "code",
   "execution_count": 9,
   "metadata": {},
   "outputs": [
    {
     "name": "stdout",
     "output_type": "stream",
     "text": [
      "0 AxesSubplot(0.125,0.125;0.110714x0.755)\n",
      "1 AxesSubplot(0.257857,0.125;0.110714x0.755)\n",
      "2 AxesSubplot(0.390714,0.125;0.110714x0.755)\n",
      "3 AxesSubplot(0.523571,0.125;0.110714x0.755)\n",
      "4 AxesSubplot(0.656429,0.125;0.110714x0.755)\n",
      "5 AxesSubplot(0.789286,0.125;0.110714x0.755)\n"
     ]
    },
    {
     "data": {
      "image/png": "[encoded data removed]",
      "text/plain": [
       "<Figure size 1080x720 with 6 Axes>"
      ]
     },
     "metadata": {
      "needs_background": "light"
     },
     "output_type": "display_data"
    }
   ],
   "source": [
    "fig,axes=plt.subplots(nrows=1,ncols=6, figsize=(15,10))\n",
    "for i,ax in enumerate(axes):\n",
    "    print(i, ax)\n",
    "    ax.imshow(X_train[i], cmap=\"gray\")\n",
    "    ax.axis()    \n",
    "plt.show()"
   ]
  },
  {
   "cell_type": "markdown",
   "metadata": {},
   "source": [
    "## Image classifier initialization"
   ]
  },
  {
   "cell_type": "code",
   "execution_count": 10,
   "metadata": {},
   "outputs": [
    {
     "name": "stdout",
     "output_type": "stream",
     "text": [
      "<class 'autokeras.tasks.image.ImageClassifier'>\n"
     ]
    }
   ],
   "source": [
    "# Initialize the image classifier. Try only 1 model architecture and increase accordingly.\n",
    "clf = ak.ImageClassifier(max_trials=1, overwrite = True)  \n",
    "print(type(clf))"
   ]
  },
  {
   "cell_type": "markdown",
   "metadata": {},
   "source": [
    "## Training the model\n",
    "### Data formats/types\n",
    "In terms of data formats and classification label types Autokeras accepts image data with/without channel dimension and for classification labels both plain labels or one hot encoded labels are accepted. With standard keras modeling/training we transformed both images and labels. Recall that the *y_train and y_test data* were not split into 10 distinct class labels, but represented as a single array with the class values. Thus, we needed to preprocess class labels by converting the 1 - dimensional numpy array to 10 - dimensional array. The same applies to normalization/standardization of input data. Hence, in the case of autoML we will skip data preprocessing as it was the case with standard ML model. \n",
    "\n",
    "tf.data.Dataset format is also supported as input data format:\n",
    "```python\n",
    "train_set = tf.data.Dataset.from_tensor_slices(((x_train,), (y_train,)))\n",
    "test_set = tf.data.Dataset.from_tensor_slices(((x_test,), (y_test,)))\n",
    "```"
   ]
  },
  {
   "cell_type": "code",
   "execution_count": 11,
   "metadata": {
    "scrolled": true
   },
   "outputs": [
    {
     "name": "stdout",
     "output_type": "stream",
     "text": [
      "Trial 1 Complete [00h 00m 11s]\n",
      "val_loss: 0.19520288705825806\n",
      "\n",
      "Best val_loss So Far: 0.19520288705825806\n",
      "Total elapsed time: 00h 00m 11s\n",
      "INFO:tensorflow:Oracle triggered exit\n",
      "313/313 [==============================] - 11s 34ms/step - loss: 0.7082 - accuracy: 0.7725\n",
      "INFO:tensorflow:Assets written to: .\\image_classifier\\best_model\\assets\n"
     ]
    }
   ],
   "source": [
    "# Feed the image classifier with training data.\n",
    "training = clf.fit(X_train, y_train, epochs=1, validation_split=0.20)  # Change no of epochs to improve the model"
   ]
  },
  {
   "cell_type": "markdown",
   "metadata": {},
   "source": [
    "## Evaluate the model"
   ]
  },
  {
   "cell_type": "code",
   "execution_count": 12,
   "metadata": {
    "scrolled": true
   },
   "outputs": [
    {
     "name": "stdout",
     "output_type": "stream",
     "text": [
      "4/4 [==============================] - 0s 5ms/step - loss: 0.1491 - accuracy: 0.9500\n",
      "Test loss: 0.14911793172359467\n",
      "Test accuracy: 0.949999988079071\n"
     ]
    }
   ],
   "source": [
    "score = clf.evaluate(X_test, y_test)\n",
    "print('Test loss:', score[0])\n",
    "print('Test accuracy:', score[1])"
   ]
  },
  {
   "cell_type": "markdown",
   "metadata": {},
   "source": [
    "# Exercise\n",
    "\n",
    "####  Change the size of input data and see what happens?\n",
    "\n",
    "####  Change the max_trials parameters and see what happens?\n",
    "\n",
    "####  Change the value of epochs parameters and see what happens with the model performance?"
   ]
  },
  {
   "cell_type": "markdown",
   "metadata": {},
   "source": [
    "## AutoModel building blocks"
   ]
  },
  {
   "cell_type": "markdown",
   "metadata": {},
   "source": [
    "```python\n",
    "input_node = ak.ImageInput()\n",
    "output_node = ak.ImageBlock(\n",
    "    # Only search ResNet architectures.\n",
    "    block_type=\"resnet\",\n",
    "    # Normalize the dataset.\n",
    "    normalize=True,\n",
    "    # Do not do data augmentation.\n",
    "    augment=False,\n",
    ")(input_node)\n",
    "output_node = ak.ClassificationHead()(output_node)\n",
    "clf = ak.AutoModel(\n",
    "    inputs=input_node, outputs=output_node, overwrite=True, max_trials=1\n",
    ")\n",
    "clf.fit(x_train, y_train, epochs=10)\n",
    "```"
   ]
  },
  {
   "cell_type": "markdown",
   "metadata": {},
   "source": [
    "```python\n",
    "input_node = ak.ImageInput()\n",
    "output_node = ak.Normalization()(input_node)\n",
    "output_node = ak.ImageAugmentation(horizontal_flip=False)(output_node)\n",
    "output_node = ak.ResNetBlock(version=\"v2\")(output_node)\n",
    "output_node = ak.ClassificationHead()(output_node)\n",
    "clf = ak.AutoModel(\n",
    "    inputs=input_node, outputs=output_node, overwrite=True, max_trials=1\n",
    ")\n",
    "clf.fit(x_train, y_train, epochs=10)\n",
    "```"
   ]
  },
  {
   "cell_type": "markdown",
   "metadata": {},
   "source": [
    "## Export and save the best model"
   ]
  },
  {
   "cell_type": "code",
   "execution_count": 13,
   "metadata": {},
   "outputs": [],
   "source": [
    "# Export as a Keras Model.\n",
    "model = clf.export_model()\n",
    "model.save(\"model_autokeras.h5\")"
   ]
  },
  {
   "cell_type": "markdown",
   "metadata": {},
   "source": [
    "## Model summary"
   ]
  },
  {
   "cell_type": "code",
   "execution_count": 14,
   "metadata": {},
   "outputs": [
    {
     "name": "stdout",
     "output_type": "stream",
     "text": [
      "Model: \"model\"\n",
      "_________________________________________________________________\n",
      "Layer (type)                 Output Shape              Param #   \n",
      "=================================================================\n",
      "input_1 (InputLayer)         [(None, 28, 28)]          0         \n",
      "_________________________________________________________________\n",
      "cast_to_float32 (CastToFloat (None, 28, 28)            0         \n",
      "_________________________________________________________________\n",
      "expand_last_dim (ExpandLastD (None, 28, 28, 1)         0         \n",
      "_________________________________________________________________\n",
      "normalization (Normalization (None, 28, 28, 1)         3         \n",
      "_________________________________________________________________\n",
      "conv2d (Conv2D)              (None, 26, 26, 32)        320       \n",
      "_________________________________________________________________\n",
      "conv2d_1 (Conv2D)            (None, 24, 24, 64)        18496     \n",
      "_________________________________________________________________\n",
      "max_pooling2d (MaxPooling2D) (None, 12, 12, 64)        0         \n",
      "_________________________________________________________________\n",
      "dropout (Dropout)            (None, 12, 12, 64)        0         \n",
      "_________________________________________________________________\n",
      "flatten (Flatten)            (None, 9216)              0         \n",
      "_________________________________________________________________\n",
      "dropout_1 (Dropout)          (None, 9216)              0         \n",
      "_________________________________________________________________\n",
      "dense (Dense)                (None, 10)                92170     \n",
      "_________________________________________________________________\n",
      "classification_head_1 (Softm (None, 10)                0         \n",
      "=================================================================\n",
      "Total params: 110,989\n",
      "Trainable params: 110,986\n",
      "Non-trainable params: 3\n",
      "_________________________________________________________________\n",
      "None\n"
     ]
    }
   ],
   "source": [
    "print(model.summary())"
   ]
  },
  {
   "cell_type": "markdown",
   "metadata": {},
   "source": [
    "## Make predictions"
   ]
  },
  {
   "cell_type": "code",
   "execution_count": 45,
   "metadata": {},
   "outputs": [
    {
     "name": "stdout",
     "output_type": "stream",
     "text": [
      "[['7']\n",
      " ['2']\n",
      " ['1']\n",
      " ['0']\n",
      " ['4']\n",
      " ['1']\n",
      " ['4']\n",
      " ['9']\n",
      " ['6']\n",
      " ['9']]\n"
     ]
    }
   ],
   "source": [
    "predicted_y = clf.predict(X_test)\n",
    "print(predicted_y[:10])"
   ]
  },
  {
   "cell_type": "code",
   "execution_count": 48,
   "metadata": {},
   "outputs": [
    {
     "name": "stdout",
     "output_type": "stream",
     "text": [
      "\n",
      " [['4']]\n"
     ]
    },
    {
     "data": {
      "image/png": "[encoded data removed]",
      "text/plain": [
       "<Figure size 432x288 with 1 Axes>"
      ]
     },
     "metadata": {
      "needs_background": "light"
     },
     "output_type": "display_data"
    }
   ],
   "source": [
    "# take an image from a test set and check the model's prediciton\n",
    "randomSample=random.choice(X_test)\n",
    "plt.imshow(randomSample, cmap=\"gray\")\n",
    "plt.plot()\n",
    "randomSample=randomSample.reshape(1,28,28)\n",
    "predicted_y = clf.predict(randomSample)\n",
    "print('\\n',predicted_y)"
   ]
  },
  {
   "cell_type": "markdown",
   "metadata": {},
   "source": [
    "# 2. Cloud based cognitive services\n",
    "* Microsoft's Video Indexer (https://www.videoindexer.ai/)\n",
    "* Google's Video AI (https://cloud.google.com/video-intelligence)\n",
    "* Amazon's SageMaker (https://aws.amazon.com/sagemaker/?nc2=h_ql_prod_ml_sm)."
   ]
  },
  {
   "cell_type": "markdown",
   "metadata": {},
   "source": [
    "This is an example how image dataset was created within a cloud environment to detect objects in images. In this example GCP - [Google Cloud Platform Vision module](https://console.cloud.google.com/vision/datasets?project=tvdetection01) was used to upload, store, create, label, train, validate and export ML model to mobile, web or containerized platforms."
   ]
  },
  {
   "cell_type": "markdown",
   "metadata": {},
   "source": [
    "# 3. Additional information "
   ]
  },
  {
   "cell_type": "markdown",
   "metadata": {},
   "source": [
    "For those who want to find out more the achievements in the field of Computer Vision and Image Processing please check the sources listed below:\n",
    " \n",
    "\n",
    "Check the following conferences/journals:\n",
    "\n",
    "* CVPR: IEEE Conference on Computer Vision and Pattern Recognition\n",
    "* JVIR: Journal of Visual Communication and Image Representation\n",
    "* ICCV: International Conference on Computer Vision\n",
    "* ECCV: European Conference on Computer Vision\n",
    "* NIPS: Neural Information Processing Systems\n",
    "* ICML: International Conference on Machine Learning\n",
    "\n",
    " \n",
    "\n",
    "web sites:\n",
    "\n",
    "* https://www.nvidia.com/en-us/research/computer-vision/\n",
    "\n",
    "* https://arxiv.org/\n",
    "\n",
    "* https://cs.stanford.edu/people/karpathy/deepvideo/\n",
    "\n",
    "* https://cloud.google.com/vision/\n",
    "\n",
    "* https://www.microsoft.com/en-us/research/research-area/computer-vision/\n",
    "\n",
    "* http://vision.stanford.edu/\n",
    "\n",
    "* https://www.research.ibm.com/artificial-intelligence/computer-vision/\n",
    "\n",
    " \n",
    "\n",
    "and books:\n",
    "\n",
    "* CV: Algorithms and Applications, Richard Szeliski\n",
    "\n",
    "* CV: Models, Learning, and Inference, Simon Prince\n",
    "\n",
    "* CV: A Modern Approach, D. A. Forsyth, J. P. Ponce\n",
    "\n",
    "* Machine Vision, R. Jain, R. Kasturi, B. \n",
    "\n",
    "* Practical Computer Vision With SimpleCV, Kurt DeMaagd, Anthony Oliver, Nathan Oostendorp, and Katherine Scott\n",
    "\n",
    "* Digital Image Processing, R. C. Gonzalez, R. E. Woods.\n",
    "\n",
    " \n",
    "\n",
    "\n",
    "Follow the latest work/posts/blogs written by top researchers in the field such as Alex Krizhevsky, Andrew Ng,  Andrej Karpathy, Geoffrey E. Hinton, Ilya Sutskever, etc.\n",
    "\n",
    " \n",
    "Check out data competitions such as Kaggle competition related to CV and DIP - https://www.kaggle.com/competitions or DrivenData competitions related to CV and DIP - https://www.drivendata.org/competitions/."
   ]
  }
 ],
 "metadata": {
  "kernelspec": {
   "display_name": "Python 3",
   "language": "python",
   "name": "python3"
  },
  "language_info": {
   "codemirror_mode": {
    "name": "ipython",
    "version": 3
   },
   "file_extension": ".py",
   "mimetype": "text/x-python",
   "name": "python",
   "nbconvert_exporter": "python",
   "pygments_lexer": "ipython3",
   "version": "3.8.5"
  }
 },
 "nbformat": 4,
 "nbformat_minor": 4
}
